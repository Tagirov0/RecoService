{
  "cells": [
    {
      "cell_type": "code",
      "execution_count": 1,
      "id": "73d9fa3b",
      "metadata": {
        "ExecuteTime": {
          "end_time": "2021-10-28T18:39:51.562051Z",
          "start_time": "2021-10-28T18:39:49.474990Z"
        },
        "id": "73d9fa3b"
      },
      "outputs": [],
      "source": [
        "import ast\n",
        "import json\n",
        "import matplotlib.pyplot as plt\n",
        "import numpy as np\n",
        "import os\n",
        "import pandas as pd\n",
        "import pickle\n",
        "import tensorflow as tf\n",
        "import tensorflow.keras.backend as K\n",
        "import warnings\n",
        "warnings.filterwarnings('ignore')\n",
        "\n",
        "from collections import Counter\n",
        "from random import randint, random\n",
        "from scipy.sparse import coo_matrix, hstack\n",
        "from sklearn.metrics.pairwise import euclidean_distances, cosine_distances, cosine_similarity\n",
        "from tensorflow import keras\n",
        "from tqdm import tqdm"
      ]
    },
    {
      "cell_type": "markdown",
      "id": "0ce80627",
      "metadata": {
        "id": "0ce80627"
      },
      "source": [
        "## Считаем препроцессные данные из прошлого ноутбучка"
      ]
    },
    {
      "cell_type": "code",
      "source": [
        "from google.colab import drive\n",
        "drive.mount('/content/drive')"
      ],
      "metadata": {
        "colab": {
          "base_uri": "https://localhost:8080/"
        },
        "id": "S0oUBnsilEb-",
        "outputId": "395c346b-e03d-48bc-e156-11ec0c8e6fe4"
      },
      "id": "S0oUBnsilEb-",
      "execution_count": 2,
      "outputs": [
        {
          "output_type": "stream",
          "name": "stdout",
          "text": [
            "Drive already mounted at /content/drive; to attempt to forcibly remount, call drive.mount(\"/content/drive\", force_remount=True).\n"
          ]
        }
      ]
    },
    {
      "cell_type": "code",
      "execution_count": 43,
      "id": "25508632",
      "metadata": {
        "ExecuteTime": {
          "end_time": "2021-10-28T18:39:51.661446Z",
          "start_time": "2021-10-28T18:39:51.563879Z"
        },
        "id": "25508632"
      },
      "outputs": [],
      "source": [
        "interactions_df = pd.read_csv('/content/drive/MyDrive/ITMO/MTS/interactions_processed_kion.csv')\n",
        "users_df = pd.read_csv('/content/drive/MyDrive/ITMO/MTS/users_processed_kion.csv')\n",
        "items_df = pd.read_csv('/content/drive/MyDrive/ITMO/MTS/items_processed_kion.csv')"
      ]
    },
    {
      "cell_type": "code",
      "execution_count": 44,
      "id": "f5eacb31",
      "metadata": {
        "ExecuteTime": {
          "end_time": "2021-10-28T18:40:35.447336Z",
          "start_time": "2021-10-28T18:40:35.434541Z"
        },
        "colab": {
          "base_uri": "https://localhost:8080/",
          "height": 206
        },
        "id": "f5eacb31",
        "outputId": "b6d3ded8-64cb-4ed6-d7d5-c5670edfbda8"
      },
      "outputs": [
        {
          "output_type": "execute_result",
          "data": {
            "text/plain": [
              "   user_id  item_id last_watch_dt  total_dur  watched_pct\n",
              "0   176549     9506    2021-05-11       4250           72\n",
              "1   699317     1659    2021-05-29       8317          100\n",
              "2   656683     7107    2021-05-09         10            0\n",
              "3   864613     7638    2021-07-05      14483          100\n",
              "4   964868     9506    2021-04-30       6725          100"
            ],
            "text/html": [
              "\n",
              "  <div id=\"df-883b7959-1627-468c-ad37-da8f7c449b50\">\n",
              "    <div class=\"colab-df-container\">\n",
              "      <div>\n",
              "<style scoped>\n",
              "    .dataframe tbody tr th:only-of-type {\n",
              "        vertical-align: middle;\n",
              "    }\n",
              "\n",
              "    .dataframe tbody tr th {\n",
              "        vertical-align: top;\n",
              "    }\n",
              "\n",
              "    .dataframe thead th {\n",
              "        text-align: right;\n",
              "    }\n",
              "</style>\n",
              "<table border=\"1\" class=\"dataframe\">\n",
              "  <thead>\n",
              "    <tr style=\"text-align: right;\">\n",
              "      <th></th>\n",
              "      <th>user_id</th>\n",
              "      <th>item_id</th>\n",
              "      <th>last_watch_dt</th>\n",
              "      <th>total_dur</th>\n",
              "      <th>watched_pct</th>\n",
              "    </tr>\n",
              "  </thead>\n",
              "  <tbody>\n",
              "    <tr>\n",
              "      <th>0</th>\n",
              "      <td>176549</td>\n",
              "      <td>9506</td>\n",
              "      <td>2021-05-11</td>\n",
              "      <td>4250</td>\n",
              "      <td>72</td>\n",
              "    </tr>\n",
              "    <tr>\n",
              "      <th>1</th>\n",
              "      <td>699317</td>\n",
              "      <td>1659</td>\n",
              "      <td>2021-05-29</td>\n",
              "      <td>8317</td>\n",
              "      <td>100</td>\n",
              "    </tr>\n",
              "    <tr>\n",
              "      <th>2</th>\n",
              "      <td>656683</td>\n",
              "      <td>7107</td>\n",
              "      <td>2021-05-09</td>\n",
              "      <td>10</td>\n",
              "      <td>0</td>\n",
              "    </tr>\n",
              "    <tr>\n",
              "      <th>3</th>\n",
              "      <td>864613</td>\n",
              "      <td>7638</td>\n",
              "      <td>2021-07-05</td>\n",
              "      <td>14483</td>\n",
              "      <td>100</td>\n",
              "    </tr>\n",
              "    <tr>\n",
              "      <th>4</th>\n",
              "      <td>964868</td>\n",
              "      <td>9506</td>\n",
              "      <td>2021-04-30</td>\n",
              "      <td>6725</td>\n",
              "      <td>100</td>\n",
              "    </tr>\n",
              "  </tbody>\n",
              "</table>\n",
              "</div>\n",
              "      <button class=\"colab-df-convert\" onclick=\"convertToInteractive('df-883b7959-1627-468c-ad37-da8f7c449b50')\"\n",
              "              title=\"Convert this dataframe to an interactive table.\"\n",
              "              style=\"display:none;\">\n",
              "        \n",
              "  <svg xmlns=\"http://www.w3.org/2000/svg\" height=\"24px\"viewBox=\"0 0 24 24\"\n",
              "       width=\"24px\">\n",
              "    <path d=\"M0 0h24v24H0V0z\" fill=\"none\"/>\n",
              "    <path d=\"M18.56 5.44l.94 2.06.94-2.06 2.06-.94-2.06-.94-.94-2.06-.94 2.06-2.06.94zm-11 1L8.5 8.5l.94-2.06 2.06-.94-2.06-.94L8.5 2.5l-.94 2.06-2.06.94zm10 10l.94 2.06.94-2.06 2.06-.94-2.06-.94-.94-2.06-.94 2.06-2.06.94z\"/><path d=\"M17.41 7.96l-1.37-1.37c-.4-.4-.92-.59-1.43-.59-.52 0-1.04.2-1.43.59L10.3 9.45l-7.72 7.72c-.78.78-.78 2.05 0 2.83L4 21.41c.39.39.9.59 1.41.59.51 0 1.02-.2 1.41-.59l7.78-7.78 2.81-2.81c.8-.78.8-2.07 0-2.86zM5.41 20L4 18.59l7.72-7.72 1.47 1.35L5.41 20z\"/>\n",
              "  </svg>\n",
              "      </button>\n",
              "      \n",
              "  <style>\n",
              "    .colab-df-container {\n",
              "      display:flex;\n",
              "      flex-wrap:wrap;\n",
              "      gap: 12px;\n",
              "    }\n",
              "\n",
              "    .colab-df-convert {\n",
              "      background-color: #E8F0FE;\n",
              "      border: none;\n",
              "      border-radius: 50%;\n",
              "      cursor: pointer;\n",
              "      display: none;\n",
              "      fill: #1967D2;\n",
              "      height: 32px;\n",
              "      padding: 0 0 0 0;\n",
              "      width: 32px;\n",
              "    }\n",
              "\n",
              "    .colab-df-convert:hover {\n",
              "      background-color: #E2EBFA;\n",
              "      box-shadow: 0px 1px 2px rgba(60, 64, 67, 0.3), 0px 1px 3px 1px rgba(60, 64, 67, 0.15);\n",
              "      fill: #174EA6;\n",
              "    }\n",
              "\n",
              "    [theme=dark] .colab-df-convert {\n",
              "      background-color: #3B4455;\n",
              "      fill: #D2E3FC;\n",
              "    }\n",
              "\n",
              "    [theme=dark] .colab-df-convert:hover {\n",
              "      background-color: #434B5C;\n",
              "      box-shadow: 0px 1px 3px 1px rgba(0, 0, 0, 0.15);\n",
              "      filter: drop-shadow(0px 1px 2px rgba(0, 0, 0, 0.3));\n",
              "      fill: #FFFFFF;\n",
              "    }\n",
              "  </style>\n",
              "\n",
              "      <script>\n",
              "        const buttonEl =\n",
              "          document.querySelector('#df-883b7959-1627-468c-ad37-da8f7c449b50 button.colab-df-convert');\n",
              "        buttonEl.style.display =\n",
              "          google.colab.kernel.accessAllowed ? 'block' : 'none';\n",
              "\n",
              "        async function convertToInteractive(key) {\n",
              "          const element = document.querySelector('#df-883b7959-1627-468c-ad37-da8f7c449b50');\n",
              "          const dataTable =\n",
              "            await google.colab.kernel.invokeFunction('convertToInteractive',\n",
              "                                                     [key], {});\n",
              "          if (!dataTable) return;\n",
              "\n",
              "          const docLinkHtml = 'Like what you see? Visit the ' +\n",
              "            '<a target=\"_blank\" href=https://colab.research.google.com/notebooks/data_table.ipynb>data table notebook</a>'\n",
              "            + ' to learn more about interactive tables.';\n",
              "          element.innerHTML = '';\n",
              "          dataTable['output_type'] = 'display_data';\n",
              "          await google.colab.output.renderOutput(dataTable, element);\n",
              "          const docLink = document.createElement('div');\n",
              "          docLink.innerHTML = docLinkHtml;\n",
              "          element.appendChild(docLink);\n",
              "        }\n",
              "      </script>\n",
              "    </div>\n",
              "  </div>\n",
              "  "
            ]
          },
          "metadata": {},
          "execution_count": 44
        }
      ],
      "source": [
        "interactions_df['last_watch_dt'] = pd.to_datetime(interactions_df['last_watch_dt'], format='%Y-%m-%d')\n",
        "interactions_df.head()"
      ]
    },
    {
      "cell_type": "code",
      "execution_count": 45,
      "id": "61669d0d",
      "metadata": {
        "ExecuteTime": {
          "end_time": "2021-10-28T18:40:36.103997Z",
          "start_time": "2021-10-28T18:40:36.094699Z"
        },
        "id": "61669d0d"
      },
      "outputs": [],
      "source": [
        "items_df = items_df.rename(columns = {'id' : 'item_id'})"
      ]
    },
    {
      "cell_type": "markdown",
      "id": "cd252422",
      "metadata": {
        "id": "cd252422"
      },
      "source": [
        "## Готовим фичи пользователей"
      ]
    },
    {
      "cell_type": "markdown",
      "id": "pBdccMPAr7KR",
      "metadata": {
        "id": "pBdccMPAr7KR"
      },
      "source": [
        "Посмотрим, какие фичи в датасете фильмов являются категориальными и закодируем их с помощью one-hot encoding."
      ]
    },
    {
      "cell_type": "code",
      "execution_count": 46,
      "id": "692270ac",
      "metadata": {
        "ExecuteTime": {
          "end_time": "2021-10-28T18:40:37.156260Z",
          "start_time": "2021-10-28T18:40:37.138422Z"
        },
        "colab": {
          "base_uri": "https://localhost:8080/",
          "height": 270
        },
        "id": "692270ac",
        "outputId": "77dbe63f-a16d-4c4d-e579-d61046167eaf"
      },
      "outputs": [
        {
          "output_type": "execute_result",
          "data": {
            "text/plain": [
              "   user_id  age_age_18_24  age_age_25_34  age_age_35_44  age_age_45_54  \\\n",
              "0   973171              0              1              0              0   \n",
              "1   962099              1              0              0              0   \n",
              "2  1047345              0              0              0              1   \n",
              "3   721985              0              0              0              1   \n",
              "4   704055              0              0              1              0   \n",
              "\n",
              "   age_age_55_64  age_age_65_inf  age_age_unknown  income_income_0_20  \\\n",
              "0              0               0                0                   0   \n",
              "1              0               0                0                   0   \n",
              "2              0               0                0                   0   \n",
              "3              0               0                0                   0   \n",
              "4              0               0                0                   0   \n",
              "\n",
              "   income_income_150_inf  income_income_20_40  income_income_40_60  \\\n",
              "0                      0                    0                    0   \n",
              "1                      0                    1                    0   \n",
              "2                      0                    0                    1   \n",
              "3                      0                    1                    0   \n",
              "4                      0                    0                    0   \n",
              "\n",
              "   income_income_60_90  income_income_90_150  income_income_unknown  sex_F  \\\n",
              "0                    1                     0                      0      0   \n",
              "1                    0                     0                      0      0   \n",
              "2                    0                     0                      0      1   \n",
              "3                    0                     0                      0      1   \n",
              "4                    1                     0                      0      1   \n",
              "\n",
              "   sex_M  sex_sex_unknown  kids_flg_False  kids_flg_True  \n",
              "0      1                0               0              1  \n",
              "1      1                0               1              0  \n",
              "2      0                0               1              0  \n",
              "3      0                0               1              0  \n",
              "4      0                0               1              0  "
            ],
            "text/html": [
              "\n",
              "  <div id=\"df-ca0ef8d9-4e2f-489d-b113-adffdbd88faf\">\n",
              "    <div class=\"colab-df-container\">\n",
              "      <div>\n",
              "<style scoped>\n",
              "    .dataframe tbody tr th:only-of-type {\n",
              "        vertical-align: middle;\n",
              "    }\n",
              "\n",
              "    .dataframe tbody tr th {\n",
              "        vertical-align: top;\n",
              "    }\n",
              "\n",
              "    .dataframe thead th {\n",
              "        text-align: right;\n",
              "    }\n",
              "</style>\n",
              "<table border=\"1\" class=\"dataframe\">\n",
              "  <thead>\n",
              "    <tr style=\"text-align: right;\">\n",
              "      <th></th>\n",
              "      <th>user_id</th>\n",
              "      <th>age_age_18_24</th>\n",
              "      <th>age_age_25_34</th>\n",
              "      <th>age_age_35_44</th>\n",
              "      <th>age_age_45_54</th>\n",
              "      <th>age_age_55_64</th>\n",
              "      <th>age_age_65_inf</th>\n",
              "      <th>age_age_unknown</th>\n",
              "      <th>income_income_0_20</th>\n",
              "      <th>income_income_150_inf</th>\n",
              "      <th>income_income_20_40</th>\n",
              "      <th>income_income_40_60</th>\n",
              "      <th>income_income_60_90</th>\n",
              "      <th>income_income_90_150</th>\n",
              "      <th>income_income_unknown</th>\n",
              "      <th>sex_F</th>\n",
              "      <th>sex_M</th>\n",
              "      <th>sex_sex_unknown</th>\n",
              "      <th>kids_flg_False</th>\n",
              "      <th>kids_flg_True</th>\n",
              "    </tr>\n",
              "  </thead>\n",
              "  <tbody>\n",
              "    <tr>\n",
              "      <th>0</th>\n",
              "      <td>973171</td>\n",
              "      <td>0</td>\n",
              "      <td>1</td>\n",
              "      <td>0</td>\n",
              "      <td>0</td>\n",
              "      <td>0</td>\n",
              "      <td>0</td>\n",
              "      <td>0</td>\n",
              "      <td>0</td>\n",
              "      <td>0</td>\n",
              "      <td>0</td>\n",
              "      <td>0</td>\n",
              "      <td>1</td>\n",
              "      <td>0</td>\n",
              "      <td>0</td>\n",
              "      <td>0</td>\n",
              "      <td>1</td>\n",
              "      <td>0</td>\n",
              "      <td>0</td>\n",
              "      <td>1</td>\n",
              "    </tr>\n",
              "    <tr>\n",
              "      <th>1</th>\n",
              "      <td>962099</td>\n",
              "      <td>1</td>\n",
              "      <td>0</td>\n",
              "      <td>0</td>\n",
              "      <td>0</td>\n",
              "      <td>0</td>\n",
              "      <td>0</td>\n",
              "      <td>0</td>\n",
              "      <td>0</td>\n",
              "      <td>0</td>\n",
              "      <td>1</td>\n",
              "      <td>0</td>\n",
              "      <td>0</td>\n",
              "      <td>0</td>\n",
              "      <td>0</td>\n",
              "      <td>0</td>\n",
              "      <td>1</td>\n",
              "      <td>0</td>\n",
              "      <td>1</td>\n",
              "      <td>0</td>\n",
              "    </tr>\n",
              "    <tr>\n",
              "      <th>2</th>\n",
              "      <td>1047345</td>\n",
              "      <td>0</td>\n",
              "      <td>0</td>\n",
              "      <td>0</td>\n",
              "      <td>1</td>\n",
              "      <td>0</td>\n",
              "      <td>0</td>\n",
              "      <td>0</td>\n",
              "      <td>0</td>\n",
              "      <td>0</td>\n",
              "      <td>0</td>\n",
              "      <td>1</td>\n",
              "      <td>0</td>\n",
              "      <td>0</td>\n",
              "      <td>0</td>\n",
              "      <td>1</td>\n",
              "      <td>0</td>\n",
              "      <td>0</td>\n",
              "      <td>1</td>\n",
              "      <td>0</td>\n",
              "    </tr>\n",
              "    <tr>\n",
              "      <th>3</th>\n",
              "      <td>721985</td>\n",
              "      <td>0</td>\n",
              "      <td>0</td>\n",
              "      <td>0</td>\n",
              "      <td>1</td>\n",
              "      <td>0</td>\n",
              "      <td>0</td>\n",
              "      <td>0</td>\n",
              "      <td>0</td>\n",
              "      <td>0</td>\n",
              "      <td>1</td>\n",
              "      <td>0</td>\n",
              "      <td>0</td>\n",
              "      <td>0</td>\n",
              "      <td>0</td>\n",
              "      <td>1</td>\n",
              "      <td>0</td>\n",
              "      <td>0</td>\n",
              "      <td>1</td>\n",
              "      <td>0</td>\n",
              "    </tr>\n",
              "    <tr>\n",
              "      <th>4</th>\n",
              "      <td>704055</td>\n",
              "      <td>0</td>\n",
              "      <td>0</td>\n",
              "      <td>1</td>\n",
              "      <td>0</td>\n",
              "      <td>0</td>\n",
              "      <td>0</td>\n",
              "      <td>0</td>\n",
              "      <td>0</td>\n",
              "      <td>0</td>\n",
              "      <td>0</td>\n",
              "      <td>0</td>\n",
              "      <td>1</td>\n",
              "      <td>0</td>\n",
              "      <td>0</td>\n",
              "      <td>1</td>\n",
              "      <td>0</td>\n",
              "      <td>0</td>\n",
              "      <td>1</td>\n",
              "      <td>0</td>\n",
              "    </tr>\n",
              "  </tbody>\n",
              "</table>\n",
              "</div>\n",
              "      <button class=\"colab-df-convert\" onclick=\"convertToInteractive('df-ca0ef8d9-4e2f-489d-b113-adffdbd88faf')\"\n",
              "              title=\"Convert this dataframe to an interactive table.\"\n",
              "              style=\"display:none;\">\n",
              "        \n",
              "  <svg xmlns=\"http://www.w3.org/2000/svg\" height=\"24px\"viewBox=\"0 0 24 24\"\n",
              "       width=\"24px\">\n",
              "    <path d=\"M0 0h24v24H0V0z\" fill=\"none\"/>\n",
              "    <path d=\"M18.56 5.44l.94 2.06.94-2.06 2.06-.94-2.06-.94-.94-2.06-.94 2.06-2.06.94zm-11 1L8.5 8.5l.94-2.06 2.06-.94-2.06-.94L8.5 2.5l-.94 2.06-2.06.94zm10 10l.94 2.06.94-2.06 2.06-.94-2.06-.94-.94-2.06-.94 2.06-2.06.94z\"/><path d=\"M17.41 7.96l-1.37-1.37c-.4-.4-.92-.59-1.43-.59-.52 0-1.04.2-1.43.59L10.3 9.45l-7.72 7.72c-.78.78-.78 2.05 0 2.83L4 21.41c.39.39.9.59 1.41.59.51 0 1.02-.2 1.41-.59l7.78-7.78 2.81-2.81c.8-.78.8-2.07 0-2.86zM5.41 20L4 18.59l7.72-7.72 1.47 1.35L5.41 20z\"/>\n",
              "  </svg>\n",
              "      </button>\n",
              "      \n",
              "  <style>\n",
              "    .colab-df-container {\n",
              "      display:flex;\n",
              "      flex-wrap:wrap;\n",
              "      gap: 12px;\n",
              "    }\n",
              "\n",
              "    .colab-df-convert {\n",
              "      background-color: #E8F0FE;\n",
              "      border: none;\n",
              "      border-radius: 50%;\n",
              "      cursor: pointer;\n",
              "      display: none;\n",
              "      fill: #1967D2;\n",
              "      height: 32px;\n",
              "      padding: 0 0 0 0;\n",
              "      width: 32px;\n",
              "    }\n",
              "\n",
              "    .colab-df-convert:hover {\n",
              "      background-color: #E2EBFA;\n",
              "      box-shadow: 0px 1px 2px rgba(60, 64, 67, 0.3), 0px 1px 3px 1px rgba(60, 64, 67, 0.15);\n",
              "      fill: #174EA6;\n",
              "    }\n",
              "\n",
              "    [theme=dark] .colab-df-convert {\n",
              "      background-color: #3B4455;\n",
              "      fill: #D2E3FC;\n",
              "    }\n",
              "\n",
              "    [theme=dark] .colab-df-convert:hover {\n",
              "      background-color: #434B5C;\n",
              "      box-shadow: 0px 1px 3px 1px rgba(0, 0, 0, 0.15);\n",
              "      filter: drop-shadow(0px 1px 2px rgba(0, 0, 0, 0.3));\n",
              "      fill: #FFFFFF;\n",
              "    }\n",
              "  </style>\n",
              "\n",
              "      <script>\n",
              "        const buttonEl =\n",
              "          document.querySelector('#df-ca0ef8d9-4e2f-489d-b113-adffdbd88faf button.colab-df-convert');\n",
              "        buttonEl.style.display =\n",
              "          google.colab.kernel.accessAllowed ? 'block' : 'none';\n",
              "\n",
              "        async function convertToInteractive(key) {\n",
              "          const element = document.querySelector('#df-ca0ef8d9-4e2f-489d-b113-adffdbd88faf');\n",
              "          const dataTable =\n",
              "            await google.colab.kernel.invokeFunction('convertToInteractive',\n",
              "                                                     [key], {});\n",
              "          if (!dataTable) return;\n",
              "\n",
              "          const docLinkHtml = 'Like what you see? Visit the ' +\n",
              "            '<a target=\"_blank\" href=https://colab.research.google.com/notebooks/data_table.ipynb>data table notebook</a>'\n",
              "            + ' to learn more about interactive tables.';\n",
              "          element.innerHTML = '';\n",
              "          dataTable['output_type'] = 'display_data';\n",
              "          await google.colab.output.renderOutput(dataTable, element);\n",
              "          const docLink = document.createElement('div');\n",
              "          docLink.innerHTML = docLinkHtml;\n",
              "          element.appendChild(docLink);\n",
              "        }\n",
              "      </script>\n",
              "    </div>\n",
              "  </div>\n",
              "  "
            ]
          },
          "metadata": {},
          "execution_count": 46
        }
      ],
      "source": [
        "user_cat_feats = [\"age\", \"income\", \"sex\", \"kids_flg\"]\n",
        "# из исходного датафрейма оставим только item_id - этот признак нам понадобится позже\n",
        "# для того, чтобы маппить айтемы из датафрейма с фильмами с айтемами \n",
        "# из датафрейма с взаимодействиями\n",
        "users_ohe_df = users_df.user_id\n",
        "for feat in user_cat_feats:\n",
        "    # получаем датафрейм с one-hot encoding для каждой категориальной фичи\n",
        "    ohe_feat_df = pd.get_dummies(users_df[feat], prefix=feat)\n",
        "    # конкатенируем ohe-hot датафрейм с датафреймом, \n",
        "    # который мы получили на предыдущем шаге\n",
        "    users_ohe_df = pd.concat([users_ohe_df, ohe_feat_df], axis=1)\n",
        "\n",
        "users_ohe_df.head()"
      ]
    },
    {
      "cell_type": "markdown",
      "id": "74cdbd93",
      "metadata": {
        "id": "74cdbd93"
      },
      "source": [
        "## Готовим фичи айтемов"
      ]
    },
    {
      "cell_type": "markdown",
      "id": "5kHzJ91Mr35c",
      "metadata": {
        "id": "5kHzJ91Mr35c"
      },
      "source": [
        "Кодируем их точно так же - one-hot'ом."
      ]
    },
    {
      "cell_type": "code",
      "execution_count": 47,
      "id": "7a94ef7e",
      "metadata": {
        "ExecuteTime": {
          "end_time": "2021-10-28T18:40:37.792147Z",
          "start_time": "2021-10-28T18:40:37.537501Z"
        },
        "colab": {
          "base_uri": "https://localhost:8080/",
          "height": 421
        },
        "id": "7a94ef7e",
        "outputId": "9d5584b2-1a9a-474e-92c7-3ac5fd2c5c6f"
      },
      "outputs": [
        {
          "output_type": "execute_result",
          "data": {
            "text/plain": [
              "   item_id  content_type_film  content_type_series  \\\n",
              "0    10711                  1                    0   \n",
              "1     2508                  1                    0   \n",
              "2    10716                  1                    0   \n",
              "3     7868                  1                    0   \n",
              "4    16268                  1                    0   \n",
              "\n",
              "   release_year_cat_1920-1930  release_year_cat_1930-1940  \\\n",
              "0                           0                           0   \n",
              "1                           0                           0   \n",
              "2                           0                           0   \n",
              "3                           0                           0   \n",
              "4                           0                           0   \n",
              "\n",
              "   release_year_cat_1940-1950  release_year_cat_1950-1960  \\\n",
              "0                           0                           0   \n",
              "1                           0                           0   \n",
              "2                           0                           0   \n",
              "3                           0                           0   \n",
              "4                           0                           0   \n",
              "\n",
              "   release_year_cat_1960-1970  release_year_cat_1970-1980  \\\n",
              "0                           0                           0   \n",
              "1                           0                           0   \n",
              "2                           0                           0   \n",
              "3                           0                           0   \n",
              "4                           0                           1   \n",
              "\n",
              "   release_year_cat_1980-1990  ...  directors_ярив хоровиц  \\\n",
              "0                           0  ...                       0   \n",
              "1                           0  ...                       0   \n",
              "2                           0  ...                       0   \n",
              "3                           0  ...                       0   \n",
              "4                           0  ...                       0   \n",
              "\n",
              "   directors_ярон зильберман  directors_ярополк лапшин  \\\n",
              "0                          0                         0   \n",
              "1                          0                         0   \n",
              "2                          0                         0   \n",
              "3                          0                         0   \n",
              "4                          0                         0   \n",
              "\n",
              "   directors_ярослав лупий  directors_ярроу чейни, скотт моужер  \\\n",
              "0                        0                                    0   \n",
              "1                        0                                    0   \n",
              "2                        0                                    0   \n",
              "3                        0                                    0   \n",
              "4                        0                                    0   \n",
              "\n",
              "   directors_ясина сезар  directors_ясуоми умэцу  \\\n",
              "0                      0                       0   \n",
              "1                      0                       0   \n",
              "2                      0                       0   \n",
              "3                      0                       0   \n",
              "4                      0                       0   \n",
              "\n",
              "   directors_ёдзи фукуяма, ацуко фукусима, николас де креси, синъитиро ватанабэ, сёдзи кавамори  \\\n",
              "0                                                  0                                              \n",
              "1                                                  0                                              \n",
              "2                                                  0                                              \n",
              "3                                                  0                                              \n",
              "4                                                  0                                              \n",
              "\n",
              "   directors_ёлкин туйчиев  directors_ён сан-хо  \n",
              "0                        0                    0  \n",
              "1                        0                    0  \n",
              "2                        0                    0  \n",
              "3                        0                    0  \n",
              "4                        0                    0  \n",
              "\n",
              "[5 rows x 8589 columns]"
            ],
            "text/html": [
              "\n",
              "  <div id=\"df-5936e193-97f0-4c87-8fed-02bad991ea6e\">\n",
              "    <div class=\"colab-df-container\">\n",
              "      <div>\n",
              "<style scoped>\n",
              "    .dataframe tbody tr th:only-of-type {\n",
              "        vertical-align: middle;\n",
              "    }\n",
              "\n",
              "    .dataframe tbody tr th {\n",
              "        vertical-align: top;\n",
              "    }\n",
              "\n",
              "    .dataframe thead th {\n",
              "        text-align: right;\n",
              "    }\n",
              "</style>\n",
              "<table border=\"1\" class=\"dataframe\">\n",
              "  <thead>\n",
              "    <tr style=\"text-align: right;\">\n",
              "      <th></th>\n",
              "      <th>item_id</th>\n",
              "      <th>content_type_film</th>\n",
              "      <th>content_type_series</th>\n",
              "      <th>release_year_cat_1920-1930</th>\n",
              "      <th>release_year_cat_1930-1940</th>\n",
              "      <th>release_year_cat_1940-1950</th>\n",
              "      <th>release_year_cat_1950-1960</th>\n",
              "      <th>release_year_cat_1960-1970</th>\n",
              "      <th>release_year_cat_1970-1980</th>\n",
              "      <th>release_year_cat_1980-1990</th>\n",
              "      <th>...</th>\n",
              "      <th>directors_ярив хоровиц</th>\n",
              "      <th>directors_ярон зильберман</th>\n",
              "      <th>directors_ярополк лапшин</th>\n",
              "      <th>directors_ярослав лупий</th>\n",
              "      <th>directors_ярроу чейни, скотт моужер</th>\n",
              "      <th>directors_ясина сезар</th>\n",
              "      <th>directors_ясуоми умэцу</th>\n",
              "      <th>directors_ёдзи фукуяма, ацуко фукусима, николас де креси, синъитиро ватанабэ, сёдзи кавамори</th>\n",
              "      <th>directors_ёлкин туйчиев</th>\n",
              "      <th>directors_ён сан-хо</th>\n",
              "    </tr>\n",
              "  </thead>\n",
              "  <tbody>\n",
              "    <tr>\n",
              "      <th>0</th>\n",
              "      <td>10711</td>\n",
              "      <td>1</td>\n",
              "      <td>0</td>\n",
              "      <td>0</td>\n",
              "      <td>0</td>\n",
              "      <td>0</td>\n",
              "      <td>0</td>\n",
              "      <td>0</td>\n",
              "      <td>0</td>\n",
              "      <td>0</td>\n",
              "      <td>...</td>\n",
              "      <td>0</td>\n",
              "      <td>0</td>\n",
              "      <td>0</td>\n",
              "      <td>0</td>\n",
              "      <td>0</td>\n",
              "      <td>0</td>\n",
              "      <td>0</td>\n",
              "      <td>0</td>\n",
              "      <td>0</td>\n",
              "      <td>0</td>\n",
              "    </tr>\n",
              "    <tr>\n",
              "      <th>1</th>\n",
              "      <td>2508</td>\n",
              "      <td>1</td>\n",
              "      <td>0</td>\n",
              "      <td>0</td>\n",
              "      <td>0</td>\n",
              "      <td>0</td>\n",
              "      <td>0</td>\n",
              "      <td>0</td>\n",
              "      <td>0</td>\n",
              "      <td>0</td>\n",
              "      <td>...</td>\n",
              "      <td>0</td>\n",
              "      <td>0</td>\n",
              "      <td>0</td>\n",
              "      <td>0</td>\n",
              "      <td>0</td>\n",
              "      <td>0</td>\n",
              "      <td>0</td>\n",
              "      <td>0</td>\n",
              "      <td>0</td>\n",
              "      <td>0</td>\n",
              "    </tr>\n",
              "    <tr>\n",
              "      <th>2</th>\n",
              "      <td>10716</td>\n",
              "      <td>1</td>\n",
              "      <td>0</td>\n",
              "      <td>0</td>\n",
              "      <td>0</td>\n",
              "      <td>0</td>\n",
              "      <td>0</td>\n",
              "      <td>0</td>\n",
              "      <td>0</td>\n",
              "      <td>0</td>\n",
              "      <td>...</td>\n",
              "      <td>0</td>\n",
              "      <td>0</td>\n",
              "      <td>0</td>\n",
              "      <td>0</td>\n",
              "      <td>0</td>\n",
              "      <td>0</td>\n",
              "      <td>0</td>\n",
              "      <td>0</td>\n",
              "      <td>0</td>\n",
              "      <td>0</td>\n",
              "    </tr>\n",
              "    <tr>\n",
              "      <th>3</th>\n",
              "      <td>7868</td>\n",
              "      <td>1</td>\n",
              "      <td>0</td>\n",
              "      <td>0</td>\n",
              "      <td>0</td>\n",
              "      <td>0</td>\n",
              "      <td>0</td>\n",
              "      <td>0</td>\n",
              "      <td>0</td>\n",
              "      <td>0</td>\n",
              "      <td>...</td>\n",
              "      <td>0</td>\n",
              "      <td>0</td>\n",
              "      <td>0</td>\n",
              "      <td>0</td>\n",
              "      <td>0</td>\n",
              "      <td>0</td>\n",
              "      <td>0</td>\n",
              "      <td>0</td>\n",
              "      <td>0</td>\n",
              "      <td>0</td>\n",
              "    </tr>\n",
              "    <tr>\n",
              "      <th>4</th>\n",
              "      <td>16268</td>\n",
              "      <td>1</td>\n",
              "      <td>0</td>\n",
              "      <td>0</td>\n",
              "      <td>0</td>\n",
              "      <td>0</td>\n",
              "      <td>0</td>\n",
              "      <td>0</td>\n",
              "      <td>1</td>\n",
              "      <td>0</td>\n",
              "      <td>...</td>\n",
              "      <td>0</td>\n",
              "      <td>0</td>\n",
              "      <td>0</td>\n",
              "      <td>0</td>\n",
              "      <td>0</td>\n",
              "      <td>0</td>\n",
              "      <td>0</td>\n",
              "      <td>0</td>\n",
              "      <td>0</td>\n",
              "      <td>0</td>\n",
              "    </tr>\n",
              "  </tbody>\n",
              "</table>\n",
              "<p>5 rows × 8589 columns</p>\n",
              "</div>\n",
              "      <button class=\"colab-df-convert\" onclick=\"convertToInteractive('df-5936e193-97f0-4c87-8fed-02bad991ea6e')\"\n",
              "              title=\"Convert this dataframe to an interactive table.\"\n",
              "              style=\"display:none;\">\n",
              "        \n",
              "  <svg xmlns=\"http://www.w3.org/2000/svg\" height=\"24px\"viewBox=\"0 0 24 24\"\n",
              "       width=\"24px\">\n",
              "    <path d=\"M0 0h24v24H0V0z\" fill=\"none\"/>\n",
              "    <path d=\"M18.56 5.44l.94 2.06.94-2.06 2.06-.94-2.06-.94-.94-2.06-.94 2.06-2.06.94zm-11 1L8.5 8.5l.94-2.06 2.06-.94-2.06-.94L8.5 2.5l-.94 2.06-2.06.94zm10 10l.94 2.06.94-2.06 2.06-.94-2.06-.94-.94-2.06-.94 2.06-2.06.94z\"/><path d=\"M17.41 7.96l-1.37-1.37c-.4-.4-.92-.59-1.43-.59-.52 0-1.04.2-1.43.59L10.3 9.45l-7.72 7.72c-.78.78-.78 2.05 0 2.83L4 21.41c.39.39.9.59 1.41.59.51 0 1.02-.2 1.41-.59l7.78-7.78 2.81-2.81c.8-.78.8-2.07 0-2.86zM5.41 20L4 18.59l7.72-7.72 1.47 1.35L5.41 20z\"/>\n",
              "  </svg>\n",
              "      </button>\n",
              "      \n",
              "  <style>\n",
              "    .colab-df-container {\n",
              "      display:flex;\n",
              "      flex-wrap:wrap;\n",
              "      gap: 12px;\n",
              "    }\n",
              "\n",
              "    .colab-df-convert {\n",
              "      background-color: #E8F0FE;\n",
              "      border: none;\n",
              "      border-radius: 50%;\n",
              "      cursor: pointer;\n",
              "      display: none;\n",
              "      fill: #1967D2;\n",
              "      height: 32px;\n",
              "      padding: 0 0 0 0;\n",
              "      width: 32px;\n",
              "    }\n",
              "\n",
              "    .colab-df-convert:hover {\n",
              "      background-color: #E2EBFA;\n",
              "      box-shadow: 0px 1px 2px rgba(60, 64, 67, 0.3), 0px 1px 3px 1px rgba(60, 64, 67, 0.15);\n",
              "      fill: #174EA6;\n",
              "    }\n",
              "\n",
              "    [theme=dark] .colab-df-convert {\n",
              "      background-color: #3B4455;\n",
              "      fill: #D2E3FC;\n",
              "    }\n",
              "\n",
              "    [theme=dark] .colab-df-convert:hover {\n",
              "      background-color: #434B5C;\n",
              "      box-shadow: 0px 1px 3px 1px rgba(0, 0, 0, 0.15);\n",
              "      filter: drop-shadow(0px 1px 2px rgba(0, 0, 0, 0.3));\n",
              "      fill: #FFFFFF;\n",
              "    }\n",
              "  </style>\n",
              "\n",
              "      <script>\n",
              "        const buttonEl =\n",
              "          document.querySelector('#df-5936e193-97f0-4c87-8fed-02bad991ea6e button.colab-df-convert');\n",
              "        buttonEl.style.display =\n",
              "          google.colab.kernel.accessAllowed ? 'block' : 'none';\n",
              "\n",
              "        async function convertToInteractive(key) {\n",
              "          const element = document.querySelector('#df-5936e193-97f0-4c87-8fed-02bad991ea6e');\n",
              "          const dataTable =\n",
              "            await google.colab.kernel.invokeFunction('convertToInteractive',\n",
              "                                                     [key], {});\n",
              "          if (!dataTable) return;\n",
              "\n",
              "          const docLinkHtml = 'Like what you see? Visit the ' +\n",
              "            '<a target=\"_blank\" href=https://colab.research.google.com/notebooks/data_table.ipynb>data table notebook</a>'\n",
              "            + ' to learn more about interactive tables.';\n",
              "          element.innerHTML = '';\n",
              "          dataTable['output_type'] = 'display_data';\n",
              "          await google.colab.output.renderOutput(dataTable, element);\n",
              "          const docLink = document.createElement('div');\n",
              "          docLink.innerHTML = docLinkHtml;\n",
              "          element.appendChild(docLink);\n",
              "        }\n",
              "      </script>\n",
              "    </div>\n",
              "  </div>\n",
              "  "
            ]
          },
          "metadata": {},
          "execution_count": 47
        }
      ],
      "source": [
        "item_cat_feats = ['content_type', 'release_year_cat',\n",
        "                  'for_kids', 'age_rating', \n",
        "                  'studios', 'countries', 'directors']\n",
        "\n",
        "items_ohe_df = items_df.item_id\n",
        "\n",
        "for feat in item_cat_feats:\n",
        "    ohe_feat_df = pd.get_dummies(items_df[feat], prefix=feat)\n",
        "    items_ohe_df = pd.concat([items_ohe_df, ohe_feat_df], axis=1) \n",
        "\n",
        "items_ohe_df.head()"
      ]
    },
    {
      "cell_type": "markdown",
      "id": "cc595c20",
      "metadata": {
        "id": "cc595c20"
      },
      "source": [
        "## Подготовим данный для temporal слоя"
      ]
    },
    {
      "cell_type": "code",
      "execution_count": 48,
      "id": "076e4ebc",
      "metadata": {
        "ExecuteTime": {
          "end_time": "2021-10-28T18:40:39.717096Z",
          "start_time": "2021-10-28T18:40:38.759740Z"
        },
        "colab": {
          "base_uri": "https://localhost:8080/"
        },
        "id": "076e4ebc",
        "outputId": "1bc647d8-a4cc-4956-babd-4dfb348c4d39"
      },
      "outputs": [
        {
          "output_type": "stream",
          "name": "stdout",
          "text": [
            "N users before: 962179\n",
            "N items before: 15706\n",
            "\n",
            "N users after: 79515\n",
            "N items after: 6901\n"
          ]
        }
      ],
      "source": [
        "print(f\"N users before: {interactions_df.user_id.nunique()}\")\n",
        "print(f\"N items before: {interactions_df.item_id.nunique()}\\n\")\n",
        "\n",
        "# отфильтруем все события взаимодействий, в которых пользователь посмотрел\n",
        "# фильм менее чем на 10 процентов\n",
        "interactions_df = interactions_df[interactions_df.watched_pct > 10]\n",
        "\n",
        "valid_users = []\n",
        "\n",
        "c = Counter(interactions_df.user_id)\n",
        "for user_id, entries in c.most_common():\n",
        "    if entries > 10:\n",
        "        valid_users.append(user_id)\n",
        "\n",
        "# и соберем все фильмы, которые посмотрели больше 10 пользователей\n",
        "valid_items = []\n",
        "\n",
        "c = Counter(interactions_df.item_id)\n",
        "for item_id, entries in c.most_common():\n",
        "    if entries > 10:\n",
        "        valid_items.append(item_id)\n",
        "\n",
        "# отбросим непопулярные фильмы и неактивных юзеров\n",
        "interactions_df = interactions_df[interactions_df.user_id.isin(valid_users)]\n",
        "interactions_df = interactions_df[interactions_df.item_id.isin(valid_items)]\n",
        "\n",
        "print(f\"N users after: {interactions_df.user_id.nunique()}\")\n",
        "print(f\"N items after: {interactions_df.item_id.nunique()}\")"
      ]
    },
    {
      "cell_type": "code",
      "source": [
        "max_date = interactions_df['last_watch_dt'].max()\n",
        "\n",
        "train = interactions_df[interactions_df['last_watch_dt'] < max_date - pd.Timedelta(days=7)].copy()\n",
        "test = interactions_df[interactions_df['last_watch_dt'] >= max_date - pd.Timedelta(days=7)].copy()\n",
        "\n",
        "# Избавимся от пользователей с историей просмотров < 10\n",
        "train_count = train.groupby('user_id')['item_id'].count()\n",
        "valid_users = train_count[train_count > 5].index\n",
        "\n",
        "train = train[train['user_id'].isin(valid_users)]\n",
        "\n",
        "cold_users = set(test['user_id']) - set(train['user_id'])\n",
        "\n",
        "# Отбрасываем холодных пользователей\n",
        "test.drop(test[test['user_id'].isin(cold_users)].index, inplace=True)"
      ],
      "metadata": {
        "id": "jyyRvaKsazFl"
      },
      "id": "jyyRvaKsazFl",
      "execution_count": 49,
      "outputs": []
    },
    {
      "cell_type": "code",
      "execution_count": 50,
      "id": "d55848e1",
      "metadata": {
        "ExecuteTime": {
          "end_time": "2021-10-28T18:40:40.231703Z",
          "start_time": "2021-10-28T18:40:39.718626Z"
        },
        "colab": {
          "base_uri": "https://localhost:8080/"
        },
        "id": "d55848e1",
        "outputId": "35aee5f5-dc6e-49d5-e1de-ae755e268e34"
      },
      "outputs": [
        {
          "output_type": "stream",
          "name": "stdout",
          "text": [
            "64838\n",
            "6868\n"
          ]
        }
      ],
      "source": [
        "common_users = set(train.user_id.unique()).intersection(set(users_ohe_df.user_id.unique()))\n",
        "common_items = set(train.item_id.unique()).intersection(set(items_ohe_df.item_id.unique()))\n",
        "\n",
        "print(len(common_users))\n",
        "print(len(common_items))\n",
        "\n",
        "train = train[train.item_id.isin(common_items)]\n",
        "train = train[train.user_id.isin(common_users)]\n",
        "\n",
        "items_ohe_df = items_ohe_df[items_ohe_df.item_id.isin(common_items)]\n",
        "users_ohe_df = users_ohe_df[users_ohe_df.user_id.isin(common_users)]"
      ]
    },
    {
      "cell_type": "code",
      "source": [
        "user_id_to_uid = {user_id:uid for uid, user_id in enumerate(np.sort(train.user_id.unique()))}\n",
        "item_id_to_iid = {item_id:iid+1 for iid, item_id in enumerate(np.sort(train.item_id.unique()))}\n",
        "\n",
        "user_id_to_uid_inv = {uid:user_id for user_id, uid in user_id_to_uid.items()}\n",
        "item_id_to_idx_inv = {iid:item_id for item_id, iid in item_id_to_iid.items()}"
      ],
      "metadata": {
        "id": "SSPyC-4AHeSR"
      },
      "id": "SSPyC-4AHeSR",
      "execution_count": 51,
      "outputs": []
    },
    {
      "cell_type": "code",
      "source": [
        "# Получаем максимальную длину взаимодействий юзеров\n",
        "MAX_LEN = train.user_id.value_counts().values[0]\n",
        "\n",
        "# Получаем пользовательский взаимодействия, отсортированные по времени\n",
        "train.sort_values(by='last_watch_dt', inplace=True)\n",
        "user_temp_interactions = train.groupby('user_id')['item_id'].apply(list).values"
      ],
      "metadata": {
        "id": "2WJ-mPpdJPEg"
      },
      "id": "2WJ-mPpdJPEg",
      "execution_count": 52,
      "outputs": []
    },
    {
      "cell_type": "code",
      "source": [
        "# Добавляем паддинги\n",
        "user_temp_interactions = keras.utils.pad_sequences(user_temp_interactions, maxlen=MAX_LEN)\n",
        "user_temp_interactions = np.expand_dims(user_temp_interactions, axis=2)"
      ],
      "metadata": {
        "id": "hH-C1k-6Xcgx"
      },
      "id": "hH-C1k-6Xcgx",
      "execution_count": 53,
      "outputs": []
    },
    {
      "cell_type": "code",
      "execution_count": 55,
      "id": "4c4980ac",
      "metadata": {
        "ExecuteTime": {
          "end_time": "2021-10-28T18:41:03.744883Z",
          "start_time": "2021-10-28T18:41:03.638719Z"
        },
        "id": "4c4980ac"
      },
      "outputs": [],
      "source": [
        "items_ohe_df = items_ohe_df[items_ohe_df['item_id'].isin(train['item_id'].unique())]\n",
        "users_ohe_df = users_ohe_df[users_ohe_df['user_id'].isin(train['user_id'].unique())]\n",
        "\n",
        "# items_ohe_df[\"iid\"] = items_ohe_df[\"item_id\"].apply(lambda x: item_id_to_iid[x])\n",
        "items_ohe_df = items_ohe_df.set_index(\"item_id\")\n",
        "\n",
        "users_ohe_df[\"uid\"] = users_ohe_df[\"user_id\"].apply(lambda x: user_id_to_uid[x])\n",
        "users_ohe_df = users_ohe_df.set_index(\"uid\")"
      ]
    },
    {
      "cell_type": "code",
      "execution_count": 56,
      "id": "22c26d39",
      "metadata": {
        "ExecuteTime": {
          "end_time": "2021-10-28T18:41:03.749717Z",
          "start_time": "2021-10-28T18:41:03.746067Z"
        },
        "id": "22c26d39"
      },
      "outputs": [],
      "source": [
        "def triplet_loss(y_true, y_pred, n_dims=128, alpha=0.4):\n",
        "    # будем ожидать, что на вход функции прилетит три сконкатенированных \n",
        "    # вектора - вектор юзера и два вектора айтема\n",
        "    anchor = y_pred[:, 0:n_dims]\n",
        "    positive = y_pred[:, n_dims:n_dims*2]\n",
        "    negative = y_pred[:, n_dims*2:n_dims*3]\n",
        "\n",
        "    # считаем расстояния от вектора юзера до вектора хорошего айтема\n",
        "    pos_dist = K.sum(K.square(anchor - positive), axis=1)\n",
        "    # и до плохого\n",
        "    neg_dist = K.sum(K.square(anchor - negative), axis=1)\n",
        "\n",
        "    # считаем лосс\n",
        "    basic_loss = pos_dist - neg_dist + alpha\n",
        "    loss = K.maximum(basic_loss, 0.0) # возвращаем ноль, если лосс отрицательный\n",
        " \n",
        "    return loss"
      ]
    },
    {
      "cell_type": "markdown",
      "id": "4de262b4",
      "metadata": {
        "ExecuteTime": {
          "end_time": "2021-10-28T19:19:05.615364Z",
          "start_time": "2021-10-28T19:19:05.612463Z"
        },
        "id": "4de262b4"
      },
      "source": [
        "Попробуйте другие лоссы, например, BPR Triplet loss"
      ]
    },
    {
      "cell_type": "markdown",
      "id": "85d618b6",
      "metadata": {
        "ExecuteTime": {
          "end_time": "2021-10-23T11:20:03.327838Z",
          "start_time": "2021-10-23T11:20:03.324389Z"
        },
        "id": "85d618b6"
      },
      "source": [
        "## Генератор и семплирование\n",
        "\n",
        "Сделаем простой генератор. Он будет брать рандромного юзера, и два разных айтема - хороший пример и плохой:\n",
        "- хорошим примером будет тот айтем, который был взят из датасета взаимодействий в соответствии с распределением просмотренных айтемов для этого юзера;\n",
        "- а плохим айтемом будет просто любой другой _случайный айтем_*\n"
      ]
    },
    {
      "cell_type": "code",
      "execution_count": 57,
      "id": "7829878b",
      "metadata": {
        "ExecuteTime": {
          "end_time": "2021-10-28T18:41:03.755386Z",
          "start_time": "2021-10-28T18:41:03.750664Z"
        },
        "id": "7829878b"
      },
      "outputs": [],
      "source": [
        "def generator(items, users, interactions, batch_size=1024):\n",
        "    while True:\n",
        "        uid_meta = []\n",
        "        uid_interaction = []\n",
        "        pos = []\n",
        "        neg = []\n",
        "        for _ in range(batch_size):\n",
        "            # берем рандомный uid\n",
        "            uid_i = randint(0, interactions.shape[0]-1)\n",
        "            # id хорошего айтема\n",
        "            inter = np.squeeze(interactions[uid_i][interactions[uid_i] > 0])\n",
        "            pos_i = np.random.choice(inter)\n",
        "            # id плохого айтема\n",
        "            neg_i = np.random.choice(items.index)\n",
        "            # фичи юзера\n",
        "            uid_meta.append(users.loc[uid_i])\n",
        "            # вектор айтемов, с которыми юзер взаимодействовал\n",
        "            uid_interaction.append(interactions[uid_i])\n",
        "            # фичи хорошего айтема\n",
        "            pos.append(items.loc[pos_i])\n",
        "            # фичи плохого айтема\n",
        "            neg.append(items.loc[neg_i])\n",
        "            \n",
        "        yield [np.array(uid_meta), np.array(uid_interaction), np.array(pos), np.array(neg)], [np.array(uid_meta), np.array(uid_interaction)]\n"
      ]
    },
    {
      "cell_type": "markdown",
      "id": "8bcc3e80",
      "metadata": {
        "id": "8bcc3e80"
      },
      "source": [
        "### Сделайте генаратор, который будет использовать информацию о качестве взаимодействия юзеров с айтемами для более репрезентативного сэмплирования"
      ]
    },
    {
      "cell_type": "code",
      "execution_count": null,
      "id": "967b819f",
      "metadata": {
        "ExecuteTime": {
          "end_time": "2021-10-28T18:41:16.493030Z",
          "start_time": "2021-10-28T18:41:16.388592Z"
        },
        "id": "967b819f"
      },
      "outputs": [],
      "source": [
        "N_FACTORS = 128\n",
        "\n",
        "# в датасетах есть столбец user_id/item_id, помним, что он не является фичей для обучения!\n",
        "ITEM_MODEL_SHAPE = (items_ohe_df.shape[1], ) \n",
        "USER_META_MODEL_SHAPE = (users_ohe_df.drop([\"user_id\"], axis=1).shape[1], )\n",
        "\n",
        "\n",
        "print(f\"N_FACTORS: {N_FACTORS}\")\n",
        "print(f\"ITEM_MODEL_SHAPE: {ITEM_MODEL_SHAPE}\")\n",
        "print(f\"USER_META_MODEL_SHAPE: {USER_META_MODEL_SHAPE}\")\n",
        "print(f\"MAX_SEQUENCE_SHAPE: {MAX_LEN}\")"
      ]
    },
    {
      "cell_type": "code",
      "execution_count": 63,
      "id": "de649a01",
      "metadata": {
        "ExecuteTime": {
          "end_time": "2021-10-28T18:41:16.816499Z",
          "start_time": "2021-10-28T18:41:16.494387Z"
        },
        "id": "de649a01"
      },
      "outputs": [],
      "source": [
        "def item_model(n_factors=N_FACTORS):\n",
        "    # входной слой\n",
        "    inp = keras.layers.Input(shape=ITEM_MODEL_SHAPE)\n",
        "    \n",
        "    # полносвязный слой\n",
        "    layer_1 = keras.layers.Dense(N_FACTORS, activation='elu', use_bias=False,\n",
        "                               kernel_regularizer=keras.regularizers.l2(1e-6),\n",
        "                               activity_regularizer=keras.regularizers.l2(l2=1e-6))(inp)\n",
        "\n",
        "    # делаем residual connection - складываем два слоя, \n",
        "    # чтобы градиенты не затухали во время обучения\n",
        "    layer_2 = keras.layers.Dense(N_FACTORS, activation='elu', use_bias=False,\n",
        "                             kernel_regularizer=keras.regularizers.l2(1e-6),\n",
        "                             activity_regularizer=keras.regularizers.l2(l2=1e-6))(layer_1)\n",
        "    \n",
        "    add = keras.layers.Add()([layer_1, layer_2])\n",
        "    \n",
        "    # выходной слой\n",
        "    out = keras.layers.Dense(N_FACTORS, activation='linear', use_bias=False,\n",
        "                             kernel_regularizer=keras.regularizers.l2(1e-6),\n",
        "                             activity_regularizer=keras.regularizers.l2(l2=1e-6))(add)\n",
        "    \n",
        "    return keras.models.Model(inp, out)\n",
        "\n",
        "\n",
        "def user_model(n_factors=N_FACTORS):\n",
        "    # входной слой для вектора фичей юзера (из users_ohe_df)\n",
        "    inp_meta = keras.layers.Input(shape=USER_META_MODEL_SHAPE)\n",
        "    # входной слой для вектора просмотров (из iteractions_vec)\n",
        "\n",
        "    inp_temp_interaction = keras.layers.Input(shape=(MAX_LEN, 1))\n",
        "\n",
        "    # полносвязный слой\n",
        "    layer_1_meta = keras.layers.Dense(N_FACTORS, activation='elu', use_bias=False,\n",
        "                                 kernel_regularizer=keras.regularizers.l2(1e-6),\n",
        "                                 activity_regularizer=keras.regularizers.l2(l2=1e-6))(inp_meta)\n",
        "                              \n",
        "    temporal_layer = keras.layers.LSTM(N_FACTORS, activation='elu', use_bias=False)(inp_temp_interaction)\n",
        "    # flutten = keras.layers.Flatten()(temporal_layer)\n",
        "\n",
        "    # делаем residual connection - складываем два слоя,\n",
        "    # чтобы градиенты не затухали во время обучения\n",
        "    layer_2_meta = keras.layers.Dense(N_FACTORS, activation='elu', use_bias=False,\n",
        "                                 kernel_regularizer=keras.regularizers.l2(1e-6),\n",
        "                                 activity_regularizer=keras.regularizers.l2(l2=1e-6))(layer_1_meta)\n",
        "    \n",
        "\n",
        "    add = keras.layers.Add()([layer_1_meta, layer_2_meta])\n",
        "    \n",
        "    # конкатенируем вектор фичей с вектором просмотров\n",
        "    concat_meta_interaction = keras.layers.Concatenate()([add, temporal_layer])\n",
        "    \n",
        "    # выходной слой\n",
        "    out = keras.layers.Dense(N_FACTORS, activation='linear', use_bias=False,\n",
        "                             kernel_regularizer=keras.regularizers.l2(1e-6),\n",
        "                             activity_regularizer=keras.regularizers.l2(l2=1e-6))(concat_meta_interaction)\n",
        "    \n",
        "    return keras.models.Model([inp_meta, inp_temp_interaction], out)\n",
        "\n",
        "# инициализируем модели юзера и айтема\n",
        "i2v = item_model()\n",
        "u2v = user_model()\n",
        "\n",
        "# вход для вектора фичей юзера (из users_ohe_df)\n",
        "ancor_meta_in = keras.layers.Input(shape=USER_META_MODEL_SHAPE)\n",
        "# вход для вектора просмотра юзера (из interactions_vec)\n",
        "ancor_temporal_in = keras.layers.Input(shape=(MAX_LEN, 1))\n",
        "\n",
        "# вход для вектора \"хорошего\" айтема\n",
        "pos_in = keras.layers.Input(shape=ITEM_MODEL_SHAPE)\n",
        "# вход для вектора \"плохого\" айтема\n",
        "neg_in = keras.layers.Input(shape=ITEM_MODEL_SHAPE)\n",
        "\n",
        "# получаем вектор юзера\n",
        "ancor = u2v([ancor_meta_in, ancor_temporal_in])\n",
        "# получаем вектор \"хорошего\" айтема\n",
        "pos = i2v(pos_in)\n",
        "# получаем вектор \"плохого\" айтема\n",
        "neg = i2v(neg_in)\n",
        "\n",
        "# конкатенируем полученные векторы\n",
        "res = keras.layers.Concatenate(name=\"concat_ancor_pos_neg\")([ancor, pos, neg])\n",
        "\n",
        "# собираем модель\n",
        "model = keras.models.Model([ancor_meta_in, ancor_temporal_in, pos_in, neg_in], res)"
      ]
    },
    {
      "cell_type": "markdown",
      "id": "8c284190",
      "metadata": {
        "id": "8c284190"
      },
      "source": [
        "### Попробуйте передать текстовые признаки в модель"
      ]
    },
    {
      "cell_type": "code",
      "execution_count": 64,
      "id": "e912d920",
      "metadata": {
        "ExecuteTime": {
          "end_time": "2021-10-28T18:41:16.822662Z",
          "start_time": "2021-10-28T18:41:16.817857Z"
        },
        "id": "e912d920"
      },
      "outputs": [],
      "source": [
        "model_name = 'recsys_resnet_linear'\n",
        "\n",
        "# логируем процесс обучения в тензорборд\n",
        "t_board = keras.callbacks.TensorBoard(log_dir=f'runs/{model_name}')\n",
        "\n",
        "# уменьшаем learning_rate, если лосс долго не уменьшается (в течение двух эпох)\n",
        "decay = keras.callbacks.ReduceLROnPlateau(monitor='loss', patience=2, factor=0.8, verbose=1)\n",
        "\n",
        "# сохраняем модель после каждой эпохи, если лосс уменьшился\n",
        "check = keras.callbacks.ModelCheckpoint(filepath=model_name + '/epoch{epoch}-{loss:.2f}.h5', monitor=\"loss\")"
      ]
    },
    {
      "cell_type": "code",
      "execution_count": 65,
      "id": "f95049f6",
      "metadata": {
        "ExecuteTime": {
          "end_time": "2021-10-28T18:41:16.832365Z",
          "start_time": "2021-10-28T18:41:16.824484Z"
        },
        "id": "f95049f6",
        "colab": {
          "base_uri": "https://localhost:8080/"
        },
        "outputId": "ab1709fe-98f1-428e-d10f-ab7640c0cf4e"
      },
      "outputs": [
        {
          "output_type": "stream",
          "name": "stderr",
          "text": [
            "WARNING:absl:`lr` is deprecated in Keras optimizer, please use `learning_rate` or use the legacy optimizer, e.g.,tf.keras.optimizers.legacy.Adam.\n"
          ]
        }
      ],
      "source": [
        "# компилируем модель, используем оптимайзер Adam и triplet loss\n",
        "opt = keras.optimizers.Adam(lr=0.001)\n",
        "model.compile(loss=triplet_loss, optimizer=opt)"
      ]
    },
    {
      "cell_type": "code",
      "execution_count": 66,
      "id": "99d50830",
      "metadata": {
        "ExecuteTime": {
          "end_time": "2021-10-28T19:15:21.657529Z",
          "start_time": "2021-10-28T19:15:16.365923Z"
        },
        "colab": {
          "base_uri": "https://localhost:8080/"
        },
        "id": "99d50830",
        "outputId": "972ae5c5-3f60-4515-ead8-265c999a05e3"
      },
      "outputs": [
        {
          "output_type": "stream",
          "name": "stdout",
          "text": [
            "Epoch 1/15\n",
            "100/100 [==============================] - 114s 1s/step - loss: 0.2304 - lr: 0.0010\n",
            "Epoch 2/15\n",
            "100/100 [==============================] - 99s 995ms/step - loss: 0.1713 - lr: 0.0010\n",
            "Epoch 3/15\n",
            "100/100 [==============================] - 96s 959ms/step - loss: 0.1656 - lr: 0.0010\n",
            "Epoch 4/15\n",
            "100/100 [==============================] - 95s 949ms/step - loss: 0.1548 - lr: 0.0010\n",
            "Epoch 5/15\n",
            "100/100 [==============================] - 96s 960ms/step - loss: 0.1586 - lr: 0.0010\n",
            "Epoch 6/15\n",
            "100/100 [==============================] - 96s 964ms/step - loss: 0.1462 - lr: 0.0010\n",
            "Epoch 7/15\n",
            "100/100 [==============================] - 95s 949ms/step - loss: 0.1451 - lr: 0.0010\n",
            "Epoch 8/15\n",
            "100/100 [==============================] - 96s 961ms/step - loss: 0.1412 - lr: 0.0010\n",
            "Epoch 9/15\n",
            "100/100 [==============================] - 97s 971ms/step - loss: 0.1391 - lr: 0.0010\n",
            "Epoch 10/15\n",
            "100/100 [==============================] - 95s 955ms/step - loss: 0.1379 - lr: 0.0010\n",
            "Epoch 11/15\n",
            "100/100 [==============================] - 98s 972ms/step - loss: 0.1376 - lr: 0.0010\n",
            "Epoch 12/15\n",
            "100/100 [==============================] - 97s 967ms/step - loss: 0.1374 - lr: 0.0010\n",
            "Epoch 13/15\n",
            "100/100 [==============================] - 96s 963ms/step - loss: 0.1372 - lr: 0.0010\n",
            "Epoch 14/15\n",
            "100/100 [==============================] - 96s 954ms/step - loss: 0.1354 - lr: 0.0010\n",
            "Epoch 15/15\n",
            "100/100 [==============================] - 96s 966ms/step - loss: 0.1310 - lr: 0.0010\n"
          ]
        },
        {
          "output_type": "execute_result",
          "data": {
            "text/plain": [
              "<keras.callbacks.History at 0x7fcbecba79d0>"
            ]
          },
          "metadata": {},
          "execution_count": 66
        }
      ],
      "source": [
        "model.fit(generator(items=items_ohe_df,\n",
        "                    users=users_ohe_df.drop([\"user_id\"], axis=1), \n",
        "                    interactions=user_temp_interactions,\n",
        "                    batch_size=128), \n",
        "          steps_per_epoch=100, \n",
        "          epochs=15, \n",
        "          initial_epoch=0,\n",
        "          callbacks=[decay, t_board, check]\n",
        ")"
      ]
    },
    {
      "cell_type": "code",
      "execution_count": 77,
      "id": "94d23f62",
      "metadata": {
        "ExecuteTime": {
          "end_time": "2021-10-28T19:15:26.511958Z",
          "start_time": "2021-10-28T19:15:26.151899Z"
        },
        "id": "94d23f62",
        "colab": {
          "base_uri": "https://localhost:8080/"
        },
        "outputId": "6af00ee2-ec5c-412b-92f0-e09062f78af9"
      },
      "outputs": [
        {
          "output_type": "stream",
          "name": "stdout",
          "text": [
            "1/1 [==============================] - 0s 78ms/step\n",
            "1/1 [==============================] - 0s 34ms/step\n"
          ]
        },
        {
          "output_type": "execute_result",
          "data": {
            "text/plain": [
              "array([[2.0378084]], dtype=float32)"
            ]
          },
          "metadata": {},
          "execution_count": 77
        }
      ],
      "source": [
        "# берем рандомного юзера\n",
        "rand_uid = np.random.choice(list(users_ohe_df.index))\n",
        "\n",
        "# получаем фичи юзера и вектор его просмотров айтемов\n",
        "user_meta_feats = users_ohe_df.drop([\"user_id\"], axis=1).iloc[rand_uid]\n",
        "user_interaction_vec = user_temp_interactions[rand_uid]\n",
        "\n",
        "# берем рандомный айтем\n",
        "rand_iid = np.random.choice(list(items_ohe_df.index))\n",
        "# получаем фичи айтема\n",
        "item_feats = items_ohe_df.loc[rand_iid]\n",
        "\n",
        "# получаем вектор юзера\n",
        "user_vec = u2v.predict([np.array(user_meta_feats).reshape(1, -1), \n",
        "                        np.array(user_interaction_vec).reshape(1, -1)])\n",
        "\n",
        "# и вектор айтема\n",
        "item_vec = i2v.predict(np.array(item_feats).reshape(1, -1))\n",
        "\n",
        "# считаем расстояние между вектором юзера и вектором айтема\n",
        "from sklearn.metrics.pairwise import euclidean_distances as ED\n",
        "\n",
        "ED(user_vec, item_vec)"
      ]
    }
  ],
  "metadata": {
    "colab": {
      "provenance": []
    },
    "kernelspec": {
      "display_name": "Pythonlect5",
      "language": "python",
      "name": "lect5venv"
    },
    "language_info": {
      "codemirror_mode": {
        "name": "ipython",
        "version": 3
      },
      "file_extension": ".py",
      "mimetype": "text/x-python",
      "name": "python",
      "nbconvert_exporter": "python",
      "pygments_lexer": "ipython3",
      "version": "3.9.12"
    }
  },
  "nbformat": 4,
  "nbformat_minor": 5
}