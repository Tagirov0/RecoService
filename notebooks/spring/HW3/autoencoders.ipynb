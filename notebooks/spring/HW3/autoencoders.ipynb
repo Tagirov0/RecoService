{
  "cells": [
    {
      "cell_type": "code",
      "execution_count": null,
      "id": "92954921",
      "metadata": {
        "id": "92954921"
      },
      "outputs": [],
      "source": [
        "import numpy as np\n",
        "import os\n",
        "import pandas as pd"
      ]
    },
    {
      "cell_type": "code",
      "execution_count": null,
      "id": "debc4873",
      "metadata": {
        "id": "debc4873"
      },
      "outputs": [],
      "source": [
        "from IPython.display import display, clear_output\n",
        "\n",
        "import numpy as np\n",
        "import pandas as pd\n",
        "from tqdm.notebook import tqdm\n",
        "from sklearn.model_selection import train_test_split\n",
        "from sklearn.preprocessing import StandardScaler\n",
        "\n",
        "import torch\n",
        "from torch import nn\n",
        "from torch.nn import functional as F\n",
        "from torch.utils.data import Dataset, DataLoader"
      ]
    },
    {
      "cell_type": "code",
      "source": [
        "from google.colab import drive\n",
        "drive.mount('/content/drive')"
      ],
      "metadata": {
        "colab": {
          "base_uri": "https://localhost:8080/"
        },
        "id": "wMjUOjH5lH6m",
        "outputId": "d8e27dc4-8562-4f1c-8a76-c1fe0bccea1a"
      },
      "id": "wMjUOjH5lH6m",
      "execution_count": null,
      "outputs": [
        {
          "output_type": "stream",
          "name": "stdout",
          "text": [
            "Mounted at /content/drive\n"
          ]
        }
      ]
    },
    {
      "cell_type": "code",
      "execution_count": null,
      "id": "843b139a",
      "metadata": {
        "id": "843b139a"
      },
      "outputs": [],
      "source": [
        "interactions_df = pd.read_csv('/content/drive/MyDrive/ITMO/MTS/interactions_processed_kion.csv')\n",
        "users_df = pd.read_csv('/content/drive/MyDrive/ITMO/MTS/users_processed_kion.csv')\n",
        "items_df = pd.read_csv('/content/drive/MyDrive/ITMO/MTS/items_processed_kion.csv')"
      ]
    },
    {
      "cell_type": "code",
      "execution_count": null,
      "id": "0fbac8ce",
      "metadata": {
        "id": "0fbac8ce"
      },
      "outputs": [],
      "source": [
        "interactions_df['last_watch_dt'] = pd.to_datetime(interactions_df['last_watch_dt'], format='%Y-%m-%d')\n",
        "interactions_df = interactions_df[interactions_df['last_watch_dt'] < '2021-04-01']"
      ]
    },
    {
      "cell_type": "code",
      "execution_count": null,
      "id": "78342a0b",
      "metadata": {
        "colab": {
          "base_uri": "https://localhost:8080/"
        },
        "id": "78342a0b",
        "outputId": "cc2051f9-d319-4e02-870e-eb377fa4f5d8"
      },
      "outputs": [
        {
          "output_type": "stream",
          "name": "stdout",
          "text": [
            "# users: 86614\n",
            "# users with at least 5 interactions: 14563\n"
          ]
        }
      ],
      "source": [
        "users_interactions_count_df = interactions_df.groupby(['user_id', 'item_id']).size().groupby('user_id').size()\n",
        "print('# users: %d' % len(users_interactions_count_df))\n",
        "users_with_enough_interactions_df = users_interactions_count_df[users_interactions_count_df >= 5].reset_index()[['user_id']]\n",
        "print('# users with at least 5 interactions: %d' % len(users_with_enough_interactions_df))"
      ]
    },
    {
      "cell_type": "code",
      "execution_count": null,
      "id": "0bd0d31d",
      "metadata": {
        "colab": {
          "base_uri": "https://localhost:8080/"
        },
        "id": "0bd0d31d",
        "outputId": "ff89dbe6-5407-4966-e0ca-6ae2a794b087"
      },
      "outputs": [
        {
          "output_type": "stream",
          "name": "stdout",
          "text": [
            "# of interactions: 263874\n",
            "# of interactions from users with at least 5 interactions: 142670\n"
          ]
        }
      ],
      "source": [
        "print('# of interactions: %d' % len(interactions_df))\n",
        "interactions_from_selected_users_df = interactions_df.merge(users_with_enough_interactions_df, \n",
        "               how = 'right',\n",
        "               left_on = 'user_id',\n",
        "               right_on = 'user_id')\n",
        "print('# of interactions from users with at least 5 interactions: %d' % len(interactions_from_selected_users_df))"
      ]
    },
    {
      "cell_type": "code",
      "execution_count": null,
      "id": "b46ee003",
      "metadata": {
        "id": "b46ee003"
      },
      "outputs": [],
      "source": [
        "import math"
      ]
    },
    {
      "cell_type": "code",
      "execution_count": null,
      "id": "2df43577",
      "metadata": {
        "colab": {
          "base_uri": "https://localhost:8080/",
          "height": 380
        },
        "id": "2df43577",
        "outputId": "dcf7b7a9-09f8-41ce-8882-6a3a7ab3e5e5"
      },
      "outputs": [
        {
          "output_type": "stream",
          "name": "stdout",
          "text": [
            "# of unique user/item interactions: 142670\n"
          ]
        },
        {
          "output_type": "execute_result",
          "data": {
            "text/plain": [
              "   user_id  item_id  watched_pct\n",
              "0       21      849     6.375039\n",
              "1       21     4345     6.658211\n",
              "2       21    10283     6.658211\n",
              "3       21    12261     6.658211\n",
              "4       21    15997     6.658211\n",
              "5       32      952     6.044394\n",
              "6       32     4382     4.954196\n",
              "7       32     4807     6.658211\n",
              "8       32    10436     6.658211\n",
              "9       32    12132     6.658211"
            ],
            "text/html": [
              "\n",
              "  <div id=\"df-45cf7079-4ecb-4cb4-ba65-7562282cef76\">\n",
              "    <div class=\"colab-df-container\">\n",
              "      <div>\n",
              "<style scoped>\n",
              "    .dataframe tbody tr th:only-of-type {\n",
              "        vertical-align: middle;\n",
              "    }\n",
              "\n",
              "    .dataframe tbody tr th {\n",
              "        vertical-align: top;\n",
              "    }\n",
              "\n",
              "    .dataframe thead th {\n",
              "        text-align: right;\n",
              "    }\n",
              "</style>\n",
              "<table border=\"1\" class=\"dataframe\">\n",
              "  <thead>\n",
              "    <tr style=\"text-align: right;\">\n",
              "      <th></th>\n",
              "      <th>user_id</th>\n",
              "      <th>item_id</th>\n",
              "      <th>watched_pct</th>\n",
              "    </tr>\n",
              "  </thead>\n",
              "  <tbody>\n",
              "    <tr>\n",
              "      <th>0</th>\n",
              "      <td>21</td>\n",
              "      <td>849</td>\n",
              "      <td>6.375039</td>\n",
              "    </tr>\n",
              "    <tr>\n",
              "      <th>1</th>\n",
              "      <td>21</td>\n",
              "      <td>4345</td>\n",
              "      <td>6.658211</td>\n",
              "    </tr>\n",
              "    <tr>\n",
              "      <th>2</th>\n",
              "      <td>21</td>\n",
              "      <td>10283</td>\n",
              "      <td>6.658211</td>\n",
              "    </tr>\n",
              "    <tr>\n",
              "      <th>3</th>\n",
              "      <td>21</td>\n",
              "      <td>12261</td>\n",
              "      <td>6.658211</td>\n",
              "    </tr>\n",
              "    <tr>\n",
              "      <th>4</th>\n",
              "      <td>21</td>\n",
              "      <td>15997</td>\n",
              "      <td>6.658211</td>\n",
              "    </tr>\n",
              "    <tr>\n",
              "      <th>5</th>\n",
              "      <td>32</td>\n",
              "      <td>952</td>\n",
              "      <td>6.044394</td>\n",
              "    </tr>\n",
              "    <tr>\n",
              "      <th>6</th>\n",
              "      <td>32</td>\n",
              "      <td>4382</td>\n",
              "      <td>4.954196</td>\n",
              "    </tr>\n",
              "    <tr>\n",
              "      <th>7</th>\n",
              "      <td>32</td>\n",
              "      <td>4807</td>\n",
              "      <td>6.658211</td>\n",
              "    </tr>\n",
              "    <tr>\n",
              "      <th>8</th>\n",
              "      <td>32</td>\n",
              "      <td>10436</td>\n",
              "      <td>6.658211</td>\n",
              "    </tr>\n",
              "    <tr>\n",
              "      <th>9</th>\n",
              "      <td>32</td>\n",
              "      <td>12132</td>\n",
              "      <td>6.658211</td>\n",
              "    </tr>\n",
              "  </tbody>\n",
              "</table>\n",
              "</div>\n",
              "      <button class=\"colab-df-convert\" onclick=\"convertToInteractive('df-45cf7079-4ecb-4cb4-ba65-7562282cef76')\"\n",
              "              title=\"Convert this dataframe to an interactive table.\"\n",
              "              style=\"display:none;\">\n",
              "        \n",
              "  <svg xmlns=\"http://www.w3.org/2000/svg\" height=\"24px\"viewBox=\"0 0 24 24\"\n",
              "       width=\"24px\">\n",
              "    <path d=\"M0 0h24v24H0V0z\" fill=\"none\"/>\n",
              "    <path d=\"M18.56 5.44l.94 2.06.94-2.06 2.06-.94-2.06-.94-.94-2.06-.94 2.06-2.06.94zm-11 1L8.5 8.5l.94-2.06 2.06-.94-2.06-.94L8.5 2.5l-.94 2.06-2.06.94zm10 10l.94 2.06.94-2.06 2.06-.94-2.06-.94-.94-2.06-.94 2.06-2.06.94z\"/><path d=\"M17.41 7.96l-1.37-1.37c-.4-.4-.92-.59-1.43-.59-.52 0-1.04.2-1.43.59L10.3 9.45l-7.72 7.72c-.78.78-.78 2.05 0 2.83L4 21.41c.39.39.9.59 1.41.59.51 0 1.02-.2 1.41-.59l7.78-7.78 2.81-2.81c.8-.78.8-2.07 0-2.86zM5.41 20L4 18.59l7.72-7.72 1.47 1.35L5.41 20z\"/>\n",
              "  </svg>\n",
              "      </button>\n",
              "      \n",
              "  <style>\n",
              "    .colab-df-container {\n",
              "      display:flex;\n",
              "      flex-wrap:wrap;\n",
              "      gap: 12px;\n",
              "    }\n",
              "\n",
              "    .colab-df-convert {\n",
              "      background-color: #E8F0FE;\n",
              "      border: none;\n",
              "      border-radius: 50%;\n",
              "      cursor: pointer;\n",
              "      display: none;\n",
              "      fill: #1967D2;\n",
              "      height: 32px;\n",
              "      padding: 0 0 0 0;\n",
              "      width: 32px;\n",
              "    }\n",
              "\n",
              "    .colab-df-convert:hover {\n",
              "      background-color: #E2EBFA;\n",
              "      box-shadow: 0px 1px 2px rgba(60, 64, 67, 0.3), 0px 1px 3px 1px rgba(60, 64, 67, 0.15);\n",
              "      fill: #174EA6;\n",
              "    }\n",
              "\n",
              "    [theme=dark] .colab-df-convert {\n",
              "      background-color: #3B4455;\n",
              "      fill: #D2E3FC;\n",
              "    }\n",
              "\n",
              "    [theme=dark] .colab-df-convert:hover {\n",
              "      background-color: #434B5C;\n",
              "      box-shadow: 0px 1px 3px 1px rgba(0, 0, 0, 0.15);\n",
              "      filter: drop-shadow(0px 1px 2px rgba(0, 0, 0, 0.3));\n",
              "      fill: #FFFFFF;\n",
              "    }\n",
              "  </style>\n",
              "\n",
              "      <script>\n",
              "        const buttonEl =\n",
              "          document.querySelector('#df-45cf7079-4ecb-4cb4-ba65-7562282cef76 button.colab-df-convert');\n",
              "        buttonEl.style.display =\n",
              "          google.colab.kernel.accessAllowed ? 'block' : 'none';\n",
              "\n",
              "        async function convertToInteractive(key) {\n",
              "          const element = document.querySelector('#df-45cf7079-4ecb-4cb4-ba65-7562282cef76');\n",
              "          const dataTable =\n",
              "            await google.colab.kernel.invokeFunction('convertToInteractive',\n",
              "                                                     [key], {});\n",
              "          if (!dataTable) return;\n",
              "\n",
              "          const docLinkHtml = 'Like what you see? Visit the ' +\n",
              "            '<a target=\"_blank\" href=https://colab.research.google.com/notebooks/data_table.ipynb>data table notebook</a>'\n",
              "            + ' to learn more about interactive tables.';\n",
              "          element.innerHTML = '';\n",
              "          dataTable['output_type'] = 'display_data';\n",
              "          await google.colab.output.renderOutput(dataTable, element);\n",
              "          const docLink = document.createElement('div');\n",
              "          docLink.innerHTML = docLinkHtml;\n",
              "          element.appendChild(docLink);\n",
              "        }\n",
              "      </script>\n",
              "    </div>\n",
              "  </div>\n",
              "  "
            ]
          },
          "metadata": {},
          "execution_count": 9
        }
      ],
      "source": [
        "def smooth_user_preference(x):\n",
        "    return math.log(1+x, 2)\n",
        "    \n",
        "interactions_full_df = interactions_from_selected_users_df \\\n",
        "                    .groupby(['user_id', 'item_id'])['watched_pct'].sum() \\\n",
        "                    .apply(smooth_user_preference).reset_index()\n",
        "print('# of unique user/item interactions: %d' % len(interactions_full_df))\n",
        "interactions_full_df.head(10)"
      ]
    },
    {
      "cell_type": "code",
      "execution_count": null,
      "id": "039e1442",
      "metadata": {
        "colab": {
          "base_uri": "https://localhost:8080/"
        },
        "id": "039e1442",
        "outputId": "cdf7a18f-d9dc-481b-c976-343a41d0608e"
      },
      "outputs": [
        {
          "output_type": "stream",
          "name": "stdout",
          "text": [
            "# interactions on Train set: 114136\n",
            "# interactions on Test set: 28534\n"
          ]
        }
      ],
      "source": [
        "interactions_train_df, interactions_test_df = train_test_split(interactions_full_df,\n",
        "                                   stratify=interactions_full_df['user_id'], \n",
        "                                   test_size=0.20,\n",
        "                                   random_state=42)\n",
        "\n",
        "print('# interactions on Train set: %d' % len(interactions_train_df))\n",
        "print('# interactions on Test set: %d' % len(interactions_test_df))"
      ]
    },
    {
      "cell_type": "code",
      "execution_count": null,
      "id": "0b38dea2",
      "metadata": {
        "id": "0b38dea2"
      },
      "outputs": [],
      "source": [
        "#Indexing by personId to speed up the searches during evaluation\n",
        "interactions_full_indexed_df = interactions_full_df.set_index('user_id')\n",
        "interactions_train_indexed_df = interactions_train_df.set_index('user_id')\n",
        "interactions_test_indexed_df = interactions_test_df.set_index('user_id')"
      ]
    },
    {
      "cell_type": "code",
      "execution_count": null,
      "id": "bbb9a04d",
      "metadata": {
        "id": "bbb9a04d"
      },
      "outputs": [],
      "source": [
        "def get_items_interacted(person_id, interactions_df):\n",
        "    # Get the user's data and merge in the movie information.\n",
        "    interacted_items = interactions_df.loc[person_id]['item_id']\n",
        "    return set(interacted_items if type(interacted_items) == pd.Series else [interacted_items])"
      ]
    },
    {
      "cell_type": "code",
      "execution_count": null,
      "id": "03042d4a",
      "metadata": {
        "id": "03042d4a"
      },
      "outputs": [],
      "source": [
        "#Top-N accuracy metrics consts\n",
        "EVAL_RANDOM_SAMPLE_NON_INTERACTED_ITEMS = 100\n",
        "\n",
        "class ModelEvaluator:\n",
        "\n",
        "\n",
        "    def get_not_interacted_items_sample(self, person_id, sample_size, seed=42):\n",
        "        interacted_items = get_items_interacted(person_id, interactions_full_indexed_df)\n",
        "        all_items = set(articles_df['item_id'])\n",
        "        non_interacted_items = all_items - interacted_items\n",
        "\n",
        "        random.seed(seed)\n",
        "        non_interacted_items_sample = random.sample(non_interacted_items, sample_size)\n",
        "        return set(non_interacted_items_sample)\n",
        "\n",
        "    def _verify_hit_top_n(self, item_id, recommended_items, topn):        \n",
        "            try:\n",
        "                index = next(i for i, c in enumerate(recommended_items) if c == item_id)\n",
        "            except:\n",
        "                index = -1\n",
        "            hit = int(index in range(0, topn))\n",
        "            return hit, index\n",
        "\n",
        "    def evaluate_model_for_user(self, model, person_id):\n",
        "        #Getting the items in test set\n",
        "        interacted_values_testset = interactions_test_indexed_df.loc[person_id]\n",
        "        if type(interacted_values_testset['item_id']) == pd.Series:\n",
        "            person_interacted_items_testset = set(interacted_values_testset['item_id'])\n",
        "        else:\n",
        "            person_interacted_items_testset = set([int(interacted_values_testset['item_id'])])  \n",
        "        interacted_items_count_testset = len(person_interacted_items_testset) \n",
        "\n",
        "        #Getting a ranked recommendation list from a model for a given user\n",
        "        person_recs_df = model.recommend_items(person_id, \n",
        "                                               items_to_ignore=get_items_interacted(person_id, \n",
        "                                                                                    interactions_train_indexed_df), \n",
        "                                               topn=10000000000)\n",
        "\n",
        "        hits_at_5_count = 0\n",
        "        hits_at_10_count = 0\n",
        "        #For each item the user has interacted in test set\n",
        "        for item_id in person_interacted_items_testset:\n",
        "            #Getting a random sample (100) items the user has not interacted \n",
        "            #(to represent items that are assumed to be no relevant to the user)\n",
        "            non_interacted_items_sample = self.get_not_interacted_items_sample(person_id, \n",
        "                                                                          sample_size=EVAL_RANDOM_SAMPLE_NON_INTERACTED_ITEMS, \n",
        "                                                                          seed=item_id%(2**32))\n",
        "\n",
        "            #Combining the current interacted item with the 100 random items\n",
        "            items_to_filter_recs = non_interacted_items_sample.union(set([item_id]))\n",
        "\n",
        "            #Filtering only recommendations that are either the interacted item or from a random sample of 100 non-interacted items\n",
        "            valid_recs_df = person_recs_df[person_recs_df['item_id'].isin(items_to_filter_recs)]                    \n",
        "            valid_recs = valid_recs_df['item_id'].values\n",
        "            #Verifying if the current interacted item is among the Top-N recommended items\n",
        "            hit_at_5, index_at_5 = self._verify_hit_top_n(item_id, valid_recs, 5)\n",
        "            hits_at_5_count += hit_at_5\n",
        "            hit_at_10, index_at_10 = self._verify_hit_top_n(item_id, valid_recs, 10)\n",
        "            hits_at_10_count += hit_at_10\n",
        "\n",
        "        #Recall is the rate of the interacted items that are ranked among the Top-N recommended items, \n",
        "        #when mixed with a set of non-relevant items\n",
        "        recall_at_5 = hits_at_5_count / float(interacted_items_count_testset)\n",
        "        recall_at_10 = hits_at_10_count / float(interacted_items_count_testset)\n",
        "\n",
        "        person_metrics = {'hits@5_count':hits_at_5_count, \n",
        "                          'hits@10_count':hits_at_10_count, \n",
        "                          'interacted_count': interacted_items_count_testset,\n",
        "                          'recall@5': recall_at_5,\n",
        "                          'recall@10': recall_at_10}\n",
        "        return person_metrics\n",
        "\n",
        "    def evaluate_model(self, model):\n",
        "        #print('Running evaluation for users')\n",
        "        people_metrics = []\n",
        "        for idx, person_id in enumerate(tqdm(list(interactions_test_indexed_df.index.unique().values))):\n",
        "            #if idx % 100 == 0 and idx > 0:\n",
        "            #    print('%d users processed' % idx)\n",
        "            person_metrics = self.evaluate_model_for_user(model, person_id)  \n",
        "            person_metrics['user_id'] = person_id\n",
        "            people_metrics.append(person_metrics)\n",
        "        print('%d users processed' % idx)\n",
        "\n",
        "        detailed_results_df = pd.DataFrame(people_metrics) \\\n",
        "                            .sort_values('interacted_count', ascending=False)\n",
        "        \n",
        "        global_recall_at_5 = detailed_results_df['hits@5_count'].sum() / float(detailed_results_df['interacted_count'].sum())\n",
        "        global_recall_at_10 = detailed_results_df['hits@10_count'].sum() / float(detailed_results_df['interacted_count'].sum())\n",
        "        \n",
        "        global_metrics = {'modelName': model.get_model_name(),\n",
        "                          'recall@5': global_recall_at_5,\n",
        "                          'recall@10': global_recall_at_10}    \n",
        "        return global_metrics, detailed_results_df\n",
        "    \n",
        "model_evaluator = ModelEvaluator()    "
      ]
    },
    {
      "cell_type": "code",
      "execution_count": null,
      "id": "4c56b58f",
      "metadata": {
        "id": "4c56b58f"
      },
      "outputs": [],
      "source": [
        "from IPython.display import display, clear_output\n",
        "\n",
        "import numpy as np\n",
        "import pandas as pd\n",
        "from tqdm.notebook import tqdm\n",
        "from sklearn.model_selection import train_test_split\n",
        "from sklearn.preprocessing import StandardScaler\n",
        "\n",
        "import torch\n",
        "from torch import nn\n",
        "from torch.nn import functional as F\n",
        "from torch.utils.data import Dataset, DataLoader"
      ]
    },
    {
      "cell_type": "code",
      "execution_count": null,
      "id": "9039ffb8",
      "metadata": {
        "id": "9039ffb8"
      },
      "outputs": [],
      "source": [
        "# Constants\n",
        "SEED = 42 # random seed for reproducibility\n",
        "LR = 1e-3 # learning rate, controls the speed of the training\n",
        "WEIGHT_DECAY = 0.01 # lambda for L2 reg. ()\n",
        "NUM_EPOCHS = 20 # num training epochs (how many times each instance will be processed)\n",
        "GAMMA = 0.9995 # learning rate scheduler parameter\n",
        "BATCH_SIZE = 256 # training batch size\n",
        "EVAL_BATCH_SIZE = 256 # evaluation batch size.\n",
        "DEVICE = 'cuda' #'cuda' # device to make the calculations on"
      ]
    },
    {
      "cell_type": "code",
      "execution_count": null,
      "id": "b47f52ce",
      "metadata": {
        "colab": {
          "base_uri": "https://localhost:8080/"
        },
        "id": "b47f52ce",
        "outputId": "7a348307-49e1-491b-8789-e1a2c4eb16af"
      },
      "outputs": [
        {
          "output_type": "stream",
          "name": "stderr",
          "text": [
            "<ipython-input-16-50c21e885cbc>:1: FutureWarning: The frame.append method is deprecated and will be removed from pandas in a future version. Use pandas.concat instead.\n",
            "  total_df = interactions_train_df.append(interactions_test_indexed_df.reset_index())\n"
          ]
        }
      ],
      "source": [
        "total_df = interactions_train_df.append(interactions_test_indexed_df.reset_index())\n",
        "total_df['user_id'], users_keys = total_df.user_id.factorize()\n",
        "total_df['item_id'], items_keys = total_df.item_id.factorize()\n",
        "\n",
        "train_encoded = total_df.iloc[:len(interactions_train_df)].values\n",
        "test_encoded = total_df.iloc[len(interactions_train_df):].values"
      ]
    },
    {
      "cell_type": "code",
      "execution_count": null,
      "id": "27e538cd",
      "metadata": {
        "id": "27e538cd"
      },
      "outputs": [],
      "source": [
        "from scipy.sparse import csr_matrix\n",
        "shape = [int(total_df['user_id'].max()+1), int(total_df['item_id'].max()+1)]\n",
        "X_train = csr_matrix((train_encoded[:, 2], (train_encoded[:, 0], train_encoded[:, 1])), shape=shape).toarray()\n",
        "X_test = csr_matrix((test_encoded[:, 2], (test_encoded[:, 0], test_encoded[:, 1])), shape=shape).toarray()"
      ]
    },
    {
      "cell_type": "code",
      "execution_count": null,
      "id": "89cc28b3",
      "metadata": {
        "id": "89cc28b3"
      },
      "outputs": [],
      "source": [
        "# Initialize the DataObject, which must return an element (features vector x and target value y)\n",
        "# for a given idx. This class must also have a length atribute\n",
        "class UserOrientedDataset(Dataset):\n",
        "    def __init__(self, X):\n",
        "        super().__init__() # to initialize the parent class\n",
        "        self.X = X.astype(np.float32)\n",
        "        self.len = len(X)\n",
        "\n",
        "    def __len__(self): # We use __func__ for implementing in-built python functions\n",
        "        return self.len\n",
        "\n",
        "    def __getitem__(self, index):\n",
        "        return np.array(self.X[index])"
      ]
    },
    {
      "cell_type": "code",
      "execution_count": null,
      "id": "0ee1dfe3",
      "metadata": {
        "id": "0ee1dfe3"
      },
      "outputs": [],
      "source": [
        "# Initialize DataLoaders - objects, which sample instances from DataObject-s\n",
        "train_dl = DataLoader(\n",
        "    UserOrientedDataset(X_train),\n",
        "    batch_size = BATCH_SIZE,\n",
        "    shuffle = True\n",
        ")\n",
        "\n",
        "test_dl = DataLoader(\n",
        "    UserOrientedDataset(X_test),\n",
        "    batch_size = EVAL_BATCH_SIZE,\n",
        "    shuffle = False\n",
        ")\n",
        "\n",
        "dls = {'train': train_dl, 'test': test_dl}"
      ]
    },
    {
      "cell_type": "code",
      "source": [
        "class VariationalEncoder(nn.Module):\n",
        "    def __init__(self, in_and_out_features, hidden_size):\n",
        "        super(VariationalEncoder, self).__init__()\n",
        "        self.in_and_out_features = in_and_out_features\n",
        "        self.hidden_size = hidden_size\n",
        "\n",
        "        self.linear1 = nn.Linear(in_and_out_features, 1024)\n",
        "        self.linear2 = nn.Linear(1024, hidden_size)\n",
        "        self.linear3 = nn.Linear(1024, hidden_size)\n",
        "\n",
        "        self.N = torch.distributions.Normal(0, 1)\n",
        "        self.N.loc = self.N.loc.cuda()\n",
        "        self.N.scale = self.N.scale.cuda()\n",
        "        self.kl = 0\n",
        "\n",
        "    def forward(self, x):\n",
        "        x = F.relu(self.linear1(x))\n",
        "        mu =  self.linear2(x)\n",
        "        sigma = torch.exp(self.linear3(x))\n",
        "        z = mu + sigma*self.N.sample(mu.shape)\n",
        "        self.kl = (sigma**2 + mu**2 - torch.log(sigma) - 1/2).sum()\n",
        "        return z"
      ],
      "metadata": {
        "id": "K7p4EbEz4aa2"
      },
      "id": "K7p4EbEz4aa2",
      "execution_count": null,
      "outputs": []
    },
    {
      "cell_type": "code",
      "source": [
        "class Decoder(nn.Module):\n",
        "    def __init__(self, in_and_out_features, hidden_size):\n",
        "        super(Decoder, self).__init__()\n",
        "        self.in_and_out_features = in_and_out_features\n",
        "        self.hidden_size = hidden_size\n",
        "\n",
        "        self.linear = nn.Sequential(\n",
        "            nn.Linear(hidden_size, 1024),\n",
        "            nn.ReLU(),\n",
        "            nn.Linear(1024, in_and_out_features)\n",
        "        )\n",
        "\n",
        "    def forward(self, z):\n",
        "        return self.linear(z)"
      ],
      "metadata": {
        "id": "WYQFsfDi4myG"
      },
      "id": "WYQFsfDi4myG",
      "execution_count": null,
      "outputs": []
    },
    {
      "cell_type": "code",
      "source": [
        "class VariationalAutoencoder(nn.Module):\n",
        "    def __init__(self, in_and_out_features=8287, hidden_size=500):\n",
        "        super(VariationalAutoencoder, self).__init__()\n",
        "        self.encoder = VariationalEncoder(in_and_out_features, hidden_size)\n",
        "        self.decoder = Decoder(in_and_out_features, hidden_size)\n",
        "\n",
        "    def forward(self, x):\n",
        "        z = self.encoder(x)\n",
        "        return self.decoder(z)"
      ],
      "metadata": {
        "id": "z-znu_ZI4oWV"
      },
      "id": "z-znu_ZI4oWV",
      "execution_count": null,
      "outputs": []
    },
    {
      "cell_type": "code",
      "execution_count": null,
      "id": "2c95f9af",
      "metadata": {
        "id": "2c95f9af"
      },
      "outputs": [],
      "source": [
        "torch.manual_seed(SEED) # Fix random seed to have reproducible weights of model layers\n",
        "\n",
        "# model = Model()\n",
        "model = VariationalAutoencoder()\n",
        "model.to(DEVICE)\n",
        "\n",
        "# Initialize GD method, which will update the weights of the model\n",
        "optimizer = torch.optim.AdamW(model.parameters(), lr=LR, weight_decay=WEIGHT_DECAY)\n",
        "# Initialize learning rate scheduler, which will decrease LR according to some rule\n",
        "scheduler = torch.optim.lr_scheduler.ExponentialLR(optimizer, gamma=GAMMA)"
      ]
    },
    {
      "cell_type": "code",
      "execution_count": null,
      "id": "e9cdaf94",
      "metadata": {
        "id": "e9cdaf94"
      },
      "outputs": [],
      "source": [
        "# Train loop\n",
        "for epoch in range(NUM_EPOCHS):\n",
        "    for stage in ['train', 'test']:\n",
        "        model.train()\n",
        "        for x_batch in train_dl:\n",
        "            optimizer.zero_grad()\n",
        "            x_batch = x_batch.to(DEVICE)\n",
        "            x_pred = model(x_batch)\n",
        "            loss = ((x_batch - x_pred)**2).sum() + model.encoder.kl\n",
        "            loss.backward()\n",
        "            optimizer.step()\n",
        "            scheduler.step()            "
      ]
    },
    {
      "cell_type": "code",
      "execution_count": null,
      "id": "a9bf9546",
      "metadata": {
        "colab": {
          "base_uri": "https://localhost:8080/"
        },
        "id": "a9bf9546",
        "outputId": "bd6827a4-f13d-43c2-f458-bd032fda6002"
      },
      "outputs": [
        {
          "output_type": "execute_result",
          "data": {
            "text/plain": [
              "tensor([[ 2.3515e-01,  2.8974e-02,  5.3707e-02,  ...,  1.3288e-04,\n",
              "          1.0025e-03, -5.4851e-04],\n",
              "        [ 2.3765e-01,  2.5979e-02,  5.1628e-02,  ...,  1.5021e-04,\n",
              "          4.3038e-05, -4.9484e-04],\n",
              "        [ 1.9328e-01,  2.1426e-02,  8.8658e-02,  ..., -5.5106e-03,\n",
              "          1.4120e-03,  9.5270e-04],\n",
              "        ...,\n",
              "        [ 1.9168e-01,  1.7507e-02,  6.0599e-02,  ...,  6.9014e-05,\n",
              "         -1.1082e-03,  9.4312e-04],\n",
              "        [ 2.6659e-01,  1.7720e-02,  1.0069e-01,  ..., -2.6045e-03,\n",
              "          4.1084e-03,  3.6694e-04],\n",
              "        [ 2.4066e-01,  2.9237e-02,  4.9845e-02,  ...,  1.3587e-04,\n",
              "         -1.1028e-03,  1.0925e-03]], device='cuda:0')"
            ]
          },
          "metadata": {},
          "execution_count": 98
        }
      ],
      "source": [
        "with torch.no_grad():\n",
        "    X_pred = model(torch.Tensor(X_test).to(DEVICE))\n",
        "X_pred"
      ]
    },
    {
      "cell_type": "code",
      "execution_count": null,
      "id": "3bca32fb",
      "metadata": {
        "id": "3bca32fb"
      },
      "outputs": [],
      "source": [
        "class AERecommender:\n",
        "    \n",
        "    MODEL_NAME = 'Autoencoder'\n",
        "    \n",
        "    def __init__(self, X_preds, X_train_and_val, X_test):\n",
        "\n",
        "        self.X_preds = X_preds.cpu().detach().numpy()\n",
        "        self.X_train_and_val = X_train_and_val\n",
        "        self.X_test = X_test\n",
        "        \n",
        "    def get_model_name(self):\n",
        "        return self.MODEL_NAME\n",
        "        \n",
        "    def recommend_items(self, user_id, items_to_select_idx, topn=10, verbose=False):\n",
        "        user_preds = self.X_preds[user_id][items_to_select_idx]\n",
        "        items_idx = items_to_select_idx[np.argsort(-user_preds)[:topn]]\n",
        "\n",
        "        # Recommend the highest predicted rating movies that the user hasn't seen yet.\n",
        "        return items_idx\n",
        "\n",
        "    def evaluate(self, size=100):\n",
        "\n",
        "        X_total = self.X_train_and_val + self.X_test\n",
        "\n",
        "        true_5 = []\n",
        "        true_10 = []\n",
        "\n",
        "        for user_id in range(len(X_test)):\n",
        "            non_zero = np.argwhere(self.X_test[user_id] > 0).ravel()\n",
        "            all_nonzero = np.argwhere(X_total[user_id] > 0).ravel()\n",
        "            select_from = np.setdiff1d(np.arange(X_total.shape[1]), all_nonzero)\n",
        "\n",
        "            for non_zero_idx in non_zero:\n",
        "                random_non_interacted_100_items = np.random.choice(select_from, size=20, replace=False)\n",
        "                preds = self.recommend_items(user_id, np.append(random_non_interacted_100_items, non_zero_idx), topn=10)\n",
        "                true_5.append(non_zero_idx in preds[:5])\n",
        "                true_10.append(non_zero_idx in preds)\n",
        "\n",
        "        return {\"recall@5\": np.mean(true_5), \"recall@10\": np.mean(true_10)}\n",
        "    \n",
        "ae_recommender_model = AERecommender(X_pred, X_train, X_train)"
      ]
    },
    {
      "cell_type": "code",
      "source": [
        "ae_global_metrics = ae_recommender_model.evaluate()\n",
        "ae_global_metrics"
      ],
      "metadata": {
        "colab": {
          "base_uri": "https://localhost:8080/"
        },
        "id": "mCFCba8oneU9",
        "outputId": "9270044d-3d24-4235-919c-05466c58f824"
      },
      "id": "mCFCba8oneU9",
      "execution_count": null,
      "outputs": [
        {
          "output_type": "execute_result",
          "data": {
            "text/plain": [
              "{'recall@5': 0.7880484070718793, 'recall@10': 0.8756570158073859}"
            ]
          },
          "metadata": {},
          "execution_count": 100
        }
      ]
    }
  ],
  "metadata": {
    "kernelspec": {
      "display_name": "Python (venv_lecture5)",
      "language": "python",
      "name": "venv_lecture5"
    },
    "language_info": {
      "codemirror_mode": {
        "name": "ipython",
        "version": 3
      },
      "file_extension": ".py",
      "mimetype": "text/x-python",
      "name": "python",
      "nbconvert_exporter": "python",
      "pygments_lexer": "ipython3",
      "version": "3.9.12"
    },
    "colab": {
      "provenance": [],
      "gpuType": "T4"
    },
    "accelerator": "GPU",
    "gpuClass": "standard"
  },
  "nbformat": 4,
  "nbformat_minor": 5
}