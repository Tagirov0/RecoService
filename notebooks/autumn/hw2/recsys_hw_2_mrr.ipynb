{
  "nbformat": 4,
  "nbformat_minor": 0,
  "metadata": {
    "colab": {
      "provenance": []
    },
    "kernelspec": {
      "name": "python3",
      "display_name": "Python 3"
    },
    "language_info": {
      "name": "python"
    },
    "gpuClass": "standard",
    "widgets": {
      "application/vnd.jupyter.widget-state+json": {
        "ea32d2b8efa845979eb129247a5010a4": {
          "model_module": "@jupyter-widgets/controls",
          "model_name": "HBoxModel",
          "model_module_version": "1.5.0",
          "state": {
            "_dom_classes": [],
            "_model_module": "@jupyter-widgets/controls",
            "_model_module_version": "1.5.0",
            "_model_name": "HBoxModel",
            "_view_count": null,
            "_view_module": "@jupyter-widgets/controls",
            "_view_module_version": "1.5.0",
            "_view_name": "HBoxView",
            "box_style": "",
            "children": [
              "IPY_MODEL_c43f1109e61e4ebc96879d85de4180f6",
              "IPY_MODEL_a8367b79909d43dfa67244b3aedee1fd",
              "IPY_MODEL_4fbe3fdda4ca4eb1a0a80fe702243e00"
            ],
            "layout": "IPY_MODEL_c4ed2e42645547c8bb832403222493dc"
          }
        },
        "c43f1109e61e4ebc96879d85de4180f6": {
          "model_module": "@jupyter-widgets/controls",
          "model_name": "HTMLModel",
          "model_module_version": "1.5.0",
          "state": {
            "_dom_classes": [],
            "_model_module": "@jupyter-widgets/controls",
            "_model_module_version": "1.5.0",
            "_model_name": "HTMLModel",
            "_view_count": null,
            "_view_module": "@jupyter-widgets/controls",
            "_view_module_version": "1.5.0",
            "_view_name": "HTMLView",
            "description": "",
            "description_tooltip": null,
            "layout": "IPY_MODEL_eb4544663b04477ba91ecd930576e9fc",
            "placeholder": "​",
            "style": "IPY_MODEL_a230bc39f1724f9a8736f2e16865662f",
            "value": "100%"
          }
        },
        "a8367b79909d43dfa67244b3aedee1fd": {
          "model_module": "@jupyter-widgets/controls",
          "model_name": "FloatProgressModel",
          "model_module_version": "1.5.0",
          "state": {
            "_dom_classes": [],
            "_model_module": "@jupyter-widgets/controls",
            "_model_module_version": "1.5.0",
            "_model_name": "FloatProgressModel",
            "_view_count": null,
            "_view_module": "@jupyter-widgets/controls",
            "_view_module_version": "1.5.0",
            "_view_name": "ProgressView",
            "bar_style": "success",
            "description": "",
            "description_tooltip": null,
            "layout": "IPY_MODEL_b68d188a3c3b4619841b028eba4f0d0b",
            "max": 4,
            "min": 0,
            "orientation": "horizontal",
            "style": "IPY_MODEL_6f9bb1c5211243bd943203256da7e4a4",
            "value": 4
          }
        },
        "4fbe3fdda4ca4eb1a0a80fe702243e00": {
          "model_module": "@jupyter-widgets/controls",
          "model_name": "HTMLModel",
          "model_module_version": "1.5.0",
          "state": {
            "_dom_classes": [],
            "_model_module": "@jupyter-widgets/controls",
            "_model_module_version": "1.5.0",
            "_model_name": "HTMLModel",
            "_view_count": null,
            "_view_module": "@jupyter-widgets/controls",
            "_view_module_version": "1.5.0",
            "_view_name": "HTMLView",
            "description": "",
            "description_tooltip": null,
            "layout": "IPY_MODEL_1d60caa1c7014db7aaeb56ddbcbbd273",
            "placeholder": "​",
            "style": "IPY_MODEL_09a987ab9fd94171a09b92c224ecfe5a",
            "value": " 4/4 [16:22&lt;00:00, 385.54s/it]"
          }
        },
        "c4ed2e42645547c8bb832403222493dc": {
          "model_module": "@jupyter-widgets/base",
          "model_name": "LayoutModel",
          "model_module_version": "1.2.0",
          "state": {
            "_model_module": "@jupyter-widgets/base",
            "_model_module_version": "1.2.0",
            "_model_name": "LayoutModel",
            "_view_count": null,
            "_view_module": "@jupyter-widgets/base",
            "_view_module_version": "1.2.0",
            "_view_name": "LayoutView",
            "align_content": null,
            "align_items": null,
            "align_self": null,
            "border": null,
            "bottom": null,
            "display": null,
            "flex": null,
            "flex_flow": null,
            "grid_area": null,
            "grid_auto_columns": null,
            "grid_auto_flow": null,
            "grid_auto_rows": null,
            "grid_column": null,
            "grid_gap": null,
            "grid_row": null,
            "grid_template_areas": null,
            "grid_template_columns": null,
            "grid_template_rows": null,
            "height": null,
            "justify_content": null,
            "justify_items": null,
            "left": null,
            "margin": null,
            "max_height": null,
            "max_width": null,
            "min_height": null,
            "min_width": null,
            "object_fit": null,
            "object_position": null,
            "order": null,
            "overflow": null,
            "overflow_x": null,
            "overflow_y": null,
            "padding": null,
            "right": null,
            "top": null,
            "visibility": null,
            "width": null
          }
        },
        "eb4544663b04477ba91ecd930576e9fc": {
          "model_module": "@jupyter-widgets/base",
          "model_name": "LayoutModel",
          "model_module_version": "1.2.0",
          "state": {
            "_model_module": "@jupyter-widgets/base",
            "_model_module_version": "1.2.0",
            "_model_name": "LayoutModel",
            "_view_count": null,
            "_view_module": "@jupyter-widgets/base",
            "_view_module_version": "1.2.0",
            "_view_name": "LayoutView",
            "align_content": null,
            "align_items": null,
            "align_self": null,
            "border": null,
            "bottom": null,
            "display": null,
            "flex": null,
            "flex_flow": null,
            "grid_area": null,
            "grid_auto_columns": null,
            "grid_auto_flow": null,
            "grid_auto_rows": null,
            "grid_column": null,
            "grid_gap": null,
            "grid_row": null,
            "grid_template_areas": null,
            "grid_template_columns": null,
            "grid_template_rows": null,
            "height": null,
            "justify_content": null,
            "justify_items": null,
            "left": null,
            "margin": null,
            "max_height": null,
            "max_width": null,
            "min_height": null,
            "min_width": null,
            "object_fit": null,
            "object_position": null,
            "order": null,
            "overflow": null,
            "overflow_x": null,
            "overflow_y": null,
            "padding": null,
            "right": null,
            "top": null,
            "visibility": null,
            "width": null
          }
        },
        "a230bc39f1724f9a8736f2e16865662f": {
          "model_module": "@jupyter-widgets/controls",
          "model_name": "DescriptionStyleModel",
          "model_module_version": "1.5.0",
          "state": {
            "_model_module": "@jupyter-widgets/controls",
            "_model_module_version": "1.5.0",
            "_model_name": "DescriptionStyleModel",
            "_view_count": null,
            "_view_module": "@jupyter-widgets/base",
            "_view_module_version": "1.2.0",
            "_view_name": "StyleView",
            "description_width": ""
          }
        },
        "b68d188a3c3b4619841b028eba4f0d0b": {
          "model_module": "@jupyter-widgets/base",
          "model_name": "LayoutModel",
          "model_module_version": "1.2.0",
          "state": {
            "_model_module": "@jupyter-widgets/base",
            "_model_module_version": "1.2.0",
            "_model_name": "LayoutModel",
            "_view_count": null,
            "_view_module": "@jupyter-widgets/base",
            "_view_module_version": "1.2.0",
            "_view_name": "LayoutView",
            "align_content": null,
            "align_items": null,
            "align_self": null,
            "border": null,
            "bottom": null,
            "display": null,
            "flex": null,
            "flex_flow": null,
            "grid_area": null,
            "grid_auto_columns": null,
            "grid_auto_flow": null,
            "grid_auto_rows": null,
            "grid_column": null,
            "grid_gap": null,
            "grid_row": null,
            "grid_template_areas": null,
            "grid_template_columns": null,
            "grid_template_rows": null,
            "height": null,
            "justify_content": null,
            "justify_items": null,
            "left": null,
            "margin": null,
            "max_height": null,
            "max_width": null,
            "min_height": null,
            "min_width": null,
            "object_fit": null,
            "object_position": null,
            "order": null,
            "overflow": null,
            "overflow_x": null,
            "overflow_y": null,
            "padding": null,
            "right": null,
            "top": null,
            "visibility": null,
            "width": null
          }
        },
        "6f9bb1c5211243bd943203256da7e4a4": {
          "model_module": "@jupyter-widgets/controls",
          "model_name": "ProgressStyleModel",
          "model_module_version": "1.5.0",
          "state": {
            "_model_module": "@jupyter-widgets/controls",
            "_model_module_version": "1.5.0",
            "_model_name": "ProgressStyleModel",
            "_view_count": null,
            "_view_module": "@jupyter-widgets/base",
            "_view_module_version": "1.2.0",
            "_view_name": "StyleView",
            "bar_color": null,
            "description_width": ""
          }
        },
        "1d60caa1c7014db7aaeb56ddbcbbd273": {
          "model_module": "@jupyter-widgets/base",
          "model_name": "LayoutModel",
          "model_module_version": "1.2.0",
          "state": {
            "_model_module": "@jupyter-widgets/base",
            "_model_module_version": "1.2.0",
            "_model_name": "LayoutModel",
            "_view_count": null,
            "_view_module": "@jupyter-widgets/base",
            "_view_module_version": "1.2.0",
            "_view_name": "LayoutView",
            "align_content": null,
            "align_items": null,
            "align_self": null,
            "border": null,
            "bottom": null,
            "display": null,
            "flex": null,
            "flex_flow": null,
            "grid_area": null,
            "grid_auto_columns": null,
            "grid_auto_flow": null,
            "grid_auto_rows": null,
            "grid_column": null,
            "grid_gap": null,
            "grid_row": null,
            "grid_template_areas": null,
            "grid_template_columns": null,
            "grid_template_rows": null,
            "height": null,
            "justify_content": null,
            "justify_items": null,
            "left": null,
            "margin": null,
            "max_height": null,
            "max_width": null,
            "min_height": null,
            "min_width": null,
            "object_fit": null,
            "object_position": null,
            "order": null,
            "overflow": null,
            "overflow_x": null,
            "overflow_y": null,
            "padding": null,
            "right": null,
            "top": null,
            "visibility": null,
            "width": null
          }
        },
        "09a987ab9fd94171a09b92c224ecfe5a": {
          "model_module": "@jupyter-widgets/controls",
          "model_name": "DescriptionStyleModel",
          "model_module_version": "1.5.0",
          "state": {
            "_model_module": "@jupyter-widgets/controls",
            "_model_module_version": "1.5.0",
            "_model_name": "DescriptionStyleModel",
            "_view_count": null,
            "_view_module": "@jupyter-widgets/base",
            "_view_module_version": "1.2.0",
            "_view_name": "StyleView",
            "description_width": ""
          }
        },
        "b4ff2093b0fb4608b050e372f1d65fa5": {
          "model_module": "@jupyter-widgets/controls",
          "model_name": "HBoxModel",
          "model_module_version": "1.5.0",
          "state": {
            "_dom_classes": [],
            "_model_module": "@jupyter-widgets/controls",
            "_model_module_version": "1.5.0",
            "_model_name": "HBoxModel",
            "_view_count": null,
            "_view_module": "@jupyter-widgets/controls",
            "_view_module_version": "1.5.0",
            "_view_name": "HBoxView",
            "box_style": "",
            "children": [
              "IPY_MODEL_59daf4c1680c448ea02b2fb3cf9fe907",
              "IPY_MODEL_1022e065e899410abdbaab0aa33905d3",
              "IPY_MODEL_1b83371453554d069a55fded6bead5e5"
            ],
            "layout": "IPY_MODEL_444fd5ca90ce4208a47b2e9f6b98e816"
          }
        },
        "59daf4c1680c448ea02b2fb3cf9fe907": {
          "model_module": "@jupyter-widgets/controls",
          "model_name": "HTMLModel",
          "model_module_version": "1.5.0",
          "state": {
            "_dom_classes": [],
            "_model_module": "@jupyter-widgets/controls",
            "_model_module_version": "1.5.0",
            "_model_name": "HTMLModel",
            "_view_count": null,
            "_view_module": "@jupyter-widgets/controls",
            "_view_module_version": "1.5.0",
            "_view_name": "HTMLView",
            "description": "",
            "description_tooltip": null,
            "layout": "IPY_MODEL_35de7f43015145cbac6fce36a8124d4c",
            "placeholder": "​",
            "style": "IPY_MODEL_9327b615b7bc4dc0beb9ff835c78c634",
            "value": "kion dataset download: 100%"
          }
        },
        "1022e065e899410abdbaab0aa33905d3": {
          "model_module": "@jupyter-widgets/controls",
          "model_name": "FloatProgressModel",
          "model_module_version": "1.5.0",
          "state": {
            "_dom_classes": [],
            "_model_module": "@jupyter-widgets/controls",
            "_model_module_version": "1.5.0",
            "_model_name": "FloatProgressModel",
            "_view_count": null,
            "_view_module": "@jupyter-widgets/controls",
            "_view_module_version": "1.5.0",
            "_view_name": "ProgressView",
            "bar_style": "",
            "description": "",
            "description_tooltip": null,
            "layout": "IPY_MODEL_95ce48c9e7a94a9bbc52c5df74bfafe8",
            "max": 78795295,
            "min": 0,
            "orientation": "horizontal",
            "style": "IPY_MODEL_40229996157d4ce0b684eeb7ebb294de",
            "value": 78795295
          }
        },
        "1b83371453554d069a55fded6bead5e5": {
          "model_module": "@jupyter-widgets/controls",
          "model_name": "HTMLModel",
          "model_module_version": "1.5.0",
          "state": {
            "_dom_classes": [],
            "_model_module": "@jupyter-widgets/controls",
            "_model_module_version": "1.5.0",
            "_model_name": "HTMLModel",
            "_view_count": null,
            "_view_module": "@jupyter-widgets/controls",
            "_view_module_version": "1.5.0",
            "_view_name": "HTMLView",
            "description": "",
            "description_tooltip": null,
            "layout": "IPY_MODEL_4eb2368e601f404a9556c91b570296a0",
            "placeholder": "​",
            "style": "IPY_MODEL_966f99ab849f48dbb26ab30ac85ce072",
            "value": " 78.8M/78.8M [00:20&lt;00:00, 178MiB/s]"
          }
        },
        "444fd5ca90ce4208a47b2e9f6b98e816": {
          "model_module": "@jupyter-widgets/base",
          "model_name": "LayoutModel",
          "model_module_version": "1.2.0",
          "state": {
            "_model_module": "@jupyter-widgets/base",
            "_model_module_version": "1.2.0",
            "_model_name": "LayoutModel",
            "_view_count": null,
            "_view_module": "@jupyter-widgets/base",
            "_view_module_version": "1.2.0",
            "_view_name": "LayoutView",
            "align_content": null,
            "align_items": null,
            "align_self": null,
            "border": null,
            "bottom": null,
            "display": null,
            "flex": null,
            "flex_flow": null,
            "grid_area": null,
            "grid_auto_columns": null,
            "grid_auto_flow": null,
            "grid_auto_rows": null,
            "grid_column": null,
            "grid_gap": null,
            "grid_row": null,
            "grid_template_areas": null,
            "grid_template_columns": null,
            "grid_template_rows": null,
            "height": null,
            "justify_content": null,
            "justify_items": null,
            "left": null,
            "margin": null,
            "max_height": null,
            "max_width": null,
            "min_height": null,
            "min_width": null,
            "object_fit": null,
            "object_position": null,
            "order": null,
            "overflow": null,
            "overflow_x": null,
            "overflow_y": null,
            "padding": null,
            "right": null,
            "top": null,
            "visibility": null,
            "width": null
          }
        },
        "35de7f43015145cbac6fce36a8124d4c": {
          "model_module": "@jupyter-widgets/base",
          "model_name": "LayoutModel",
          "model_module_version": "1.2.0",
          "state": {
            "_model_module": "@jupyter-widgets/base",
            "_model_module_version": "1.2.0",
            "_model_name": "LayoutModel",
            "_view_count": null,
            "_view_module": "@jupyter-widgets/base",
            "_view_module_version": "1.2.0",
            "_view_name": "LayoutView",
            "align_content": null,
            "align_items": null,
            "align_self": null,
            "border": null,
            "bottom": null,
            "display": null,
            "flex": null,
            "flex_flow": null,
            "grid_area": null,
            "grid_auto_columns": null,
            "grid_auto_flow": null,
            "grid_auto_rows": null,
            "grid_column": null,
            "grid_gap": null,
            "grid_row": null,
            "grid_template_areas": null,
            "grid_template_columns": null,
            "grid_template_rows": null,
            "height": null,
            "justify_content": null,
            "justify_items": null,
            "left": null,
            "margin": null,
            "max_height": null,
            "max_width": null,
            "min_height": null,
            "min_width": null,
            "object_fit": null,
            "object_position": null,
            "order": null,
            "overflow": null,
            "overflow_x": null,
            "overflow_y": null,
            "padding": null,
            "right": null,
            "top": null,
            "visibility": null,
            "width": null
          }
        },
        "9327b615b7bc4dc0beb9ff835c78c634": {
          "model_module": "@jupyter-widgets/controls",
          "model_name": "DescriptionStyleModel",
          "model_module_version": "1.5.0",
          "state": {
            "_model_module": "@jupyter-widgets/controls",
            "_model_module_version": "1.5.0",
            "_model_name": "DescriptionStyleModel",
            "_view_count": null,
            "_view_module": "@jupyter-widgets/base",
            "_view_module_version": "1.2.0",
            "_view_name": "StyleView",
            "description_width": ""
          }
        },
        "95ce48c9e7a94a9bbc52c5df74bfafe8": {
          "model_module": "@jupyter-widgets/base",
          "model_name": "LayoutModel",
          "model_module_version": "1.2.0",
          "state": {
            "_model_module": "@jupyter-widgets/base",
            "_model_module_version": "1.2.0",
            "_model_name": "LayoutModel",
            "_view_count": null,
            "_view_module": "@jupyter-widgets/base",
            "_view_module_version": "1.2.0",
            "_view_name": "LayoutView",
            "align_content": null,
            "align_items": null,
            "align_self": null,
            "border": null,
            "bottom": null,
            "display": null,
            "flex": null,
            "flex_flow": null,
            "grid_area": null,
            "grid_auto_columns": null,
            "grid_auto_flow": null,
            "grid_auto_rows": null,
            "grid_column": null,
            "grid_gap": null,
            "grid_row": null,
            "grid_template_areas": null,
            "grid_template_columns": null,
            "grid_template_rows": null,
            "height": null,
            "justify_content": null,
            "justify_items": null,
            "left": null,
            "margin": null,
            "max_height": null,
            "max_width": null,
            "min_height": null,
            "min_width": null,
            "object_fit": null,
            "object_position": null,
            "order": null,
            "overflow": null,
            "overflow_x": null,
            "overflow_y": null,
            "padding": null,
            "right": null,
            "top": null,
            "visibility": null,
            "width": null
          }
        },
        "40229996157d4ce0b684eeb7ebb294de": {
          "model_module": "@jupyter-widgets/controls",
          "model_name": "ProgressStyleModel",
          "model_module_version": "1.5.0",
          "state": {
            "_model_module": "@jupyter-widgets/controls",
            "_model_module_version": "1.5.0",
            "_model_name": "ProgressStyleModel",
            "_view_count": null,
            "_view_module": "@jupyter-widgets/base",
            "_view_module_version": "1.2.0",
            "_view_name": "StyleView",
            "bar_color": null,
            "description_width": ""
          }
        },
        "4eb2368e601f404a9556c91b570296a0": {
          "model_module": "@jupyter-widgets/base",
          "model_name": "LayoutModel",
          "model_module_version": "1.2.0",
          "state": {
            "_model_module": "@jupyter-widgets/base",
            "_model_module_version": "1.2.0",
            "_model_name": "LayoutModel",
            "_view_count": null,
            "_view_module": "@jupyter-widgets/base",
            "_view_module_version": "1.2.0",
            "_view_name": "LayoutView",
            "align_content": null,
            "align_items": null,
            "align_self": null,
            "border": null,
            "bottom": null,
            "display": null,
            "flex": null,
            "flex_flow": null,
            "grid_area": null,
            "grid_auto_columns": null,
            "grid_auto_flow": null,
            "grid_auto_rows": null,
            "grid_column": null,
            "grid_gap": null,
            "grid_row": null,
            "grid_template_areas": null,
            "grid_template_columns": null,
            "grid_template_rows": null,
            "height": null,
            "justify_content": null,
            "justify_items": null,
            "left": null,
            "margin": null,
            "max_height": null,
            "max_width": null,
            "min_height": null,
            "min_width": null,
            "object_fit": null,
            "object_position": null,
            "order": null,
            "overflow": null,
            "overflow_x": null,
            "overflow_y": null,
            "padding": null,
            "right": null,
            "top": null,
            "visibility": null,
            "width": null
          }
        },
        "966f99ab849f48dbb26ab30ac85ce072": {
          "model_module": "@jupyter-widgets/controls",
          "model_name": "DescriptionStyleModel",
          "model_module_version": "1.5.0",
          "state": {
            "_model_module": "@jupyter-widgets/controls",
            "_model_module_version": "1.5.0",
            "_model_name": "DescriptionStyleModel",
            "_view_count": null,
            "_view_module": "@jupyter-widgets/base",
            "_view_module_version": "1.2.0",
            "_view_name": "StyleView",
            "description_width": ""
          }
        }
      }
    }
  },
  "cells": [
    {
      "cell_type": "markdown",
      "source": [
        "#HOMEWORK"
      ],
      "metadata": {
        "id": "L8jlXqYwHUbC"
      }
    },
    {
      "cell_type": "markdown",
      "source": [
        "MRR\n",
        "Исходные данные - результат generate_subsample\n",
        "\n",
        "Задача - по аналогии с precision написать три версии функции подсчета Mean Reciprocal Rank (naive, numba, pandas) и протестировать на разных размерах выборки\n",
        "\n",
        "Протестируйте для всех комбинаций (users_count, top_k):\n",
        "users_count - [100, 1000, 10000, 100000]\n",
        "top_k - [10, 50, 100]\n",
        "Результатом тестирования должен быть график, где будут отражены следующие показатели:\n",
        "Алгоритм - naive, numba, pandas\n",
        "Скорость работы (время)\n",
        "users_count\n",
        "top_k"
      ],
      "metadata": {
        "id": "5IUGj82ze_1F"
      }
    },
    {
      "cell_type": "markdown",
      "source": [
        "Mean Reciprocal Rank\n",
        "\n",
        "- Считаем для первых k рекоммендаций\n",
        "- Найти ранк первого релевантного предсказания $k_u$\n",
        "- Посчитать reciprocal rank = $\\frac{1}{k_u}$\n",
        "\n",
        "$$MRR = mean(\\frac{1}{k_u})$$\n"
      ],
      "metadata": {
        "id": "N14DLAsUeTz9"
      }
    },
    {
      "cell_type": "code",
      "source": [
        "!pip install rectools"
      ],
      "metadata": {
        "colab": {
          "base_uri": "https://localhost:8080/"
        },
        "id": "9hSL44DMKJAu",
        "outputId": "3fa0f691-47df-4812-af14-748334333851"
      },
      "execution_count": null,
      "outputs": [
        {
          "output_type": "stream",
          "name": "stdout",
          "text": [
            "Looking in indexes: https://pypi.org/simple, https://us-python.pkg.dev/colab-wheels/public/simple/\n",
            "Collecting rectools\n",
            "  Downloading RecTools-0.3.0-py3-none-any.whl (89 kB)\n",
            "\u001b[K     |████████████████████████████████| 89 kB 2.0 MB/s \n",
            "\u001b[?25hRequirement already satisfied: numpy<2.0.0,>=1.19.5 in /usr/local/lib/python3.7/dist-packages (from rectools) (1.21.6)\n",
            "Requirement already satisfied: scipy<2.0.0,>=1.5.4 in /usr/local/lib/python3.7/dist-packages (from rectools) (1.7.3)\n",
            "Collecting implicit==0.4.4\n",
            "  Downloading implicit-0.4.4.tar.gz (1.1 MB)\n",
            "\u001b[K     |████████████████████████████████| 1.1 MB 37.0 MB/s \n",
            "\u001b[?25hCollecting attrs<22.0.0,>=19.1.0\n",
            "  Downloading attrs-21.4.0-py2.py3-none-any.whl (60 kB)\n",
            "\u001b[K     |████████████████████████████████| 60 kB 6.8 MB/s \n",
            "\u001b[?25hCollecting Markdown<3.3,>=3.2\n",
            "  Downloading Markdown-3.2.2-py3-none-any.whl (88 kB)\n",
            "\u001b[K     |████████████████████████████████| 88 kB 6.4 MB/s \n",
            "\u001b[?25hCollecting lightfm<2.0,>=1.16\n",
            "  Downloading lightfm-1.16.tar.gz (310 kB)\n",
            "\u001b[K     |████████████████████████████████| 310 kB 43.2 MB/s \n",
            "\u001b[?25hRequirement already satisfied: typeguard<3.0.0,>=2.0.1 in /usr/local/lib/python3.7/dist-packages (from rectools) (2.7.1)\n",
            "Requirement already satisfied: tqdm<5.0.0,>=4.27.0 in /usr/local/lib/python3.7/dist-packages (from rectools) (4.64.1)\n",
            "Collecting nmslib<3.0.0,>=2.0.4\n",
            "  Downloading nmslib-2.1.1-cp37-cp37m-manylinux2010_x86_64.whl (13.5 MB)\n",
            "\u001b[K     |████████████████████████████████| 13.5 MB 8.3 MB/s \n",
            "\u001b[?25hRequirement already satisfied: pandas<2.0.0,>=0.25.3 in /usr/local/lib/python3.7/dist-packages (from rectools) (1.3.5)\n",
            "Requirement already satisfied: requests in /usr/local/lib/python3.7/dist-packages (from lightfm<2.0,>=1.16->rectools) (2.23.0)\n",
            "Requirement already satisfied: scikit-learn in /usr/local/lib/python3.7/dist-packages (from lightfm<2.0,>=1.16->rectools) (1.0.2)\n",
            "Requirement already satisfied: importlib-metadata in /usr/local/lib/python3.7/dist-packages (from Markdown<3.3,>=3.2->rectools) (4.13.0)\n",
            "Requirement already satisfied: psutil in /usr/local/lib/python3.7/dist-packages (from nmslib<3.0.0,>=2.0.4->rectools) (5.4.8)\n",
            "Collecting pybind11<2.6.2\n",
            "  Downloading pybind11-2.6.1-py2.py3-none-any.whl (188 kB)\n",
            "\u001b[K     |████████████████████████████████| 188 kB 54.4 MB/s \n",
            "\u001b[?25hRequirement already satisfied: pytz>=2017.3 in /usr/local/lib/python3.7/dist-packages (from pandas<2.0.0,>=0.25.3->rectools) (2022.6)\n",
            "Requirement already satisfied: python-dateutil>=2.7.3 in /usr/local/lib/python3.7/dist-packages (from pandas<2.0.0,>=0.25.3->rectools) (2.8.2)\n",
            "Requirement already satisfied: six>=1.5 in /usr/local/lib/python3.7/dist-packages (from python-dateutil>=2.7.3->pandas<2.0.0,>=0.25.3->rectools) (1.15.0)\n",
            "Requirement already satisfied: zipp>=0.5 in /usr/local/lib/python3.7/dist-packages (from importlib-metadata->Markdown<3.3,>=3.2->rectools) (3.10.0)\n",
            "Requirement already satisfied: typing-extensions>=3.6.4 in /usr/local/lib/python3.7/dist-packages (from importlib-metadata->Markdown<3.3,>=3.2->rectools) (4.1.1)\n",
            "Requirement already satisfied: certifi>=2017.4.17 in /usr/local/lib/python3.7/dist-packages (from requests->lightfm<2.0,>=1.16->rectools) (2022.9.24)\n",
            "Requirement already satisfied: idna<3,>=2.5 in /usr/local/lib/python3.7/dist-packages (from requests->lightfm<2.0,>=1.16->rectools) (2.10)\n",
            "Requirement already satisfied: urllib3!=1.25.0,!=1.25.1,<1.26,>=1.21.1 in /usr/local/lib/python3.7/dist-packages (from requests->lightfm<2.0,>=1.16->rectools) (1.24.3)\n",
            "Requirement already satisfied: chardet<4,>=3.0.2 in /usr/local/lib/python3.7/dist-packages (from requests->lightfm<2.0,>=1.16->rectools) (3.0.4)\n",
            "Requirement already satisfied: threadpoolctl>=2.0.0 in /usr/local/lib/python3.7/dist-packages (from scikit-learn->lightfm<2.0,>=1.16->rectools) (3.1.0)\n",
            "Requirement already satisfied: joblib>=0.11 in /usr/local/lib/python3.7/dist-packages (from scikit-learn->lightfm<2.0,>=1.16->rectools) (1.2.0)\n",
            "Building wheels for collected packages: implicit, lightfm\n",
            "  Building wheel for implicit (setup.py) ... \u001b[?25l\u001b[?25hdone\n",
            "  Created wheel for implicit: filename=implicit-0.4.4-cp37-cp37m-linux_x86_64.whl size=3410968 sha256=915a2d5158bb8f41db9ada26abda25382731951ae1b6fbc7227f59314838ee61\n",
            "  Stored in directory: /root/.cache/pip/wheels/44/7e/7d/a17324ea207cfbe76aca878b5b8ca0aa932cf55d163329be37\n",
            "  Building wheel for lightfm (setup.py) ... \u001b[?25l\u001b[?25hdone\n",
            "  Created wheel for lightfm: filename=lightfm-1.16-cp37-cp37m-linux_x86_64.whl size=705384 sha256=0b249b55c6e9d1dcbe17ab3037d7e0aef3c8a2c3ac12789c093e68d8208bb378\n",
            "  Stored in directory: /root/.cache/pip/wheels/f8/56/28/5772a3bd3413d65f03aa452190b00898b680b10028a1021914\n",
            "Successfully built implicit lightfm\n",
            "Installing collected packages: pybind11, nmslib, Markdown, lightfm, implicit, attrs, rectools\n",
            "  Attempting uninstall: Markdown\n",
            "    Found existing installation: Markdown 3.4.1\n",
            "    Uninstalling Markdown-3.4.1:\n",
            "      Successfully uninstalled Markdown-3.4.1\n",
            "  Attempting uninstall: attrs\n",
            "    Found existing installation: attrs 22.1.0\n",
            "    Uninstalling attrs-22.1.0:\n",
            "      Successfully uninstalled attrs-22.1.0\n",
            "Successfully installed Markdown-3.2.2 attrs-21.4.0 implicit-0.4.4 lightfm-1.16 nmslib-2.1.1 pybind11-2.6.1 rectools-0.3.0\n"
          ]
        }
      ]
    },
    {
      "cell_type": "code",
      "source": [
        "import pandas as pd\n",
        "import numpy as np\n",
        "import numba as nb\n",
        "import timeit\n",
        "import requests\n",
        "from tqdm.auto import tqdm\n",
        "from rectools import Columns\n",
        "from matplotlib import pyplot as plt"
      ],
      "metadata": {
        "id": "Ub602FYYHGPu"
      },
      "execution_count": null,
      "outputs": []
    },
    {
      "cell_type": "code",
      "source": [
        "np.random.seed(23)"
      ],
      "metadata": {
        "id": "nKNlUyGTHO51"
      },
      "execution_count": null,
      "outputs": []
    },
    {
      "cell_type": "markdown",
      "source": [
        "#Get KION dataset"
      ],
      "metadata": {
        "id": "_IqltZR6J1Ml"
      }
    },
    {
      "cell_type": "code",
      "source": [
        "url = 'https://github.com/irsafilo/KION_DATASET/raw/f69775be31fa5779907cf0a92ddedb70037fb5ae/data_original.zip'\n",
        "req = requests.get(url, stream=True)\n",
        "\n",
        "with open('kion.zip', 'wb') as fd:\n",
        "    total_size_in_bytes = int(req.headers.get('Content-Length', 0))\n",
        "    progress_bar = tqdm(desc='kion dataset download', total=total_size_in_bytes, unit='iB', unit_scale=True)\n",
        "    for chunk in req.iter_content(chunk_size=2 ** 20):\n",
        "        progress_bar.update(len(chunk))\n",
        "        fd.write(chunk)"
      ],
      "metadata": {
        "colab": {
          "base_uri": "https://localhost:8080/",
          "height": 49,
          "referenced_widgets": [
            "b4ff2093b0fb4608b050e372f1d65fa5",
            "59daf4c1680c448ea02b2fb3cf9fe907",
            "1022e065e899410abdbaab0aa33905d3",
            "1b83371453554d069a55fded6bead5e5",
            "444fd5ca90ce4208a47b2e9f6b98e816",
            "35de7f43015145cbac6fce36a8124d4c",
            "9327b615b7bc4dc0beb9ff835c78c634",
            "95ce48c9e7a94a9bbc52c5df74bfafe8",
            "40229996157d4ce0b684eeb7ebb294de",
            "4eb2368e601f404a9556c91b570296a0",
            "966f99ab849f48dbb26ab30ac85ce072"
          ]
        },
        "id": "RH2y2aZDJ3gC",
        "outputId": "0b5d1f51-8830-49a6-9a9e-dfcb8627f9fe"
      },
      "execution_count": null,
      "outputs": [
        {
          "output_type": "display_data",
          "data": {
            "text/plain": [
              "kion dataset download:   0%|          | 0.00/78.8M [00:00<?, ?iB/s]"
            ],
            "application/vnd.jupyter.widget-view+json": {
              "version_major": 2,
              "version_minor": 0,
              "model_id": "b4ff2093b0fb4608b050e372f1d65fa5"
            }
          },
          "metadata": {}
        }
      ]
    },
    {
      "cell_type": "code",
      "source": [
        "!unzip kion.zip"
      ],
      "metadata": {
        "colab": {
          "base_uri": "https://localhost:8080/"
        },
        "id": "KGsvf4xhKYvn",
        "outputId": "8809f2d1-bf7f-41b4-84a8-e8179f5d15d5"
      },
      "execution_count": null,
      "outputs": [
        {
          "output_type": "stream",
          "name": "stdout",
          "text": [
            "Archive:  kion.zip\n",
            "   creating: data_original/\n",
            "  inflating: data_original/interactions.csv  \n",
            "  inflating: __MACOSX/data_original/._interactions.csv  \n",
            "  inflating: data_original/users.csv  \n",
            "  inflating: __MACOSX/data_original/._users.csv  \n",
            "  inflating: data_original/items.csv  \n",
            "  inflating: __MACOSX/data_original/._items.csv  \n"
          ]
        }
      ]
    },
    {
      "cell_type": "code",
      "source": [
        "# Read data\n",
        "interactions = pd.read_csv('data_original/interactions.csv')\n",
        "\n",
        "interactions.rename(\n",
        "    columns={\n",
        "        'track_id': Columns.Item,\n",
        "        'last_watch_dt': Columns.Datetime,\n",
        "        'total_dur': Columns.Weight\n",
        "    }, \n",
        "    inplace=True) "
      ],
      "metadata": {
        "id": "5uALmFNiKeeU"
      },
      "execution_count": null,
      "outputs": []
    },
    {
      "cell_type": "code",
      "source": [
        "interactions[Columns.Datetime] = pd.to_datetime(interactions[Columns.Datetime])"
      ],
      "metadata": {
        "id": "N2P1bWwaKm3K"
      },
      "execution_count": null,
      "outputs": []
    },
    {
      "cell_type": "code",
      "source": [
        "users = pd.read_csv('data_original/users.csv')\n",
        "items = pd.read_csv('data_original/items.csv')"
      ],
      "metadata": {
        "id": "muzmCrx3Ko4I"
      },
      "execution_count": null,
      "outputs": []
    },
    {
      "cell_type": "code",
      "source": [
        "def headtail(df):\n",
        "    return pd.concat([df.head(), df.tail()])\n",
        "\n",
        "headtail(interactions)"
      ],
      "metadata": {
        "colab": {
          "base_uri": "https://localhost:8080/",
          "height": 363
        },
        "id": "y6lxz0M4Kxrl",
        "outputId": "87d07958-7d25-4530-9c3c-c42ec2e77fdb"
      },
      "execution_count": null,
      "outputs": [
        {
          "output_type": "execute_result",
          "data": {
            "text/plain": [
              "         user_id  item_id   datetime  weight  watched_pct\n",
              "0         176549     9506 2021-05-11    4250         72.0\n",
              "1         699317     1659 2021-05-29    8317        100.0\n",
              "2         656683     7107 2021-05-09      10          0.0\n",
              "3         864613     7638 2021-07-05   14483        100.0\n",
              "4         964868     9506 2021-04-30    6725        100.0\n",
              "5476246   648596    12225 2021-08-13      76          0.0\n",
              "5476247   546862     9673 2021-04-13    2308         49.0\n",
              "5476248   697262    15297 2021-08-20   18307         63.0\n",
              "5476249   384202    16197 2021-04-19    6203        100.0\n",
              "5476250   319709     4436 2021-08-15    3921         45.0"
            ],
            "text/html": [
              "\n",
              "  <div id=\"df-c864fc3f-a5c2-4f3f-8efa-70ead1caa17f\">\n",
              "    <div class=\"colab-df-container\">\n",
              "      <div>\n",
              "<style scoped>\n",
              "    .dataframe tbody tr th:only-of-type {\n",
              "        vertical-align: middle;\n",
              "    }\n",
              "\n",
              "    .dataframe tbody tr th {\n",
              "        vertical-align: top;\n",
              "    }\n",
              "\n",
              "    .dataframe thead th {\n",
              "        text-align: right;\n",
              "    }\n",
              "</style>\n",
              "<table border=\"1\" class=\"dataframe\">\n",
              "  <thead>\n",
              "    <tr style=\"text-align: right;\">\n",
              "      <th></th>\n",
              "      <th>user_id</th>\n",
              "      <th>item_id</th>\n",
              "      <th>datetime</th>\n",
              "      <th>weight</th>\n",
              "      <th>watched_pct</th>\n",
              "    </tr>\n",
              "  </thead>\n",
              "  <tbody>\n",
              "    <tr>\n",
              "      <th>0</th>\n",
              "      <td>176549</td>\n",
              "      <td>9506</td>\n",
              "      <td>2021-05-11</td>\n",
              "      <td>4250</td>\n",
              "      <td>72.0</td>\n",
              "    </tr>\n",
              "    <tr>\n",
              "      <th>1</th>\n",
              "      <td>699317</td>\n",
              "      <td>1659</td>\n",
              "      <td>2021-05-29</td>\n",
              "      <td>8317</td>\n",
              "      <td>100.0</td>\n",
              "    </tr>\n",
              "    <tr>\n",
              "      <th>2</th>\n",
              "      <td>656683</td>\n",
              "      <td>7107</td>\n",
              "      <td>2021-05-09</td>\n",
              "      <td>10</td>\n",
              "      <td>0.0</td>\n",
              "    </tr>\n",
              "    <tr>\n",
              "      <th>3</th>\n",
              "      <td>864613</td>\n",
              "      <td>7638</td>\n",
              "      <td>2021-07-05</td>\n",
              "      <td>14483</td>\n",
              "      <td>100.0</td>\n",
              "    </tr>\n",
              "    <tr>\n",
              "      <th>4</th>\n",
              "      <td>964868</td>\n",
              "      <td>9506</td>\n",
              "      <td>2021-04-30</td>\n",
              "      <td>6725</td>\n",
              "      <td>100.0</td>\n",
              "    </tr>\n",
              "    <tr>\n",
              "      <th>5476246</th>\n",
              "      <td>648596</td>\n",
              "      <td>12225</td>\n",
              "      <td>2021-08-13</td>\n",
              "      <td>76</td>\n",
              "      <td>0.0</td>\n",
              "    </tr>\n",
              "    <tr>\n",
              "      <th>5476247</th>\n",
              "      <td>546862</td>\n",
              "      <td>9673</td>\n",
              "      <td>2021-04-13</td>\n",
              "      <td>2308</td>\n",
              "      <td>49.0</td>\n",
              "    </tr>\n",
              "    <tr>\n",
              "      <th>5476248</th>\n",
              "      <td>697262</td>\n",
              "      <td>15297</td>\n",
              "      <td>2021-08-20</td>\n",
              "      <td>18307</td>\n",
              "      <td>63.0</td>\n",
              "    </tr>\n",
              "    <tr>\n",
              "      <th>5476249</th>\n",
              "      <td>384202</td>\n",
              "      <td>16197</td>\n",
              "      <td>2021-04-19</td>\n",
              "      <td>6203</td>\n",
              "      <td>100.0</td>\n",
              "    </tr>\n",
              "    <tr>\n",
              "      <th>5476250</th>\n",
              "      <td>319709</td>\n",
              "      <td>4436</td>\n",
              "      <td>2021-08-15</td>\n",
              "      <td>3921</td>\n",
              "      <td>45.0</td>\n",
              "    </tr>\n",
              "  </tbody>\n",
              "</table>\n",
              "</div>\n",
              "      <button class=\"colab-df-convert\" onclick=\"convertToInteractive('df-c864fc3f-a5c2-4f3f-8efa-70ead1caa17f')\"\n",
              "              title=\"Convert this dataframe to an interactive table.\"\n",
              "              style=\"display:none;\">\n",
              "        \n",
              "  <svg xmlns=\"http://www.w3.org/2000/svg\" height=\"24px\"viewBox=\"0 0 24 24\"\n",
              "       width=\"24px\">\n",
              "    <path d=\"M0 0h24v24H0V0z\" fill=\"none\"/>\n",
              "    <path d=\"M18.56 5.44l.94 2.06.94-2.06 2.06-.94-2.06-.94-.94-2.06-.94 2.06-2.06.94zm-11 1L8.5 8.5l.94-2.06 2.06-.94-2.06-.94L8.5 2.5l-.94 2.06-2.06.94zm10 10l.94 2.06.94-2.06 2.06-.94-2.06-.94-.94-2.06-.94 2.06-2.06.94z\"/><path d=\"M17.41 7.96l-1.37-1.37c-.4-.4-.92-.59-1.43-.59-.52 0-1.04.2-1.43.59L10.3 9.45l-7.72 7.72c-.78.78-.78 2.05 0 2.83L4 21.41c.39.39.9.59 1.41.59.51 0 1.02-.2 1.41-.59l7.78-7.78 2.81-2.81c.8-.78.8-2.07 0-2.86zM5.41 20L4 18.59l7.72-7.72 1.47 1.35L5.41 20z\"/>\n",
              "  </svg>\n",
              "      </button>\n",
              "      \n",
              "  <style>\n",
              "    .colab-df-container {\n",
              "      display:flex;\n",
              "      flex-wrap:wrap;\n",
              "      gap: 12px;\n",
              "    }\n",
              "\n",
              "    .colab-df-convert {\n",
              "      background-color: #E8F0FE;\n",
              "      border: none;\n",
              "      border-radius: 50%;\n",
              "      cursor: pointer;\n",
              "      display: none;\n",
              "      fill: #1967D2;\n",
              "      height: 32px;\n",
              "      padding: 0 0 0 0;\n",
              "      width: 32px;\n",
              "    }\n",
              "\n",
              "    .colab-df-convert:hover {\n",
              "      background-color: #E2EBFA;\n",
              "      box-shadow: 0px 1px 2px rgba(60, 64, 67, 0.3), 0px 1px 3px 1px rgba(60, 64, 67, 0.15);\n",
              "      fill: #174EA6;\n",
              "    }\n",
              "\n",
              "    [theme=dark] .colab-df-convert {\n",
              "      background-color: #3B4455;\n",
              "      fill: #D2E3FC;\n",
              "    }\n",
              "\n",
              "    [theme=dark] .colab-df-convert:hover {\n",
              "      background-color: #434B5C;\n",
              "      box-shadow: 0px 1px 3px 1px rgba(0, 0, 0, 0.15);\n",
              "      filter: drop-shadow(0px 1px 2px rgba(0, 0, 0, 0.3));\n",
              "      fill: #FFFFFF;\n",
              "    }\n",
              "  </style>\n",
              "\n",
              "      <script>\n",
              "        const buttonEl =\n",
              "          document.querySelector('#df-c864fc3f-a5c2-4f3f-8efa-70ead1caa17f button.colab-df-convert');\n",
              "        buttonEl.style.display =\n",
              "          google.colab.kernel.accessAllowed ? 'block' : 'none';\n",
              "\n",
              "        async function convertToInteractive(key) {\n",
              "          const element = document.querySelector('#df-c864fc3f-a5c2-4f3f-8efa-70ead1caa17f');\n",
              "          const dataTable =\n",
              "            await google.colab.kernel.invokeFunction('convertToInteractive',\n",
              "                                                     [key], {});\n",
              "          if (!dataTable) return;\n",
              "\n",
              "          const docLinkHtml = 'Like what you see? Visit the ' +\n",
              "            '<a target=\"_blank\" href=https://colab.research.google.com/notebooks/data_table.ipynb>data table notebook</a>'\n",
              "            + ' to learn more about interactive tables.';\n",
              "          element.innerHTML = '';\n",
              "          dataTable['output_type'] = 'display_data';\n",
              "          await google.colab.output.renderOutput(dataTable, element);\n",
              "          const docLink = document.createElement('div');\n",
              "          docLink.innerHTML = docLinkHtml;\n",
              "          element.appendChild(docLink);\n",
              "        }\n",
              "      </script>\n",
              "    </div>\n",
              "  </div>\n",
              "  "
            ]
          },
          "metadata": {},
          "execution_count": 9
        }
      ]
    },
    {
      "cell_type": "code",
      "source": [
        "interactions.info(memory_usage='deep')"
      ],
      "metadata": {
        "colab": {
          "base_uri": "https://localhost:8080/"
        },
        "id": "Tj6EJ7teK5Tz",
        "outputId": "2b2061b3-02a7-4788-e797-054a99e7e15c"
      },
      "execution_count": null,
      "outputs": [
        {
          "output_type": "stream",
          "name": "stdout",
          "text": [
            "<class 'pandas.core.frame.DataFrame'>\n",
            "RangeIndex: 5476251 entries, 0 to 5476250\n",
            "Data columns (total 5 columns):\n",
            " #   Column       Dtype         \n",
            "---  ------       -----         \n",
            " 0   user_id      int64         \n",
            " 1   item_id      int64         \n",
            " 2   datetime     datetime64[ns]\n",
            " 3   weight       int64         \n",
            " 4   watched_pct  float64       \n",
            "dtypes: datetime64[ns](1), float64(1), int64(3)\n",
            "memory usage: 208.9 MB\n"
          ]
        }
      ]
    },
    {
      "cell_type": "code",
      "source": [
        "def generate_subsample(users_count=10000, top_k=10):\n",
        "    users = np.random.choice(interactions[Columns.User].unique(), users_count, replace=False)\n",
        "    df = interactions[interactions[Columns.User].isin(users)].reset_index(drop=True)\n",
        "    del df[Columns.Datetime], df[Columns.Weight], df['watched_pct']\n",
        "    \n",
        "    recs = np.random.choice(df[Columns.Item], size=(users_count, top_k))\n",
        "    return df, users, recs"
      ],
      "metadata": {
        "id": "UlgSv5RjLOla"
      },
      "execution_count": null,
      "outputs": []
    },
    {
      "cell_type": "code",
      "source": [
        "top_k = 10\n",
        "df, users, recs = generate_subsample(10000, top_k)\n",
        "df"
      ],
      "metadata": {
        "colab": {
          "base_uri": "https://localhost:8080/",
          "height": 424
        },
        "id": "w0CHCnAsMf_3",
        "outputId": "1950f245-3fc5-4e2e-e763-202a72fd6a64"
      },
      "execution_count": null,
      "outputs": [
        {
          "output_type": "execute_result",
          "data": {
            "text/plain": [
              "       user_id  item_id\n",
              "0       513902     3614\n",
              "1       447592     1241\n",
              "2       179618     9988\n",
              "3       217915     6563\n",
              "4      1074210    15930\n",
              "...        ...      ...\n",
              "56725   358802    10636\n",
              "56726   373637     9728\n",
              "56727    83436     5411\n",
              "56728   609195     6258\n",
              "56729   993683    15549\n",
              "\n",
              "[56730 rows x 2 columns]"
            ],
            "text/html": [
              "\n",
              "  <div id=\"df-66121bac-106a-4729-b4da-3e2549b9ee5d\">\n",
              "    <div class=\"colab-df-container\">\n",
              "      <div>\n",
              "<style scoped>\n",
              "    .dataframe tbody tr th:only-of-type {\n",
              "        vertical-align: middle;\n",
              "    }\n",
              "\n",
              "    .dataframe tbody tr th {\n",
              "        vertical-align: top;\n",
              "    }\n",
              "\n",
              "    .dataframe thead th {\n",
              "        text-align: right;\n",
              "    }\n",
              "</style>\n",
              "<table border=\"1\" class=\"dataframe\">\n",
              "  <thead>\n",
              "    <tr style=\"text-align: right;\">\n",
              "      <th></th>\n",
              "      <th>user_id</th>\n",
              "      <th>item_id</th>\n",
              "    </tr>\n",
              "  </thead>\n",
              "  <tbody>\n",
              "    <tr>\n",
              "      <th>0</th>\n",
              "      <td>513902</td>\n",
              "      <td>3614</td>\n",
              "    </tr>\n",
              "    <tr>\n",
              "      <th>1</th>\n",
              "      <td>447592</td>\n",
              "      <td>1241</td>\n",
              "    </tr>\n",
              "    <tr>\n",
              "      <th>2</th>\n",
              "      <td>179618</td>\n",
              "      <td>9988</td>\n",
              "    </tr>\n",
              "    <tr>\n",
              "      <th>3</th>\n",
              "      <td>217915</td>\n",
              "      <td>6563</td>\n",
              "    </tr>\n",
              "    <tr>\n",
              "      <th>4</th>\n",
              "      <td>1074210</td>\n",
              "      <td>15930</td>\n",
              "    </tr>\n",
              "    <tr>\n",
              "      <th>...</th>\n",
              "      <td>...</td>\n",
              "      <td>...</td>\n",
              "    </tr>\n",
              "    <tr>\n",
              "      <th>56725</th>\n",
              "      <td>358802</td>\n",
              "      <td>10636</td>\n",
              "    </tr>\n",
              "    <tr>\n",
              "      <th>56726</th>\n",
              "      <td>373637</td>\n",
              "      <td>9728</td>\n",
              "    </tr>\n",
              "    <tr>\n",
              "      <th>56727</th>\n",
              "      <td>83436</td>\n",
              "      <td>5411</td>\n",
              "    </tr>\n",
              "    <tr>\n",
              "      <th>56728</th>\n",
              "      <td>609195</td>\n",
              "      <td>6258</td>\n",
              "    </tr>\n",
              "    <tr>\n",
              "      <th>56729</th>\n",
              "      <td>993683</td>\n",
              "      <td>15549</td>\n",
              "    </tr>\n",
              "  </tbody>\n",
              "</table>\n",
              "<p>56730 rows × 2 columns</p>\n",
              "</div>\n",
              "      <button class=\"colab-df-convert\" onclick=\"convertToInteractive('df-66121bac-106a-4729-b4da-3e2549b9ee5d')\"\n",
              "              title=\"Convert this dataframe to an interactive table.\"\n",
              "              style=\"display:none;\">\n",
              "        \n",
              "  <svg xmlns=\"http://www.w3.org/2000/svg\" height=\"24px\"viewBox=\"0 0 24 24\"\n",
              "       width=\"24px\">\n",
              "    <path d=\"M0 0h24v24H0V0z\" fill=\"none\"/>\n",
              "    <path d=\"M18.56 5.44l.94 2.06.94-2.06 2.06-.94-2.06-.94-.94-2.06-.94 2.06-2.06.94zm-11 1L8.5 8.5l.94-2.06 2.06-.94-2.06-.94L8.5 2.5l-.94 2.06-2.06.94zm10 10l.94 2.06.94-2.06 2.06-.94-2.06-.94-.94-2.06-.94 2.06-2.06.94z\"/><path d=\"M17.41 7.96l-1.37-1.37c-.4-.4-.92-.59-1.43-.59-.52 0-1.04.2-1.43.59L10.3 9.45l-7.72 7.72c-.78.78-.78 2.05 0 2.83L4 21.41c.39.39.9.59 1.41.59.51 0 1.02-.2 1.41-.59l7.78-7.78 2.81-2.81c.8-.78.8-2.07 0-2.86zM5.41 20L4 18.59l7.72-7.72 1.47 1.35L5.41 20z\"/>\n",
              "  </svg>\n",
              "      </button>\n",
              "      \n",
              "  <style>\n",
              "    .colab-df-container {\n",
              "      display:flex;\n",
              "      flex-wrap:wrap;\n",
              "      gap: 12px;\n",
              "    }\n",
              "\n",
              "    .colab-df-convert {\n",
              "      background-color: #E8F0FE;\n",
              "      border: none;\n",
              "      border-radius: 50%;\n",
              "      cursor: pointer;\n",
              "      display: none;\n",
              "      fill: #1967D2;\n",
              "      height: 32px;\n",
              "      padding: 0 0 0 0;\n",
              "      width: 32px;\n",
              "    }\n",
              "\n",
              "    .colab-df-convert:hover {\n",
              "      background-color: #E2EBFA;\n",
              "      box-shadow: 0px 1px 2px rgba(60, 64, 67, 0.3), 0px 1px 3px 1px rgba(60, 64, 67, 0.15);\n",
              "      fill: #174EA6;\n",
              "    }\n",
              "\n",
              "    [theme=dark] .colab-df-convert {\n",
              "      background-color: #3B4455;\n",
              "      fill: #D2E3FC;\n",
              "    }\n",
              "\n",
              "    [theme=dark] .colab-df-convert:hover {\n",
              "      background-color: #434B5C;\n",
              "      box-shadow: 0px 1px 3px 1px rgba(0, 0, 0, 0.15);\n",
              "      filter: drop-shadow(0px 1px 2px rgba(0, 0, 0, 0.3));\n",
              "      fill: #FFFFFF;\n",
              "    }\n",
              "  </style>\n",
              "\n",
              "      <script>\n",
              "        const buttonEl =\n",
              "          document.querySelector('#df-66121bac-106a-4729-b4da-3e2549b9ee5d button.colab-df-convert');\n",
              "        buttonEl.style.display =\n",
              "          google.colab.kernel.accessAllowed ? 'block' : 'none';\n",
              "\n",
              "        async function convertToInteractive(key) {\n",
              "          const element = document.querySelector('#df-66121bac-106a-4729-b4da-3e2549b9ee5d');\n",
              "          const dataTable =\n",
              "            await google.colab.kernel.invokeFunction('convertToInteractive',\n",
              "                                                     [key], {});\n",
              "          if (!dataTable) return;\n",
              "\n",
              "          const docLinkHtml = 'Like what you see? Visit the ' +\n",
              "            '<a target=\"_blank\" href=https://colab.research.google.com/notebooks/data_table.ipynb>data table notebook</a>'\n",
              "            + ' to learn more about interactive tables.';\n",
              "          element.innerHTML = '';\n",
              "          dataTable['output_type'] = 'display_data';\n",
              "          await google.colab.output.renderOutput(dataTable, element);\n",
              "          const docLink = document.createElement('div');\n",
              "          docLink.innerHTML = docLinkHtml;\n",
              "          element.appendChild(docLink);\n",
              "        }\n",
              "      </script>\n",
              "    </div>\n",
              "  </div>\n",
              "  "
            ]
          },
          "metadata": {},
          "execution_count": 12
        }
      ]
    },
    {
      "cell_type": "code",
      "source": [
        "users.shape, recs.shape"
      ],
      "metadata": {
        "colab": {
          "base_uri": "https://localhost:8080/"
        },
        "id": "FJ8n1aIvMtTG",
        "outputId": "5f41311c-e179-42a8-8255-38068edec812"
      },
      "execution_count": null,
      "outputs": [
        {
          "output_type": "execute_result",
          "data": {
            "text/plain": [
              "((10000,), (10000, 10))"
            ]
          },
          "metadata": {},
          "execution_count": 13
        }
      ]
    },
    {
      "cell_type": "code",
      "source": [
        "recs"
      ],
      "metadata": {
        "colab": {
          "base_uri": "https://localhost:8080/"
        },
        "id": "D0_KmwXoM7Mv",
        "outputId": "9021ccdf-42e0-4f3b-e84e-a4b6f0f37a7f"
      },
      "execution_count": null,
      "outputs": [
        {
          "output_type": "execute_result",
          "data": {
            "text/plain": [
              "array([[ 2657, 10077,  9728, ...,  3379,  3734,  5452],\n",
              "       [ 6033, 14607,   142, ...,  9728,  2780,  9728],\n",
              "       [  285,  9982,  4151, ...,  4151,  8419,  7662],\n",
              "       ...,\n",
              "       [ 6968, 14703, 11586, ...,  9996, 12808, 15297],\n",
              "       [13865,  7164,  7417, ...,  7102, 16228,  1105],\n",
              "       [10316,  5635,  7799, ...,  3384,  9817, 13882]])"
            ]
          },
          "metadata": {},
          "execution_count": 14
        }
      ]
    },
    {
      "cell_type": "code",
      "source": [
        "recs[0]"
      ],
      "metadata": {
        "colab": {
          "base_uri": "https://localhost:8080/"
        },
        "id": "7fxqAfMvEPUM",
        "outputId": "ab84817d-9591-48a1-9cc6-3b0da811aaa7"
      },
      "execution_count": null,
      "outputs": [
        {
          "output_type": "execute_result",
          "data": {
            "text/plain": [
              "array([ 2657, 10077,  9728,  3834,  1048,  9702, 10440,  3379,  3734,\n",
              "        5452])"
            ]
          },
          "metadata": {},
          "execution_count": 15
        }
      ]
    },
    {
      "cell_type": "code",
      "source": [
        "target = df.values"
      ],
      "metadata": {
        "id": "YEOUn8LlNR5n"
      },
      "execution_count": null,
      "outputs": []
    },
    {
      "cell_type": "code",
      "source": [
        "target[0]"
      ],
      "metadata": {
        "colab": {
          "base_uri": "https://localhost:8080/"
        },
        "id": "pI6cVyJZNTIN",
        "outputId": "65ba7446-de17-44a0-a46d-7cb2e3b22f38"
      },
      "execution_count": null,
      "outputs": [
        {
          "output_type": "execute_result",
          "data": {
            "text/plain": [
              "array([513902,   3614])"
            ]
          },
          "metadata": {},
          "execution_count": 17
        }
      ]
    },
    {
      "cell_type": "markdown",
      "source": [
        "#NAIVE"
      ],
      "metadata": {
        "id": "1z1nXisuFcUN"
      }
    },
    {
      "cell_type": "code",
      "source": [
        "# без К (в сравнении использую эту функцию, чтобы выборка формировалась один раз бля быстроты вычислений)\n",
        "def naive_mrr(target: np.ndarray, users: np.ndarray, recs: np.ndarray):\n",
        "    mrr = 0\n",
        "    for i, user in enumerate(users):\n",
        "        res = 0\n",
        "        user_target = target[target[:, 0] == user][:, 1]\n",
        "        for j, rec in enumerate(recs[i]):\n",
        "            if rec in user_target:\n",
        "                res = 1/(j+1)\n",
        "                break\n",
        "        mrr += res\n",
        "    return mrr / len(users)"
      ],
      "metadata": {
        "id": "Voko-19bNtyO"
      },
      "execution_count": null,
      "outputs": []
    },
    {
      "cell_type": "code",
      "source": [
        "naive_mrr(target, users, recs)"
      ],
      "metadata": {
        "colab": {
          "base_uri": "https://localhost:8080/"
        },
        "id": "BR26b1mHQ4-a",
        "outputId": "2c7c82ee-ed8c-4c37-fcd5-a650b375d86c"
      },
      "execution_count": null,
      "outputs": [
        {
          "output_type": "execute_result",
          "data": {
            "text/plain": [
              "0.07372646825396835"
            ]
          },
          "metadata": {},
          "execution_count": 62
        }
      ]
    },
    {
      "cell_type": "code",
      "source": [
        "# c K\n",
        "def naive_mrr_K_(target: np.ndarray, users: np.ndarray, recs: np.ndarray, K=10):\n",
        "    \n",
        "    #recs = [x[:K] for x in recs]\n",
        "    recs[:, :K]\n",
        "    mrr = 0\n",
        "    for i, user in enumerate(users):\n",
        "        res = 0\n",
        "        user_target = target[target[:, 0] == user][:, 1]\n",
        "        for j, rec in enumerate(recs[i]):\n",
        "            if rec in user_target:\n",
        "                res = 1/(j+1)\n",
        "                break\n",
        "        mrr += res\n",
        "    return mrr / len(users)"
      ],
      "metadata": {
        "id": "PIPlyw1YEERm"
      },
      "execution_count": null,
      "outputs": []
    },
    {
      "cell_type": "code",
      "source": [
        "naive_mrr_K_(target, users, recs, 10)"
      ],
      "metadata": {
        "colab": {
          "base_uri": "https://localhost:8080/"
        },
        "id": "3P38hdrWEfd2",
        "outputId": "4ebf5911-281b-4cd1-f515-3b0fc6041bf4"
      },
      "execution_count": null,
      "outputs": [
        {
          "output_type": "execute_result",
          "data": {
            "text/plain": [
              "0.07836801587301619"
            ]
          },
          "metadata": {},
          "execution_count": 21
        }
      ]
    },
    {
      "cell_type": "code",
      "source": [
        "# без К, обрезка в цикле (в сравнении использую эту функцию, чтобы выборка формировалась один рад бля быстроты вычмслений)\n",
        "def naive_mrr_K2(target: np.ndarray, users: np.ndarray, recs: np.ndarray, K=10):\n",
        "    \n",
        "    mrr = 0\n",
        "    for i, user in enumerate(users):\n",
        "        res = 0\n",
        "        user_target = target[target[:, 0] == user][:, 1]\n",
        "        for j, rec in enumerate(recs[i][:K]):\n",
        "            if rec in user_target:\n",
        "                res = 1/(j+1)\n",
        "                break\n",
        "        mrr += res\n",
        "    return mrr / len(users)\n",
        "\n",
        "naive_mrr_K2(target, users, recs)"
      ],
      "metadata": {
        "colab": {
          "base_uri": "https://localhost:8080/"
        },
        "id": "PFI0ad-Zz3NM",
        "outputId": "6659ec37-18e8-48f0-bf14-a9b525cc3972"
      },
      "execution_count": null,
      "outputs": [
        {
          "output_type": "execute_result",
          "data": {
            "text/plain": [
              "0.07836801587301619"
            ]
          },
          "metadata": {},
          "execution_count": 22
        }
      ]
    },
    {
      "cell_type": "markdown",
      "source": [
        "#NUMBA"
      ],
      "metadata": {
        "id": "MWW6nbwDFgZs"
      }
    },
    {
      "cell_type": "code",
      "source": [
        "# без К\n",
        "@nb.njit(cache=True, parallel=True)\n",
        "def numba_mrr(target: np.ndarray, users: np.ndarray, recs: np.ndarray):\n",
        "    mrr = np.zeros(len(users))\n",
        "    for i in nb.prange(len(users)):\n",
        "        user = users[i]\n",
        "        p = 0\n",
        "        user_target = target[target[:, 0] == user][:, 1]\n",
        "        for j, rec in enumerate(recs[i]):\n",
        "            if rec in user_target:\n",
        "                p = 1/(j+1)\n",
        "                break\n",
        "        mrr[i] = p\n",
        "    return mrr.mean()"
      ],
      "metadata": {
        "id": "h8xOrtBGSN-B"
      },
      "execution_count": null,
      "outputs": []
    },
    {
      "cell_type": "code",
      "source": [
        "numba_mrr(target, users, recs)"
      ],
      "metadata": {
        "colab": {
          "base_uri": "https://localhost:8080/"
        },
        "id": "5ONBpaQUTMWI",
        "outputId": "898a24cb-3a46-411e-86c7-27a96230db97"
      },
      "execution_count": null,
      "outputs": [
        {
          "output_type": "execute_result",
          "data": {
            "text/plain": [
              "0.07836801587301577"
            ]
          },
          "metadata": {},
          "execution_count": 38
        }
      ]
    },
    {
      "cell_type": "code",
      "source": [
        "# c K\n",
        "@nb.njit(cache=True, parallel=True)\n",
        "def numba_mrr_K_(target: np.ndarray, recs: np.ndarray, K = 10):\n",
        "    \n",
        "    # recs = [x[:K] for x in recs]\n",
        "    recs = recs[:, :K]\n",
        "    mrr = np.zeros(len(users))\n",
        "    for i in nb.prange(len(users)):\n",
        "        user = users[i]\n",
        "        p = 0\n",
        "        user_target = target[target[:, 0] == user][:, 1]\n",
        "        for j, rec in enumerate(recs[i]):\n",
        "            if rec in user_target:\n",
        "                p = 1/(j+1)\n",
        "                break\n",
        "        mrr[i] = p\n",
        "    return mrr.mean()"
      ],
      "metadata": {
        "id": "BKieo9CjFTsl"
      },
      "execution_count": null,
      "outputs": []
    },
    {
      "cell_type": "code",
      "source": [
        "numba_mrr_K_(target, recs, 10)"
      ],
      "metadata": {
        "colab": {
          "base_uri": "https://localhost:8080/"
        },
        "id": "vJSkoF8jFU_L",
        "outputId": "8cb0cbf8-6892-4183-8bdf-cd90f9e625a8"
      },
      "execution_count": null,
      "outputs": [
        {
          "output_type": "execute_result",
          "data": {
            "text/plain": [
              "0.07836801587301577"
            ]
          },
          "metadata": {},
          "execution_count": 26
        }
      ]
    },
    {
      "cell_type": "code",
      "source": [
        "# с обрезкой К в цикле\n",
        "@nb.njit(cache=True, parallel=True)\n",
        "def numba_mrr_K2(target: np.ndarray, recs: np.ndarray, K = 10):\n",
        "    \n",
        "    mrr = np.zeros(len(users))\n",
        "    for i in nb.prange(len(users)):\n",
        "        user = users[i]\n",
        "        p = 0\n",
        "        user_target = target[target[:, 0] == user][:, 1]\n",
        "        for j, rec in enumerate(recs[i][:K]):\n",
        "            if rec in user_target:\n",
        "                p = 1/(j+1)\n",
        "                break\n",
        "        mrr[i] = p\n",
        "    return mrr.mean()\n",
        "numba_mrr_K2(target, recs, 10)"
      ],
      "metadata": {
        "colab": {
          "base_uri": "https://localhost:8080/"
        },
        "id": "GAR5Yqd70_tI",
        "outputId": "97534189-176f-458b-d417-fca80402e54d"
      },
      "execution_count": null,
      "outputs": [
        {
          "output_type": "execute_result",
          "data": {
            "text/plain": [
              "0.07836801587301577"
            ]
          },
          "metadata": {},
          "execution_count": 24
        }
      ]
    },
    {
      "cell_type": "markdown",
      "source": [
        "#PANDAS\n"
      ],
      "metadata": {
        "id": "WUGy4kKqGvzh"
      }
    },
    {
      "cell_type": "code",
      "source": [
        "# с погрешностью (если у юзера нет рекомендаций, у него минимум - макс ранг получается)\n",
        "def pandas_mrr(df: pd.DataFrame, users: np.ndarray, recs: np.ndarray):\n",
        "    k = recs.shape[1]\n",
        "    MAX_RANK = 100000\n",
        "    df_recs = pd.DataFrame({\n",
        "        Columns.User: np.repeat(users, k),\n",
        "        Columns.Item: recs.ravel()\n",
        "    })\n",
        "    df_recs[Columns.Rank] = df_recs.groupby(Columns.User).cumcount() + 1\n",
        "    df_recs = df.merge(df_recs, how='left', left_on=Columns.UserItem, right_on=Columns.UserItem).fillna(MAX_RANK)\n",
        "\n",
        "    mrr = (1 / df_recs.groupby('user_id')['rank'].min()).mean()\n",
        "    return mrr"
      ],
      "metadata": {
        "id": "qPc04P1hD5fZ"
      },
      "execution_count": null,
      "outputs": []
    },
    {
      "cell_type": "code",
      "source": [
        "#без K\n",
        "def pandas_mrr(df: pd.DataFrame, users: np.ndarray, recs: np.ndarray):\n",
        "    k = recs.shape[1]\n",
        "    df_recs = pd.DataFrame({\n",
        "        Columns.User: np.repeat(users, k),\n",
        "        Columns.Item: recs.ravel()\n",
        "    })\n",
        "    df_recs['rank'] = df_recs.groupby(Columns.User).cumcount() + 1\n",
        "    df_recs = df.merge(df_recs, how='inner', left_on=Columns.UserItem, right_on=Columns.UserItem)\n",
        "    df_recs = df_recs.sort_values(by='rank').drop_duplicates(subset='user_id', keep=\"first\")\n",
        "    df_recs['rr'] = 1 / df_recs['rank']\n",
        "    mrr = df_recs['rr'].sum() / len(users)\n",
        "    return mrr"
      ],
      "metadata": {
        "id": "fH-qeyzr4QZm"
      },
      "execution_count": null,
      "outputs": []
    },
    {
      "cell_type": "code",
      "source": [
        "pandas_mrr(df, users, recs)"
      ],
      "metadata": {
        "colab": {
          "base_uri": "https://localhost:8080/"
        },
        "id": "8Yofyz3-4Poj",
        "outputId": "cc179fc7-469b-4f1b-f50f-5f53a9abc3c9"
      },
      "execution_count": null,
      "outputs": [
        {
          "output_type": "execute_result",
          "data": {
            "text/plain": [
              "0.07372646825396825"
            ]
          },
          "metadata": {},
          "execution_count": 71
        }
      ]
    },
    {
      "cell_type": "code",
      "source": [
        "#c K, сначала обрезка, потом создание датафрейма\n",
        "def pandas_mrr_K2(df: pd.DataFrame, users: np.ndarray, recs: np.ndarray, K: int):\n",
        "    recs = recs[:, :K]\n",
        "    df_recs = pd.DataFrame({\n",
        "        Columns.User: np.repeat(users, K),\n",
        "        Columns.Item: recs.ravel()\n",
        "    })\n",
        "    df_recs['rank'] = df_recs.groupby(Columns.User).cumcount() + 1\n",
        "    df_recs = df_recs.loc[df_recs['rank'] <= K]\n",
        "    df_recs = df.merge(df_recs, how='inner', left_on=Columns.UserItem, right_on=Columns.UserItem)\n",
        "    df_recs = df_recs.sort_values(by='rank').drop_duplicates(subset='user_id', keep=\"first\")\n",
        "    df_recs['rr'] = 1 / df_recs['rank']\n",
        "    mrr = df_recs['rr'].sum() / len(users)\n",
        "    return mrr\n",
        "\n",
        "pandas_mrr_K2(df, users, recs, 10)"
      ],
      "metadata": {
        "colab": {
          "base_uri": "https://localhost:8080/"
        },
        "id": "RdSsshH33G01",
        "outputId": "3afdc139-14e9-486b-8295-c144e4b1e8de"
      },
      "execution_count": null,
      "outputs": [
        {
          "output_type": "execute_result",
          "data": {
            "text/plain": [
              "0.07836801587301587"
            ]
          },
          "metadata": {},
          "execution_count": 34
        }
      ]
    },
    {
      "cell_type": "code",
      "source": [
        "elapsed_time = timeit.timeit('pandas_mrr(df, users, recs)', \"from __main__ import pandas_mrr, df, target, users, recs\", number=100)/100"
      ],
      "metadata": {
        "id": "0hUwR4I2ai1w"
      },
      "execution_count": null,
      "outputs": []
    },
    {
      "cell_type": "code",
      "source": [
        "elapsed_time"
      ],
      "metadata": {
        "colab": {
          "base_uri": "https://localhost:8080/"
        },
        "id": "_uah5rFmbQNz",
        "outputId": "16b2b559-15c0-4592-d48b-fd585fec01b0"
      },
      "execution_count": null,
      "outputs": [
        {
          "output_type": "execute_result",
          "data": {
            "text/plain": [
              "0.055207233000000994"
            ]
          },
          "metadata": {},
          "execution_count": 21
        }
      ]
    },
    {
      "cell_type": "markdown",
      "source": [
        "для сравнения использую функции без К"
      ],
      "metadata": {
        "id": "_iNc0kO94lDP"
      }
    },
    {
      "cell_type": "code",
      "source": [
        "%timeit\n",
        "list_users_count = [100, 1000, 10000, 100000] \n",
        "list_top_k = [10, 50, 100]\n",
        "c_len = len(list_users_count)\n",
        "k_len = len(list_top_k)\n",
        "time_naive = np.empty((c_len, k_len))\n",
        "time_numba = np.empty(((c_len, k_len)))\n",
        "time_pd = np.empty(((c_len, k_len)))\n",
        "\n",
        "for i, user_count in enumerate(tqdm(list_users_count)):\n",
        "    for j, top_k in enumerate(list_top_k):\n",
        "        df, users, recs = generate_subsample(user_count, top_k)\n",
        "        target = df.values\n",
        "        \n",
        "        time_naive[i][j] = timeit.timeit('naive_mrr(target, users, recs)', setup=\"from __main__ import naive_mrr, target, users, recs\", number=1) / 1\n",
        "        time_numba[i][j] = timeit.timeit('numba_mrr(target, users, recs)', setup=\"from __main__ import numba_mrr, target, users, recs\", number=1) / 1\n",
        "        time_pd[i][j] = timeit.timeit('pandas_mrr(df, users, recs)', setup=\"from __main__ import pandas_mrr, df, users, recs\", number=1) / 1"
      ],
      "metadata": {
        "colab": {
          "base_uri": "https://localhost:8080/",
          "height": 49,
          "referenced_widgets": [
            "ea32d2b8efa845979eb129247a5010a4",
            "c43f1109e61e4ebc96879d85de4180f6",
            "a8367b79909d43dfa67244b3aedee1fd",
            "4fbe3fdda4ca4eb1a0a80fe702243e00",
            "c4ed2e42645547c8bb832403222493dc",
            "eb4544663b04477ba91ecd930576e9fc",
            "a230bc39f1724f9a8736f2e16865662f",
            "b68d188a3c3b4619841b028eba4f0d0b",
            "6f9bb1c5211243bd943203256da7e4a4",
            "1d60caa1c7014db7aaeb56ddbcbbd273",
            "09a987ab9fd94171a09b92c224ecfe5a"
          ]
        },
        "id": "0ya1UAfKYicB",
        "outputId": "851c73b5-1b19-4689-d628-50b1e8263eb5"
      },
      "execution_count": null,
      "outputs": [
        {
          "data": {
            "application/vnd.jupyter.widget-view+json": {
              "model_id": "ea32d2b8efa845979eb129247a5010a4",
              "version_major": 2,
              "version_minor": 0
            },
            "text/plain": [
              "  0%|          | 0/4 [00:00<?, ?it/s]"
            ]
          },
          "metadata": {},
          "output_type": "display_data"
        }
      ]
    },
    {
      "cell_type": "code",
      "source": [
        "fig, axis = plt.subplots(1, k_len, figsize=(25, 8))\n",
        "for i in range(k_len):\n",
        "    axis[i].plot(list_users_count, time_naive[:, i], label='Naive')\n",
        "    axis[i].plot(list_users_count, time_numba[:, i], label='Numba')\n",
        "    axis[i].plot(list_users_count, time_pd[:, i], label='Pandas')\n",
        "    axis[i].set_title(f'top_{list_top_k[i]}')\n",
        "    axis[i].legend()\n",
        "    axis[i].set_xlabel('users_count')\n",
        "    axis[i].set_ylabel('time')\n",
        "    axis[i].grid()\n",
        "    \n",
        "plt.show()"
      ],
      "metadata": {
        "colab": {
          "base_uri": "https://localhost:8080/",
          "height": 513
        },
        "id": "Xp2Q8W9dhF7f",
        "outputId": "dd5f8a4d-6582-4e10-cdb7-1e8d16cc7eda"
      },
      "execution_count": null,
      "outputs": [
        {
          "output_type": "display_data",
          "data": {
            "text/plain": [
              "<Figure size 1800x576 with 3 Axes>"
            ],
            "image/png": "[encoded data removed]"
          },
          "metadata": {
            "needs_background": "light"
          }
        }
      ]
    }
  ]
}