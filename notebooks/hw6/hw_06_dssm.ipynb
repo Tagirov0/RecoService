{
  "cells": [
    {
      "cell_type": "markdown",
      "source": [
        "## Домашнее задание 6\n",
        "В данном ноутбуке часть домашнего задания:\n",
        "1. Использовать информацию о качестве взаимодействия юзеров с айтемами для более репрезентативного сэмплирования. (4 балла)\n",
        "2. Добавить текстовые признаки в модель. (4 балла)\n",
        "\n",
        "и добавлен bpr triplet loss"
      ],
      "metadata": {
        "id": "5grFsqMWiBWl"
      },
      "id": "5grFsqMWiBWl"
    },
    {
      "cell_type": "code",
      "execution_count": null,
      "id": "73d9fa3b",
      "metadata": {
        "ExecuteTime": {
          "end_time": "2021-10-28T18:39:51.562051Z",
          "start_time": "2021-10-28T18:39:49.474990Z"
        },
        "id": "73d9fa3b"
      },
      "outputs": [],
      "source": [
        "import ast\n",
        "import json\n",
        "import matplotlib.pyplot as plt\n",
        "import numpy as np\n",
        "import os\n",
        "import pandas as pd\n",
        "import pickle\n",
        "import tensorflow as tf\n",
        "import tensorflow.keras.backend as K\n",
        "import warnings\n",
        "warnings.filterwarnings('ignore')\n",
        "\n",
        "from collections import Counter\n",
        "from random import randint, random\n",
        "from scipy.sparse import coo_matrix, hstack\n",
        "from sklearn.metrics.pairwise import euclidean_distances, cosine_distances, cosine_similarity\n",
        "from tensorflow import keras\n",
        "from tqdm import tqdm"
      ]
    },
    {
      "cell_type": "markdown",
      "id": "0ce80627",
      "metadata": {
        "id": "0ce80627"
      },
      "source": [
        "## Считаем препроцессные данные из прошлого ноутбучка"
      ]
    },
    {
      "cell_type": "code",
      "source": [
        "from google.colab import drive\n",
        "drive.mount('/content/drive')"
      ],
      "metadata": {
        "colab": {
          "base_uri": "https://localhost:8080/"
        },
        "id": "p-WlbLugwmkC",
        "outputId": "885951d9-80ac-4c3a-bdfa-33705ca7f48e"
      },
      "id": "p-WlbLugwmkC",
      "execution_count": null,
      "outputs": [
        {
          "output_type": "stream",
          "name": "stdout",
          "text": [
            "Mounted at /content/drive\n"
          ]
        }
      ]
    },
    {
      "cell_type": "code",
      "execution_count": null,
      "id": "25508632",
      "metadata": {
        "ExecuteTime": {
          "end_time": "2021-10-28T18:39:51.661446Z",
          "start_time": "2021-10-28T18:39:51.563879Z"
        },
        "id": "25508632"
      },
      "outputs": [],
      "source": [
        "interactions_df = pd.read_csv('/content/drive/MyDrive/data/interactions_processed_kion.csv')\n",
        "users_df = pd.read_csv('/content/drive/MyDrive/data/users_processed_kion.csv')\n",
        "items_df = pd.read_csv('/content/drive/MyDrive/data/items_processed_kion.csv')"
      ]
    },
    {
      "cell_type": "code",
      "execution_count": null,
      "id": "f5eacb31",
      "metadata": {
        "ExecuteTime": {
          "end_time": "2021-10-28T18:40:35.447336Z",
          "start_time": "2021-10-28T18:40:35.434541Z"
        },
        "colab": {
          "base_uri": "https://localhost:8080/",
          "height": 206
        },
        "id": "f5eacb31",
        "outputId": "379d4617-37c0-4856-a2b8-e86196fe8db4"
      },
      "outputs": [
        {
          "output_type": "execute_result",
          "data": {
            "text/plain": [
              "   user_id        age        income sex  kids_flg\n",
              "0   973171  age_25_34  income_60_90   M      True\n",
              "1   962099  age_18_24  income_20_40   M     False\n",
              "2  1047345  age_45_54  income_40_60   F     False\n",
              "3   721985  age_45_54  income_20_40   F     False\n",
              "4   704055  age_35_44  income_60_90   F     False"
            ],
            "text/html": [
              "\n",
              "  <div id=\"df-77ef4f1a-31e5-4c9e-a90b-d3c8491519a3\">\n",
              "    <div class=\"colab-df-container\">\n",
              "      <div>\n",
              "<style scoped>\n",
              "    .dataframe tbody tr th:only-of-type {\n",
              "        vertical-align: middle;\n",
              "    }\n",
              "\n",
              "    .dataframe tbody tr th {\n",
              "        vertical-align: top;\n",
              "    }\n",
              "\n",
              "    .dataframe thead th {\n",
              "        text-align: right;\n",
              "    }\n",
              "</style>\n",
              "<table border=\"1\" class=\"dataframe\">\n",
              "  <thead>\n",
              "    <tr style=\"text-align: right;\">\n",
              "      <th></th>\n",
              "      <th>user_id</th>\n",
              "      <th>age</th>\n",
              "      <th>income</th>\n",
              "      <th>sex</th>\n",
              "      <th>kids_flg</th>\n",
              "    </tr>\n",
              "  </thead>\n",
              "  <tbody>\n",
              "    <tr>\n",
              "      <th>0</th>\n",
              "      <td>973171</td>\n",
              "      <td>age_25_34</td>\n",
              "      <td>income_60_90</td>\n",
              "      <td>M</td>\n",
              "      <td>True</td>\n",
              "    </tr>\n",
              "    <tr>\n",
              "      <th>1</th>\n",
              "      <td>962099</td>\n",
              "      <td>age_18_24</td>\n",
              "      <td>income_20_40</td>\n",
              "      <td>M</td>\n",
              "      <td>False</td>\n",
              "    </tr>\n",
              "    <tr>\n",
              "      <th>2</th>\n",
              "      <td>1047345</td>\n",
              "      <td>age_45_54</td>\n",
              "      <td>income_40_60</td>\n",
              "      <td>F</td>\n",
              "      <td>False</td>\n",
              "    </tr>\n",
              "    <tr>\n",
              "      <th>3</th>\n",
              "      <td>721985</td>\n",
              "      <td>age_45_54</td>\n",
              "      <td>income_20_40</td>\n",
              "      <td>F</td>\n",
              "      <td>False</td>\n",
              "    </tr>\n",
              "    <tr>\n",
              "      <th>4</th>\n",
              "      <td>704055</td>\n",
              "      <td>age_35_44</td>\n",
              "      <td>income_60_90</td>\n",
              "      <td>F</td>\n",
              "      <td>False</td>\n",
              "    </tr>\n",
              "  </tbody>\n",
              "</table>\n",
              "</div>\n",
              "      <button class=\"colab-df-convert\" onclick=\"convertToInteractive('df-77ef4f1a-31e5-4c9e-a90b-d3c8491519a3')\"\n",
              "              title=\"Convert this dataframe to an interactive table.\"\n",
              "              style=\"display:none;\">\n",
              "        \n",
              "  <svg xmlns=\"http://www.w3.org/2000/svg\" height=\"24px\"viewBox=\"0 0 24 24\"\n",
              "       width=\"24px\">\n",
              "    <path d=\"M0 0h24v24H0V0z\" fill=\"none\"/>\n",
              "    <path d=\"M18.56 5.44l.94 2.06.94-2.06 2.06-.94-2.06-.94-.94-2.06-.94 2.06-2.06.94zm-11 1L8.5 8.5l.94-2.06 2.06-.94-2.06-.94L8.5 2.5l-.94 2.06-2.06.94zm10 10l.94 2.06.94-2.06 2.06-.94-2.06-.94-.94-2.06-.94 2.06-2.06.94z\"/><path d=\"M17.41 7.96l-1.37-1.37c-.4-.4-.92-.59-1.43-.59-.52 0-1.04.2-1.43.59L10.3 9.45l-7.72 7.72c-.78.78-.78 2.05 0 2.83L4 21.41c.39.39.9.59 1.41.59.51 0 1.02-.2 1.41-.59l7.78-7.78 2.81-2.81c.8-.78.8-2.07 0-2.86zM5.41 20L4 18.59l7.72-7.72 1.47 1.35L5.41 20z\"/>\n",
              "  </svg>\n",
              "      </button>\n",
              "      \n",
              "  <style>\n",
              "    .colab-df-container {\n",
              "      display:flex;\n",
              "      flex-wrap:wrap;\n",
              "      gap: 12px;\n",
              "    }\n",
              "\n",
              "    .colab-df-convert {\n",
              "      background-color: #E8F0FE;\n",
              "      border: none;\n",
              "      border-radius: 50%;\n",
              "      cursor: pointer;\n",
              "      display: none;\n",
              "      fill: #1967D2;\n",
              "      height: 32px;\n",
              "      padding: 0 0 0 0;\n",
              "      width: 32px;\n",
              "    }\n",
              "\n",
              "    .colab-df-convert:hover {\n",
              "      background-color: #E2EBFA;\n",
              "      box-shadow: 0px 1px 2px rgba(60, 64, 67, 0.3), 0px 1px 3px 1px rgba(60, 64, 67, 0.15);\n",
              "      fill: #174EA6;\n",
              "    }\n",
              "\n",
              "    [theme=dark] .colab-df-convert {\n",
              "      background-color: #3B4455;\n",
              "      fill: #D2E3FC;\n",
              "    }\n",
              "\n",
              "    [theme=dark] .colab-df-convert:hover {\n",
              "      background-color: #434B5C;\n",
              "      box-shadow: 0px 1px 3px 1px rgba(0, 0, 0, 0.15);\n",
              "      filter: drop-shadow(0px 1px 2px rgba(0, 0, 0, 0.3));\n",
              "      fill: #FFFFFF;\n",
              "    }\n",
              "  </style>\n",
              "\n",
              "      <script>\n",
              "        const buttonEl =\n",
              "          document.querySelector('#df-77ef4f1a-31e5-4c9e-a90b-d3c8491519a3 button.colab-df-convert');\n",
              "        buttonEl.style.display =\n",
              "          google.colab.kernel.accessAllowed ? 'block' : 'none';\n",
              "\n",
              "        async function convertToInteractive(key) {\n",
              "          const element = document.querySelector('#df-77ef4f1a-31e5-4c9e-a90b-d3c8491519a3');\n",
              "          const dataTable =\n",
              "            await google.colab.kernel.invokeFunction('convertToInteractive',\n",
              "                                                     [key], {});\n",
              "          if (!dataTable) return;\n",
              "\n",
              "          const docLinkHtml = 'Like what you see? Visit the ' +\n",
              "            '<a target=\"_blank\" href=https://colab.research.google.com/notebooks/data_table.ipynb>data table notebook</a>'\n",
              "            + ' to learn more about interactive tables.';\n",
              "          element.innerHTML = '';\n",
              "          dataTable['output_type'] = 'display_data';\n",
              "          await google.colab.output.renderOutput(dataTable, element);\n",
              "          const docLink = document.createElement('div');\n",
              "          docLink.innerHTML = docLinkHtml;\n",
              "          element.appendChild(docLink);\n",
              "        }\n",
              "      </script>\n",
              "    </div>\n",
              "  </div>\n",
              "  "
            ]
          },
          "metadata": {},
          "execution_count": 4
        }
      ],
      "source": [
        "users_df.head()"
      ]
    },
    {
      "cell_type": "code",
      "execution_count": null,
      "id": "61669d0d",
      "metadata": {
        "ExecuteTime": {
          "end_time": "2021-10-28T18:40:36.103997Z",
          "start_time": "2021-10-28T18:40:36.094699Z"
        },
        "id": "61669d0d"
      },
      "outputs": [],
      "source": [
        "items_df = items_df.rename(columns = {'id' : 'item_id'})"
      ]
    },
    {
      "cell_type": "code",
      "execution_count": null,
      "id": "25f4462e",
      "metadata": {
        "ExecuteTime": {
          "end_time": "2021-10-28T18:40:36.378293Z",
          "start_time": "2021-10-28T18:40:36.370946Z"
        },
        "colab": {
          "base_uri": "https://localhost:8080/",
          "height": 597
        },
        "id": "25f4462e",
        "outputId": "9bda3a8e-1d71-498c-8157-fa14eae046d4"
      },
      "outputs": [
        {
          "output_type": "execute_result",
          "data": {
            "text/plain": [
              "   item_id content_type                 title      title_orig  \\\n",
              "0    10711         film        поговори с ней  Hable con ella   \n",
              "1     2508         film           голые перцы    Search Party   \n",
              "2    10716         film      тактическая сила  Tactical Force   \n",
              "3     7868         film                45 лет        45 Years   \n",
              "4    16268         film  все решает мгновение            None   \n",
              "\n",
              "                                             genres       countries  for_kids  \\\n",
              "0           драмы, зарубежные, детективы, мелодрамы         испания     False   \n",
              "1                  зарубежные, приключения, комедии             сша     False   \n",
              "2  криминал, зарубежные, триллеры, боевики, комедии          канада     False   \n",
              "3                      драмы, зарубежные, мелодрамы  великобритания     False   \n",
              "4                драмы, спорт, советские, мелодрамы            ссср     False   \n",
              "\n",
              "   age_rating   studios         directors  \\\n",
              "0        16.0   unknown  педро альмодовар   \n",
              "1        16.0   unknown    скот армстронг   \n",
              "2        16.0   unknown  адам п. калтраро   \n",
              "3        16.0   unknown         эндрю хэй   \n",
              "4        12.0  ленфильм  виктор садовский   \n",
              "\n",
              "                                              actors  \\\n",
              "0  Адольфо Фернандес, Ана Фернандес, Дарио Гранди...   \n",
              "1  Адам Палли, Брайан Хаски, Дж.Б. Смув, Джейсон ...   \n",
              "2  Адриан Холмс, Даррен Шалави, Джерри Вассерман,...   \n",
              "3  Александра Риддлстон-Барретт, Джеральдин Джейм...   \n",
              "4  Александр Абдулов, Александр Демьяненко, Алекс...   \n",
              "\n",
              "                                         description  \\\n",
              "0  Мелодрама легендарного Педро Альмодовара «Пого...   \n",
              "1  Уморительная современная комедия на популярную...   \n",
              "2  Профессиональный рестлер Стив Остин («Все или ...   \n",
              "3  Шарлотта Рэмплинг, Том Кортни, Джеральдин Джей...   \n",
              "4  Расчетливая чаровница из советского кинохита «...   \n",
              "\n",
              "                                            keywords release_year_cat  \n",
              "0  Поговори, ней, 2002, Испания, друзья, любовь, ...        2000-2010  \n",
              "1  Голые, перцы, 2014, США, друзья, свадьбы, прео...        2010-2020  \n",
              "2  Тактическая, сила, 2011, Канада, бандиты, ганг...        2010-2020  \n",
              "3  45, лет, 2015, Великобритания, брак, жизнь, лю...        2010-2020  \n",
              "4  Все, решает, мгновение, 1978, СССР, сильные, ж...        1970-1980  "
            ],
            "text/html": [
              "\n",
              "  <div id=\"df-5dae6edd-138e-408b-a1f8-f3ea823c92c7\">\n",
              "    <div class=\"colab-df-container\">\n",
              "      <div>\n",
              "<style scoped>\n",
              "    .dataframe tbody tr th:only-of-type {\n",
              "        vertical-align: middle;\n",
              "    }\n",
              "\n",
              "    .dataframe tbody tr th {\n",
              "        vertical-align: top;\n",
              "    }\n",
              "\n",
              "    .dataframe thead th {\n",
              "        text-align: right;\n",
              "    }\n",
              "</style>\n",
              "<table border=\"1\" class=\"dataframe\">\n",
              "  <thead>\n",
              "    <tr style=\"text-align: right;\">\n",
              "      <th></th>\n",
              "      <th>item_id</th>\n",
              "      <th>content_type</th>\n",
              "      <th>title</th>\n",
              "      <th>title_orig</th>\n",
              "      <th>genres</th>\n",
              "      <th>countries</th>\n",
              "      <th>for_kids</th>\n",
              "      <th>age_rating</th>\n",
              "      <th>studios</th>\n",
              "      <th>directors</th>\n",
              "      <th>actors</th>\n",
              "      <th>description</th>\n",
              "      <th>keywords</th>\n",
              "      <th>release_year_cat</th>\n",
              "    </tr>\n",
              "  </thead>\n",
              "  <tbody>\n",
              "    <tr>\n",
              "      <th>0</th>\n",
              "      <td>10711</td>\n",
              "      <td>film</td>\n",
              "      <td>поговори с ней</td>\n",
              "      <td>Hable con ella</td>\n",
              "      <td>драмы, зарубежные, детективы, мелодрамы</td>\n",
              "      <td>испания</td>\n",
              "      <td>False</td>\n",
              "      <td>16.0</td>\n",
              "      <td>unknown</td>\n",
              "      <td>педро альмодовар</td>\n",
              "      <td>Адольфо Фернандес, Ана Фернандес, Дарио Гранди...</td>\n",
              "      <td>Мелодрама легендарного Педро Альмодовара «Пого...</td>\n",
              "      <td>Поговори, ней, 2002, Испания, друзья, любовь, ...</td>\n",
              "      <td>2000-2010</td>\n",
              "    </tr>\n",
              "    <tr>\n",
              "      <th>1</th>\n",
              "      <td>2508</td>\n",
              "      <td>film</td>\n",
              "      <td>голые перцы</td>\n",
              "      <td>Search Party</td>\n",
              "      <td>зарубежные, приключения, комедии</td>\n",
              "      <td>сша</td>\n",
              "      <td>False</td>\n",
              "      <td>16.0</td>\n",
              "      <td>unknown</td>\n",
              "      <td>скот армстронг</td>\n",
              "      <td>Адам Палли, Брайан Хаски, Дж.Б. Смув, Джейсон ...</td>\n",
              "      <td>Уморительная современная комедия на популярную...</td>\n",
              "      <td>Голые, перцы, 2014, США, друзья, свадьбы, прео...</td>\n",
              "      <td>2010-2020</td>\n",
              "    </tr>\n",
              "    <tr>\n",
              "      <th>2</th>\n",
              "      <td>10716</td>\n",
              "      <td>film</td>\n",
              "      <td>тактическая сила</td>\n",
              "      <td>Tactical Force</td>\n",
              "      <td>криминал, зарубежные, триллеры, боевики, комедии</td>\n",
              "      <td>канада</td>\n",
              "      <td>False</td>\n",
              "      <td>16.0</td>\n",
              "      <td>unknown</td>\n",
              "      <td>адам п. калтраро</td>\n",
              "      <td>Адриан Холмс, Даррен Шалави, Джерри Вассерман,...</td>\n",
              "      <td>Профессиональный рестлер Стив Остин («Все или ...</td>\n",
              "      <td>Тактическая, сила, 2011, Канада, бандиты, ганг...</td>\n",
              "      <td>2010-2020</td>\n",
              "    </tr>\n",
              "    <tr>\n",
              "      <th>3</th>\n",
              "      <td>7868</td>\n",
              "      <td>film</td>\n",
              "      <td>45 лет</td>\n",
              "      <td>45 Years</td>\n",
              "      <td>драмы, зарубежные, мелодрамы</td>\n",
              "      <td>великобритания</td>\n",
              "      <td>False</td>\n",
              "      <td>16.0</td>\n",
              "      <td>unknown</td>\n",
              "      <td>эндрю хэй</td>\n",
              "      <td>Александра Риддлстон-Барретт, Джеральдин Джейм...</td>\n",
              "      <td>Шарлотта Рэмплинг, Том Кортни, Джеральдин Джей...</td>\n",
              "      <td>45, лет, 2015, Великобритания, брак, жизнь, лю...</td>\n",
              "      <td>2010-2020</td>\n",
              "    </tr>\n",
              "    <tr>\n",
              "      <th>4</th>\n",
              "      <td>16268</td>\n",
              "      <td>film</td>\n",
              "      <td>все решает мгновение</td>\n",
              "      <td>None</td>\n",
              "      <td>драмы, спорт, советские, мелодрамы</td>\n",
              "      <td>ссср</td>\n",
              "      <td>False</td>\n",
              "      <td>12.0</td>\n",
              "      <td>ленфильм</td>\n",
              "      <td>виктор садовский</td>\n",
              "      <td>Александр Абдулов, Александр Демьяненко, Алекс...</td>\n",
              "      <td>Расчетливая чаровница из советского кинохита «...</td>\n",
              "      <td>Все, решает, мгновение, 1978, СССР, сильные, ж...</td>\n",
              "      <td>1970-1980</td>\n",
              "    </tr>\n",
              "  </tbody>\n",
              "</table>\n",
              "</div>\n",
              "      <button class=\"colab-df-convert\" onclick=\"convertToInteractive('df-5dae6edd-138e-408b-a1f8-f3ea823c92c7')\"\n",
              "              title=\"Convert this dataframe to an interactive table.\"\n",
              "              style=\"display:none;\">\n",
              "        \n",
              "  <svg xmlns=\"http://www.w3.org/2000/svg\" height=\"24px\"viewBox=\"0 0 24 24\"\n",
              "       width=\"24px\">\n",
              "    <path d=\"M0 0h24v24H0V0z\" fill=\"none\"/>\n",
              "    <path d=\"M18.56 5.44l.94 2.06.94-2.06 2.06-.94-2.06-.94-.94-2.06-.94 2.06-2.06.94zm-11 1L8.5 8.5l.94-2.06 2.06-.94-2.06-.94L8.5 2.5l-.94 2.06-2.06.94zm10 10l.94 2.06.94-2.06 2.06-.94-2.06-.94-.94-2.06-.94 2.06-2.06.94z\"/><path d=\"M17.41 7.96l-1.37-1.37c-.4-.4-.92-.59-1.43-.59-.52 0-1.04.2-1.43.59L10.3 9.45l-7.72 7.72c-.78.78-.78 2.05 0 2.83L4 21.41c.39.39.9.59 1.41.59.51 0 1.02-.2 1.41-.59l7.78-7.78 2.81-2.81c.8-.78.8-2.07 0-2.86zM5.41 20L4 18.59l7.72-7.72 1.47 1.35L5.41 20z\"/>\n",
              "  </svg>\n",
              "      </button>\n",
              "      \n",
              "  <style>\n",
              "    .colab-df-container {\n",
              "      display:flex;\n",
              "      flex-wrap:wrap;\n",
              "      gap: 12px;\n",
              "    }\n",
              "\n",
              "    .colab-df-convert {\n",
              "      background-color: #E8F0FE;\n",
              "      border: none;\n",
              "      border-radius: 50%;\n",
              "      cursor: pointer;\n",
              "      display: none;\n",
              "      fill: #1967D2;\n",
              "      height: 32px;\n",
              "      padding: 0 0 0 0;\n",
              "      width: 32px;\n",
              "    }\n",
              "\n",
              "    .colab-df-convert:hover {\n",
              "      background-color: #E2EBFA;\n",
              "      box-shadow: 0px 1px 2px rgba(60, 64, 67, 0.3), 0px 1px 3px 1px rgba(60, 64, 67, 0.15);\n",
              "      fill: #174EA6;\n",
              "    }\n",
              "\n",
              "    [theme=dark] .colab-df-convert {\n",
              "      background-color: #3B4455;\n",
              "      fill: #D2E3FC;\n",
              "    }\n",
              "\n",
              "    [theme=dark] .colab-df-convert:hover {\n",
              "      background-color: #434B5C;\n",
              "      box-shadow: 0px 1px 3px 1px rgba(0, 0, 0, 0.15);\n",
              "      filter: drop-shadow(0px 1px 2px rgba(0, 0, 0, 0.3));\n",
              "      fill: #FFFFFF;\n",
              "    }\n",
              "  </style>\n",
              "\n",
              "      <script>\n",
              "        const buttonEl =\n",
              "          document.querySelector('#df-5dae6edd-138e-408b-a1f8-f3ea823c92c7 button.colab-df-convert');\n",
              "        buttonEl.style.display =\n",
              "          google.colab.kernel.accessAllowed ? 'block' : 'none';\n",
              "\n",
              "        async function convertToInteractive(key) {\n",
              "          const element = document.querySelector('#df-5dae6edd-138e-408b-a1f8-f3ea823c92c7');\n",
              "          const dataTable =\n",
              "            await google.colab.kernel.invokeFunction('convertToInteractive',\n",
              "                                                     [key], {});\n",
              "          if (!dataTable) return;\n",
              "\n",
              "          const docLinkHtml = 'Like what you see? Visit the ' +\n",
              "            '<a target=\"_blank\" href=https://colab.research.google.com/notebooks/data_table.ipynb>data table notebook</a>'\n",
              "            + ' to learn more about interactive tables.';\n",
              "          element.innerHTML = '';\n",
              "          dataTable['output_type'] = 'display_data';\n",
              "          await google.colab.output.renderOutput(dataTable, element);\n",
              "          const docLink = document.createElement('div');\n",
              "          docLink.innerHTML = docLinkHtml;\n",
              "          element.appendChild(docLink);\n",
              "        }\n",
              "      </script>\n",
              "    </div>\n",
              "  </div>\n",
              "  "
            ]
          },
          "metadata": {},
          "execution_count": 6
        }
      ],
      "source": [
        "items_df.head()"
      ]
    },
    {
      "cell_type": "code",
      "execution_count": null,
      "id": "b41964d3",
      "metadata": {
        "ExecuteTime": {
          "end_time": "2021-10-28T18:40:36.607688Z",
          "start_time": "2021-10-28T18:40:36.597640Z"
        },
        "colab": {
          "base_uri": "https://localhost:8080/",
          "height": 206
        },
        "id": "b41964d3",
        "outputId": "a7106012-6e14-4c02-d1ab-fa9bb2f569bc"
      },
      "outputs": [
        {
          "output_type": "execute_result",
          "data": {
            "text/plain": [
              "   user_id  item_id last_watch_dt  total_dur  watched_pct\n",
              "0   176549     9506    2021-05-11       4250           72\n",
              "1   699317     1659    2021-05-29       8317          100\n",
              "2   656683     7107    2021-05-09         10            0\n",
              "3   864613     7638    2021-07-05      14483          100\n",
              "4   964868     9506    2021-04-30       6725          100"
            ],
            "text/html": [
              "\n",
              "  <div id=\"df-d628feec-b45a-441c-bb49-97aa939b97c8\">\n",
              "    <div class=\"colab-df-container\">\n",
              "      <div>\n",
              "<style scoped>\n",
              "    .dataframe tbody tr th:only-of-type {\n",
              "        vertical-align: middle;\n",
              "    }\n",
              "\n",
              "    .dataframe tbody tr th {\n",
              "        vertical-align: top;\n",
              "    }\n",
              "\n",
              "    .dataframe thead th {\n",
              "        text-align: right;\n",
              "    }\n",
              "</style>\n",
              "<table border=\"1\" class=\"dataframe\">\n",
              "  <thead>\n",
              "    <tr style=\"text-align: right;\">\n",
              "      <th></th>\n",
              "      <th>user_id</th>\n",
              "      <th>item_id</th>\n",
              "      <th>last_watch_dt</th>\n",
              "      <th>total_dur</th>\n",
              "      <th>watched_pct</th>\n",
              "    </tr>\n",
              "  </thead>\n",
              "  <tbody>\n",
              "    <tr>\n",
              "      <th>0</th>\n",
              "      <td>176549</td>\n",
              "      <td>9506</td>\n",
              "      <td>2021-05-11</td>\n",
              "      <td>4250</td>\n",
              "      <td>72</td>\n",
              "    </tr>\n",
              "    <tr>\n",
              "      <th>1</th>\n",
              "      <td>699317</td>\n",
              "      <td>1659</td>\n",
              "      <td>2021-05-29</td>\n",
              "      <td>8317</td>\n",
              "      <td>100</td>\n",
              "    </tr>\n",
              "    <tr>\n",
              "      <th>2</th>\n",
              "      <td>656683</td>\n",
              "      <td>7107</td>\n",
              "      <td>2021-05-09</td>\n",
              "      <td>10</td>\n",
              "      <td>0</td>\n",
              "    </tr>\n",
              "    <tr>\n",
              "      <th>3</th>\n",
              "      <td>864613</td>\n",
              "      <td>7638</td>\n",
              "      <td>2021-07-05</td>\n",
              "      <td>14483</td>\n",
              "      <td>100</td>\n",
              "    </tr>\n",
              "    <tr>\n",
              "      <th>4</th>\n",
              "      <td>964868</td>\n",
              "      <td>9506</td>\n",
              "      <td>2021-04-30</td>\n",
              "      <td>6725</td>\n",
              "      <td>100</td>\n",
              "    </tr>\n",
              "  </tbody>\n",
              "</table>\n",
              "</div>\n",
              "      <button class=\"colab-df-convert\" onclick=\"convertToInteractive('df-d628feec-b45a-441c-bb49-97aa939b97c8')\"\n",
              "              title=\"Convert this dataframe to an interactive table.\"\n",
              "              style=\"display:none;\">\n",
              "        \n",
              "  <svg xmlns=\"http://www.w3.org/2000/svg\" height=\"24px\"viewBox=\"0 0 24 24\"\n",
              "       width=\"24px\">\n",
              "    <path d=\"M0 0h24v24H0V0z\" fill=\"none\"/>\n",
              "    <path d=\"M18.56 5.44l.94 2.06.94-2.06 2.06-.94-2.06-.94-.94-2.06-.94 2.06-2.06.94zm-11 1L8.5 8.5l.94-2.06 2.06-.94-2.06-.94L8.5 2.5l-.94 2.06-2.06.94zm10 10l.94 2.06.94-2.06 2.06-.94-2.06-.94-.94-2.06-.94 2.06-2.06.94z\"/><path d=\"M17.41 7.96l-1.37-1.37c-.4-.4-.92-.59-1.43-.59-.52 0-1.04.2-1.43.59L10.3 9.45l-7.72 7.72c-.78.78-.78 2.05 0 2.83L4 21.41c.39.39.9.59 1.41.59.51 0 1.02-.2 1.41-.59l7.78-7.78 2.81-2.81c.8-.78.8-2.07 0-2.86zM5.41 20L4 18.59l7.72-7.72 1.47 1.35L5.41 20z\"/>\n",
              "  </svg>\n",
              "      </button>\n",
              "      \n",
              "  <style>\n",
              "    .colab-df-container {\n",
              "      display:flex;\n",
              "      flex-wrap:wrap;\n",
              "      gap: 12px;\n",
              "    }\n",
              "\n",
              "    .colab-df-convert {\n",
              "      background-color: #E8F0FE;\n",
              "      border: none;\n",
              "      border-radius: 50%;\n",
              "      cursor: pointer;\n",
              "      display: none;\n",
              "      fill: #1967D2;\n",
              "      height: 32px;\n",
              "      padding: 0 0 0 0;\n",
              "      width: 32px;\n",
              "    }\n",
              "\n",
              "    .colab-df-convert:hover {\n",
              "      background-color: #E2EBFA;\n",
              "      box-shadow: 0px 1px 2px rgba(60, 64, 67, 0.3), 0px 1px 3px 1px rgba(60, 64, 67, 0.15);\n",
              "      fill: #174EA6;\n",
              "    }\n",
              "\n",
              "    [theme=dark] .colab-df-convert {\n",
              "      background-color: #3B4455;\n",
              "      fill: #D2E3FC;\n",
              "    }\n",
              "\n",
              "    [theme=dark] .colab-df-convert:hover {\n",
              "      background-color: #434B5C;\n",
              "      box-shadow: 0px 1px 3px 1px rgba(0, 0, 0, 0.15);\n",
              "      filter: drop-shadow(0px 1px 2px rgba(0, 0, 0, 0.3));\n",
              "      fill: #FFFFFF;\n",
              "    }\n",
              "  </style>\n",
              "\n",
              "      <script>\n",
              "        const buttonEl =\n",
              "          document.querySelector('#df-d628feec-b45a-441c-bb49-97aa939b97c8 button.colab-df-convert');\n",
              "        buttonEl.style.display =\n",
              "          google.colab.kernel.accessAllowed ? 'block' : 'none';\n",
              "\n",
              "        async function convertToInteractive(key) {\n",
              "          const element = document.querySelector('#df-d628feec-b45a-441c-bb49-97aa939b97c8');\n",
              "          const dataTable =\n",
              "            await google.colab.kernel.invokeFunction('convertToInteractive',\n",
              "                                                     [key], {});\n",
              "          if (!dataTable) return;\n",
              "\n",
              "          const docLinkHtml = 'Like what you see? Visit the ' +\n",
              "            '<a target=\"_blank\" href=https://colab.research.google.com/notebooks/data_table.ipynb>data table notebook</a>'\n",
              "            + ' to learn more about interactive tables.';\n",
              "          element.innerHTML = '';\n",
              "          dataTable['output_type'] = 'display_data';\n",
              "          await google.colab.output.renderOutput(dataTable, element);\n",
              "          const docLink = document.createElement('div');\n",
              "          docLink.innerHTML = docLinkHtml;\n",
              "          element.appendChild(docLink);\n",
              "        }\n",
              "      </script>\n",
              "    </div>\n",
              "  </div>\n",
              "  "
            ]
          },
          "metadata": {},
          "execution_count": 7
        }
      ],
      "source": [
        "interactions_df.head()"
      ]
    },
    {
      "cell_type": "markdown",
      "id": "cd252422",
      "metadata": {
        "id": "cd252422"
      },
      "source": [
        "## Готовим фичи пользователей"
      ]
    },
    {
      "cell_type": "markdown",
      "id": "pBdccMPAr7KR",
      "metadata": {
        "id": "pBdccMPAr7KR"
      },
      "source": [
        "Посмотрим, какие фичи в датасете фильмов являются категориальными и закодируем их с помощью one-hot encoding."
      ]
    },
    {
      "cell_type": "code",
      "execution_count": null,
      "id": "692270ac",
      "metadata": {
        "ExecuteTime": {
          "end_time": "2021-10-28T18:40:37.156260Z",
          "start_time": "2021-10-28T18:40:37.138422Z"
        },
        "colab": {
          "base_uri": "https://localhost:8080/",
          "height": 270
        },
        "id": "692270ac",
        "outputId": "c6d23f36-1994-42f0-de47-2b6c0c066eff"
      },
      "outputs": [
        {
          "output_type": "execute_result",
          "data": {
            "text/plain": [
              "   user_id  age_age_18_24  age_age_25_34  age_age_35_44  age_age_45_54  \\\n",
              "0   973171              0              1              0              0   \n",
              "1   962099              1              0              0              0   \n",
              "2  1047345              0              0              0              1   \n",
              "3   721985              0              0              0              1   \n",
              "4   704055              0              0              1              0   \n",
              "\n",
              "   age_age_55_64  age_age_65_inf  age_age_unknown  income_income_0_20  \\\n",
              "0              0               0                0                   0   \n",
              "1              0               0                0                   0   \n",
              "2              0               0                0                   0   \n",
              "3              0               0                0                   0   \n",
              "4              0               0                0                   0   \n",
              "\n",
              "   income_income_150_inf  income_income_20_40  income_income_40_60  \\\n",
              "0                      0                    0                    0   \n",
              "1                      0                    1                    0   \n",
              "2                      0                    0                    1   \n",
              "3                      0                    1                    0   \n",
              "4                      0                    0                    0   \n",
              "\n",
              "   income_income_60_90  income_income_90_150  income_income_unknown  sex_F  \\\n",
              "0                    1                     0                      0      0   \n",
              "1                    0                     0                      0      0   \n",
              "2                    0                     0                      0      1   \n",
              "3                    0                     0                      0      1   \n",
              "4                    1                     0                      0      1   \n",
              "\n",
              "   sex_M  sex_sex_unknown  kids_flg_False  kids_flg_True  \n",
              "0      1                0               0              1  \n",
              "1      1                0               1              0  \n",
              "2      0                0               1              0  \n",
              "3      0                0               1              0  \n",
              "4      0                0               1              0  "
            ],
            "text/html": [
              "\n",
              "  <div id=\"df-112ed2d7-d294-4e24-891d-ce59e083e2c7\">\n",
              "    <div class=\"colab-df-container\">\n",
              "      <div>\n",
              "<style scoped>\n",
              "    .dataframe tbody tr th:only-of-type {\n",
              "        vertical-align: middle;\n",
              "    }\n",
              "\n",
              "    .dataframe tbody tr th {\n",
              "        vertical-align: top;\n",
              "    }\n",
              "\n",
              "    .dataframe thead th {\n",
              "        text-align: right;\n",
              "    }\n",
              "</style>\n",
              "<table border=\"1\" class=\"dataframe\">\n",
              "  <thead>\n",
              "    <tr style=\"text-align: right;\">\n",
              "      <th></th>\n",
              "      <th>user_id</th>\n",
              "      <th>age_age_18_24</th>\n",
              "      <th>age_age_25_34</th>\n",
              "      <th>age_age_35_44</th>\n",
              "      <th>age_age_45_54</th>\n",
              "      <th>age_age_55_64</th>\n",
              "      <th>age_age_65_inf</th>\n",
              "      <th>age_age_unknown</th>\n",
              "      <th>income_income_0_20</th>\n",
              "      <th>income_income_150_inf</th>\n",
              "      <th>income_income_20_40</th>\n",
              "      <th>income_income_40_60</th>\n",
              "      <th>income_income_60_90</th>\n",
              "      <th>income_income_90_150</th>\n",
              "      <th>income_income_unknown</th>\n",
              "      <th>sex_F</th>\n",
              "      <th>sex_M</th>\n",
              "      <th>sex_sex_unknown</th>\n",
              "      <th>kids_flg_False</th>\n",
              "      <th>kids_flg_True</th>\n",
              "    </tr>\n",
              "  </thead>\n",
              "  <tbody>\n",
              "    <tr>\n",
              "      <th>0</th>\n",
              "      <td>973171</td>\n",
              "      <td>0</td>\n",
              "      <td>1</td>\n",
              "      <td>0</td>\n",
              "      <td>0</td>\n",
              "      <td>0</td>\n",
              "      <td>0</td>\n",
              "      <td>0</td>\n",
              "      <td>0</td>\n",
              "      <td>0</td>\n",
              "      <td>0</td>\n",
              "      <td>0</td>\n",
              "      <td>1</td>\n",
              "      <td>0</td>\n",
              "      <td>0</td>\n",
              "      <td>0</td>\n",
              "      <td>1</td>\n",
              "      <td>0</td>\n",
              "      <td>0</td>\n",
              "      <td>1</td>\n",
              "    </tr>\n",
              "    <tr>\n",
              "      <th>1</th>\n",
              "      <td>962099</td>\n",
              "      <td>1</td>\n",
              "      <td>0</td>\n",
              "      <td>0</td>\n",
              "      <td>0</td>\n",
              "      <td>0</td>\n",
              "      <td>0</td>\n",
              "      <td>0</td>\n",
              "      <td>0</td>\n",
              "      <td>0</td>\n",
              "      <td>1</td>\n",
              "      <td>0</td>\n",
              "      <td>0</td>\n",
              "      <td>0</td>\n",
              "      <td>0</td>\n",
              "      <td>0</td>\n",
              "      <td>1</td>\n",
              "      <td>0</td>\n",
              "      <td>1</td>\n",
              "      <td>0</td>\n",
              "    </tr>\n",
              "    <tr>\n",
              "      <th>2</th>\n",
              "      <td>1047345</td>\n",
              "      <td>0</td>\n",
              "      <td>0</td>\n",
              "      <td>0</td>\n",
              "      <td>1</td>\n",
              "      <td>0</td>\n",
              "      <td>0</td>\n",
              "      <td>0</td>\n",
              "      <td>0</td>\n",
              "      <td>0</td>\n",
              "      <td>0</td>\n",
              "      <td>1</td>\n",
              "      <td>0</td>\n",
              "      <td>0</td>\n",
              "      <td>0</td>\n",
              "      <td>1</td>\n",
              "      <td>0</td>\n",
              "      <td>0</td>\n",
              "      <td>1</td>\n",
              "      <td>0</td>\n",
              "    </tr>\n",
              "    <tr>\n",
              "      <th>3</th>\n",
              "      <td>721985</td>\n",
              "      <td>0</td>\n",
              "      <td>0</td>\n",
              "      <td>0</td>\n",
              "      <td>1</td>\n",
              "      <td>0</td>\n",
              "      <td>0</td>\n",
              "      <td>0</td>\n",
              "      <td>0</td>\n",
              "      <td>0</td>\n",
              "      <td>1</td>\n",
              "      <td>0</td>\n",
              "      <td>0</td>\n",
              "      <td>0</td>\n",
              "      <td>0</td>\n",
              "      <td>1</td>\n",
              "      <td>0</td>\n",
              "      <td>0</td>\n",
              "      <td>1</td>\n",
              "      <td>0</td>\n",
              "    </tr>\n",
              "    <tr>\n",
              "      <th>4</th>\n",
              "      <td>704055</td>\n",
              "      <td>0</td>\n",
              "      <td>0</td>\n",
              "      <td>1</td>\n",
              "      <td>0</td>\n",
              "      <td>0</td>\n",
              "      <td>0</td>\n",
              "      <td>0</td>\n",
              "      <td>0</td>\n",
              "      <td>0</td>\n",
              "      <td>0</td>\n",
              "      <td>0</td>\n",
              "      <td>1</td>\n",
              "      <td>0</td>\n",
              "      <td>0</td>\n",
              "      <td>1</td>\n",
              "      <td>0</td>\n",
              "      <td>0</td>\n",
              "      <td>1</td>\n",
              "      <td>0</td>\n",
              "    </tr>\n",
              "  </tbody>\n",
              "</table>\n",
              "</div>\n",
              "      <button class=\"colab-df-convert\" onclick=\"convertToInteractive('df-112ed2d7-d294-4e24-891d-ce59e083e2c7')\"\n",
              "              title=\"Convert this dataframe to an interactive table.\"\n",
              "              style=\"display:none;\">\n",
              "        \n",
              "  <svg xmlns=\"http://www.w3.org/2000/svg\" height=\"24px\"viewBox=\"0 0 24 24\"\n",
              "       width=\"24px\">\n",
              "    <path d=\"M0 0h24v24H0V0z\" fill=\"none\"/>\n",
              "    <path d=\"M18.56 5.44l.94 2.06.94-2.06 2.06-.94-2.06-.94-.94-2.06-.94 2.06-2.06.94zm-11 1L8.5 8.5l.94-2.06 2.06-.94-2.06-.94L8.5 2.5l-.94 2.06-2.06.94zm10 10l.94 2.06.94-2.06 2.06-.94-2.06-.94-.94-2.06-.94 2.06-2.06.94z\"/><path d=\"M17.41 7.96l-1.37-1.37c-.4-.4-.92-.59-1.43-.59-.52 0-1.04.2-1.43.59L10.3 9.45l-7.72 7.72c-.78.78-.78 2.05 0 2.83L4 21.41c.39.39.9.59 1.41.59.51 0 1.02-.2 1.41-.59l7.78-7.78 2.81-2.81c.8-.78.8-2.07 0-2.86zM5.41 20L4 18.59l7.72-7.72 1.47 1.35L5.41 20z\"/>\n",
              "  </svg>\n",
              "      </button>\n",
              "      \n",
              "  <style>\n",
              "    .colab-df-container {\n",
              "      display:flex;\n",
              "      flex-wrap:wrap;\n",
              "      gap: 12px;\n",
              "    }\n",
              "\n",
              "    .colab-df-convert {\n",
              "      background-color: #E8F0FE;\n",
              "      border: none;\n",
              "      border-radius: 50%;\n",
              "      cursor: pointer;\n",
              "      display: none;\n",
              "      fill: #1967D2;\n",
              "      height: 32px;\n",
              "      padding: 0 0 0 0;\n",
              "      width: 32px;\n",
              "    }\n",
              "\n",
              "    .colab-df-convert:hover {\n",
              "      background-color: #E2EBFA;\n",
              "      box-shadow: 0px 1px 2px rgba(60, 64, 67, 0.3), 0px 1px 3px 1px rgba(60, 64, 67, 0.15);\n",
              "      fill: #174EA6;\n",
              "    }\n",
              "\n",
              "    [theme=dark] .colab-df-convert {\n",
              "      background-color: #3B4455;\n",
              "      fill: #D2E3FC;\n",
              "    }\n",
              "\n",
              "    [theme=dark] .colab-df-convert:hover {\n",
              "      background-color: #434B5C;\n",
              "      box-shadow: 0px 1px 3px 1px rgba(0, 0, 0, 0.15);\n",
              "      filter: drop-shadow(0px 1px 2px rgba(0, 0, 0, 0.3));\n",
              "      fill: #FFFFFF;\n",
              "    }\n",
              "  </style>\n",
              "\n",
              "      <script>\n",
              "        const buttonEl =\n",
              "          document.querySelector('#df-112ed2d7-d294-4e24-891d-ce59e083e2c7 button.colab-df-convert');\n",
              "        buttonEl.style.display =\n",
              "          google.colab.kernel.accessAllowed ? 'block' : 'none';\n",
              "\n",
              "        async function convertToInteractive(key) {\n",
              "          const element = document.querySelector('#df-112ed2d7-d294-4e24-891d-ce59e083e2c7');\n",
              "          const dataTable =\n",
              "            await google.colab.kernel.invokeFunction('convertToInteractive',\n",
              "                                                     [key], {});\n",
              "          if (!dataTable) return;\n",
              "\n",
              "          const docLinkHtml = 'Like what you see? Visit the ' +\n",
              "            '<a target=\"_blank\" href=https://colab.research.google.com/notebooks/data_table.ipynb>data table notebook</a>'\n",
              "            + ' to learn more about interactive tables.';\n",
              "          element.innerHTML = '';\n",
              "          dataTable['output_type'] = 'display_data';\n",
              "          await google.colab.output.renderOutput(dataTable, element);\n",
              "          const docLink = document.createElement('div');\n",
              "          docLink.innerHTML = docLinkHtml;\n",
              "          element.appendChild(docLink);\n",
              "        }\n",
              "      </script>\n",
              "    </div>\n",
              "  </div>\n",
              "  "
            ]
          },
          "metadata": {},
          "execution_count": 5
        }
      ],
      "source": [
        "user_cat_feats = [\"age\", \"income\", \"sex\", \"kids_flg\"]\n",
        "# из исходного датафрейма оставим только item_id - этот признак нам понадобится позже\n",
        "# для того, чтобы маппить айтемы из датафрейма с фильмами с айтемами \n",
        "# из датафрейма с взаимодействиями\n",
        "users_ohe_df = users_df.user_id\n",
        "for feat in user_cat_feats:\n",
        "    # получаем датафрейм с one-hot encoding для каждой категориальной фичи\n",
        "    ohe_feat_df = pd.get_dummies(users_df[feat], prefix=feat)\n",
        "    # конкатенируем ohe-hot датафрейм с датафреймом, \n",
        "    # который мы получили на предыдущем шаге\n",
        "    users_ohe_df = pd.concat([users_ohe_df, ohe_feat_df], axis=1)\n",
        "\n",
        "users_ohe_df.head()\n"
      ]
    },
    {
      "cell_type": "markdown",
      "id": "74cdbd93",
      "metadata": {
        "id": "74cdbd93"
      },
      "source": [
        "## Готовим фичи айтемов"
      ]
    },
    {
      "cell_type": "markdown",
      "id": "5kHzJ91Mr35c",
      "metadata": {
        "id": "5kHzJ91Mr35c"
      },
      "source": [
        "Кодируем их точно так же - one-hot'ом."
      ]
    },
    {
      "cell_type": "code",
      "source": [
        "items_df.shape"
      ],
      "metadata": {
        "colab": {
          "base_uri": "https://localhost:8080/"
        },
        "id": "ZHdybj5pWwN0",
        "outputId": "13275122-8ad2-49b7-f01e-ac16ae08daa1"
      },
      "id": "ZHdybj5pWwN0",
      "execution_count": null,
      "outputs": [
        {
          "output_type": "execute_result",
          "data": {
            "text/plain": [
              "(15963, 14)"
            ]
          },
          "metadata": {},
          "execution_count": 9
        }
      ]
    },
    {
      "cell_type": "code",
      "execution_count": null,
      "id": "-2Wd9upSsCle",
      "metadata": {
        "colab": {
          "base_uri": "https://localhost:8080/",
          "height": 597
        },
        "id": "-2Wd9upSsCle",
        "outputId": "d2f17c41-6263-4515-9b4a-a3e385f736f2"
      },
      "outputs": [
        {
          "output_type": "execute_result",
          "data": {
            "text/plain": [
              "   item_id content_type                 title      title_orig  \\\n",
              "0    10711         film        поговори с ней  Hable con ella   \n",
              "1     2508         film           голые перцы    Search Party   \n",
              "2    10716         film      тактическая сила  Tactical Force   \n",
              "3     7868         film                45 лет        45 Years   \n",
              "4    16268         film  все решает мгновение            None   \n",
              "\n",
              "                                             genres       countries  for_kids  \\\n",
              "0           драмы, зарубежные, детективы, мелодрамы         испания     False   \n",
              "1                  зарубежные, приключения, комедии             сша     False   \n",
              "2  криминал, зарубежные, триллеры, боевики, комедии          канада     False   \n",
              "3                      драмы, зарубежные, мелодрамы  великобритания     False   \n",
              "4                драмы, спорт, советские, мелодрамы            ссср     False   \n",
              "\n",
              "   age_rating   studios         directors  \\\n",
              "0        16.0   unknown  педро альмодовар   \n",
              "1        16.0   unknown    скот армстронг   \n",
              "2        16.0   unknown  адам п. калтраро   \n",
              "3        16.0   unknown         эндрю хэй   \n",
              "4        12.0  ленфильм  виктор садовский   \n",
              "\n",
              "                                              actors  \\\n",
              "0  Адольфо Фернандес, Ана Фернандес, Дарио Гранди...   \n",
              "1  Адам Палли, Брайан Хаски, Дж.Б. Смув, Джейсон ...   \n",
              "2  Адриан Холмс, Даррен Шалави, Джерри Вассерман,...   \n",
              "3  Александра Риддлстон-Барретт, Джеральдин Джейм...   \n",
              "4  Александр Абдулов, Александр Демьяненко, Алекс...   \n",
              "\n",
              "                                         description  \\\n",
              "0  Мелодрама легендарного Педро Альмодовара «Пого...   \n",
              "1  Уморительная современная комедия на популярную...   \n",
              "2  Профессиональный рестлер Стив Остин («Все или ...   \n",
              "3  Шарлотта Рэмплинг, Том Кортни, Джеральдин Джей...   \n",
              "4  Расчетливая чаровница из советского кинохита «...   \n",
              "\n",
              "                                            keywords release_year_cat  \n",
              "0  Поговори, ней, 2002, Испания, друзья, любовь, ...        2000-2010  \n",
              "1  Голые, перцы, 2014, США, друзья, свадьбы, прео...        2010-2020  \n",
              "2  Тактическая, сила, 2011, Канада, бандиты, ганг...        2010-2020  \n",
              "3  45, лет, 2015, Великобритания, брак, жизнь, лю...        2010-2020  \n",
              "4  Все, решает, мгновение, 1978, СССР, сильные, ж...        1970-1980  "
            ],
            "text/html": [
              "\n",
              "  <div id=\"df-3214dac2-b56b-4edf-b01f-6cc2dda61ef0\">\n",
              "    <div class=\"colab-df-container\">\n",
              "      <div>\n",
              "<style scoped>\n",
              "    .dataframe tbody tr th:only-of-type {\n",
              "        vertical-align: middle;\n",
              "    }\n",
              "\n",
              "    .dataframe tbody tr th {\n",
              "        vertical-align: top;\n",
              "    }\n",
              "\n",
              "    .dataframe thead th {\n",
              "        text-align: right;\n",
              "    }\n",
              "</style>\n",
              "<table border=\"1\" class=\"dataframe\">\n",
              "  <thead>\n",
              "    <tr style=\"text-align: right;\">\n",
              "      <th></th>\n",
              "      <th>item_id</th>\n",
              "      <th>content_type</th>\n",
              "      <th>title</th>\n",
              "      <th>title_orig</th>\n",
              "      <th>genres</th>\n",
              "      <th>countries</th>\n",
              "      <th>for_kids</th>\n",
              "      <th>age_rating</th>\n",
              "      <th>studios</th>\n",
              "      <th>directors</th>\n",
              "      <th>actors</th>\n",
              "      <th>description</th>\n",
              "      <th>keywords</th>\n",
              "      <th>release_year_cat</th>\n",
              "    </tr>\n",
              "  </thead>\n",
              "  <tbody>\n",
              "    <tr>\n",
              "      <th>0</th>\n",
              "      <td>10711</td>\n",
              "      <td>film</td>\n",
              "      <td>поговори с ней</td>\n",
              "      <td>Hable con ella</td>\n",
              "      <td>драмы, зарубежные, детективы, мелодрамы</td>\n",
              "      <td>испания</td>\n",
              "      <td>False</td>\n",
              "      <td>16.0</td>\n",
              "      <td>unknown</td>\n",
              "      <td>педро альмодовар</td>\n",
              "      <td>Адольфо Фернандес, Ана Фернандес, Дарио Гранди...</td>\n",
              "      <td>Мелодрама легендарного Педро Альмодовара «Пого...</td>\n",
              "      <td>Поговори, ней, 2002, Испания, друзья, любовь, ...</td>\n",
              "      <td>2000-2010</td>\n",
              "    </tr>\n",
              "    <tr>\n",
              "      <th>1</th>\n",
              "      <td>2508</td>\n",
              "      <td>film</td>\n",
              "      <td>голые перцы</td>\n",
              "      <td>Search Party</td>\n",
              "      <td>зарубежные, приключения, комедии</td>\n",
              "      <td>сша</td>\n",
              "      <td>False</td>\n",
              "      <td>16.0</td>\n",
              "      <td>unknown</td>\n",
              "      <td>скот армстронг</td>\n",
              "      <td>Адам Палли, Брайан Хаски, Дж.Б. Смув, Джейсон ...</td>\n",
              "      <td>Уморительная современная комедия на популярную...</td>\n",
              "      <td>Голые, перцы, 2014, США, друзья, свадьбы, прео...</td>\n",
              "      <td>2010-2020</td>\n",
              "    </tr>\n",
              "    <tr>\n",
              "      <th>2</th>\n",
              "      <td>10716</td>\n",
              "      <td>film</td>\n",
              "      <td>тактическая сила</td>\n",
              "      <td>Tactical Force</td>\n",
              "      <td>криминал, зарубежные, триллеры, боевики, комедии</td>\n",
              "      <td>канада</td>\n",
              "      <td>False</td>\n",
              "      <td>16.0</td>\n",
              "      <td>unknown</td>\n",
              "      <td>адам п. калтраро</td>\n",
              "      <td>Адриан Холмс, Даррен Шалави, Джерри Вассерман,...</td>\n",
              "      <td>Профессиональный рестлер Стив Остин («Все или ...</td>\n",
              "      <td>Тактическая, сила, 2011, Канада, бандиты, ганг...</td>\n",
              "      <td>2010-2020</td>\n",
              "    </tr>\n",
              "    <tr>\n",
              "      <th>3</th>\n",
              "      <td>7868</td>\n",
              "      <td>film</td>\n",
              "      <td>45 лет</td>\n",
              "      <td>45 Years</td>\n",
              "      <td>драмы, зарубежные, мелодрамы</td>\n",
              "      <td>великобритания</td>\n",
              "      <td>False</td>\n",
              "      <td>16.0</td>\n",
              "      <td>unknown</td>\n",
              "      <td>эндрю хэй</td>\n",
              "      <td>Александра Риддлстон-Барретт, Джеральдин Джейм...</td>\n",
              "      <td>Шарлотта Рэмплинг, Том Кортни, Джеральдин Джей...</td>\n",
              "      <td>45, лет, 2015, Великобритания, брак, жизнь, лю...</td>\n",
              "      <td>2010-2020</td>\n",
              "    </tr>\n",
              "    <tr>\n",
              "      <th>4</th>\n",
              "      <td>16268</td>\n",
              "      <td>film</td>\n",
              "      <td>все решает мгновение</td>\n",
              "      <td>None</td>\n",
              "      <td>драмы, спорт, советские, мелодрамы</td>\n",
              "      <td>ссср</td>\n",
              "      <td>False</td>\n",
              "      <td>12.0</td>\n",
              "      <td>ленфильм</td>\n",
              "      <td>виктор садовский</td>\n",
              "      <td>Александр Абдулов, Александр Демьяненко, Алекс...</td>\n",
              "      <td>Расчетливая чаровница из советского кинохита «...</td>\n",
              "      <td>Все, решает, мгновение, 1978, СССР, сильные, ж...</td>\n",
              "      <td>1970-1980</td>\n",
              "    </tr>\n",
              "  </tbody>\n",
              "</table>\n",
              "</div>\n",
              "      <button class=\"colab-df-convert\" onclick=\"convertToInteractive('df-3214dac2-b56b-4edf-b01f-6cc2dda61ef0')\"\n",
              "              title=\"Convert this dataframe to an interactive table.\"\n",
              "              style=\"display:none;\">\n",
              "        \n",
              "  <svg xmlns=\"http://www.w3.org/2000/svg\" height=\"24px\"viewBox=\"0 0 24 24\"\n",
              "       width=\"24px\">\n",
              "    <path d=\"M0 0h24v24H0V0z\" fill=\"none\"/>\n",
              "    <path d=\"M18.56 5.44l.94 2.06.94-2.06 2.06-.94-2.06-.94-.94-2.06-.94 2.06-2.06.94zm-11 1L8.5 8.5l.94-2.06 2.06-.94-2.06-.94L8.5 2.5l-.94 2.06-2.06.94zm10 10l.94 2.06.94-2.06 2.06-.94-2.06-.94-.94-2.06-.94 2.06-2.06.94z\"/><path d=\"M17.41 7.96l-1.37-1.37c-.4-.4-.92-.59-1.43-.59-.52 0-1.04.2-1.43.59L10.3 9.45l-7.72 7.72c-.78.78-.78 2.05 0 2.83L4 21.41c.39.39.9.59 1.41.59.51 0 1.02-.2 1.41-.59l7.78-7.78 2.81-2.81c.8-.78.8-2.07 0-2.86zM5.41 20L4 18.59l7.72-7.72 1.47 1.35L5.41 20z\"/>\n",
              "  </svg>\n",
              "      </button>\n",
              "      \n",
              "  <style>\n",
              "    .colab-df-container {\n",
              "      display:flex;\n",
              "      flex-wrap:wrap;\n",
              "      gap: 12px;\n",
              "    }\n",
              "\n",
              "    .colab-df-convert {\n",
              "      background-color: #E8F0FE;\n",
              "      border: none;\n",
              "      border-radius: 50%;\n",
              "      cursor: pointer;\n",
              "      display: none;\n",
              "      fill: #1967D2;\n",
              "      height: 32px;\n",
              "      padding: 0 0 0 0;\n",
              "      width: 32px;\n",
              "    }\n",
              "\n",
              "    .colab-df-convert:hover {\n",
              "      background-color: #E2EBFA;\n",
              "      box-shadow: 0px 1px 2px rgba(60, 64, 67, 0.3), 0px 1px 3px 1px rgba(60, 64, 67, 0.15);\n",
              "      fill: #174EA6;\n",
              "    }\n",
              "\n",
              "    [theme=dark] .colab-df-convert {\n",
              "      background-color: #3B4455;\n",
              "      fill: #D2E3FC;\n",
              "    }\n",
              "\n",
              "    [theme=dark] .colab-df-convert:hover {\n",
              "      background-color: #434B5C;\n",
              "      box-shadow: 0px 1px 3px 1px rgba(0, 0, 0, 0.15);\n",
              "      filter: drop-shadow(0px 1px 2px rgba(0, 0, 0, 0.3));\n",
              "      fill: #FFFFFF;\n",
              "    }\n",
              "  </style>\n",
              "\n",
              "      <script>\n",
              "        const buttonEl =\n",
              "          document.querySelector('#df-3214dac2-b56b-4edf-b01f-6cc2dda61ef0 button.colab-df-convert');\n",
              "        buttonEl.style.display =\n",
              "          google.colab.kernel.accessAllowed ? 'block' : 'none';\n",
              "\n",
              "        async function convertToInteractive(key) {\n",
              "          const element = document.querySelector('#df-3214dac2-b56b-4edf-b01f-6cc2dda61ef0');\n",
              "          const dataTable =\n",
              "            await google.colab.kernel.invokeFunction('convertToInteractive',\n",
              "                                                     [key], {});\n",
              "          if (!dataTable) return;\n",
              "\n",
              "          const docLinkHtml = 'Like what you see? Visit the ' +\n",
              "            '<a target=\"_blank\" href=https://colab.research.google.com/notebooks/data_table.ipynb>data table notebook</a>'\n",
              "            + ' to learn more about interactive tables.';\n",
              "          element.innerHTML = '';\n",
              "          dataTable['output_type'] = 'display_data';\n",
              "          await google.colab.output.renderOutput(dataTable, element);\n",
              "          const docLink = document.createElement('div');\n",
              "          docLink.innerHTML = docLinkHtml;\n",
              "          element.appendChild(docLink);\n",
              "        }\n",
              "      </script>\n",
              "    </div>\n",
              "  </div>\n",
              "  "
            ]
          },
          "metadata": {},
          "execution_count": 10
        }
      ],
      "source": [
        "items_df.head()"
      ]
    },
    {
      "cell_type": "code",
      "execution_count": null,
      "id": "7a94ef7e",
      "metadata": {
        "ExecuteTime": {
          "end_time": "2021-10-28T18:40:37.792147Z",
          "start_time": "2021-10-28T18:40:37.537501Z"
        },
        "colab": {
          "base_uri": "https://localhost:8080/",
          "height": 421
        },
        "id": "7a94ef7e",
        "outputId": "fbc1a1ab-919c-4ee3-b64a-135794a6de42"
      },
      "outputs": [
        {
          "output_type": "execute_result",
          "data": {
            "text/plain": [
              "   item_id  content_type_film  content_type_series  \\\n",
              "0    10711                  1                    0   \n",
              "1     2508                  1                    0   \n",
              "2    10716                  1                    0   \n",
              "3     7868                  1                    0   \n",
              "4    16268                  1                    0   \n",
              "\n",
              "   release_year_cat_1920-1930  release_year_cat_1930-1940  \\\n",
              "0                           0                           0   \n",
              "1                           0                           0   \n",
              "2                           0                           0   \n",
              "3                           0                           0   \n",
              "4                           0                           0   \n",
              "\n",
              "   release_year_cat_1940-1950  release_year_cat_1950-1960  \\\n",
              "0                           0                           0   \n",
              "1                           0                           0   \n",
              "2                           0                           0   \n",
              "3                           0                           0   \n",
              "4                           0                           0   \n",
              "\n",
              "   release_year_cat_1960-1970  release_year_cat_1970-1980  \\\n",
              "0                           0                           0   \n",
              "1                           0                           0   \n",
              "2                           0                           0   \n",
              "3                           0                           0   \n",
              "4                           0                           1   \n",
              "\n",
              "   release_year_cat_1980-1990  ...  directors_ярив хоровиц  \\\n",
              "0                           0  ...                       0   \n",
              "1                           0  ...                       0   \n",
              "2                           0  ...                       0   \n",
              "3                           0  ...                       0   \n",
              "4                           0  ...                       0   \n",
              "\n",
              "   directors_ярон зильберман  directors_ярополк лапшин  \\\n",
              "0                          0                         0   \n",
              "1                          0                         0   \n",
              "2                          0                         0   \n",
              "3                          0                         0   \n",
              "4                          0                         0   \n",
              "\n",
              "   directors_ярослав лупий  directors_ярроу чейни, скотт моужер  \\\n",
              "0                        0                                    0   \n",
              "1                        0                                    0   \n",
              "2                        0                                    0   \n",
              "3                        0                                    0   \n",
              "4                        0                                    0   \n",
              "\n",
              "   directors_ясина сезар  directors_ясуоми умэцу  \\\n",
              "0                      0                       0   \n",
              "1                      0                       0   \n",
              "2                      0                       0   \n",
              "3                      0                       0   \n",
              "4                      0                       0   \n",
              "\n",
              "   directors_ёдзи фукуяма, ацуко фукусима, николас де креси, синъитиро ватанабэ, сёдзи кавамори  \\\n",
              "0                                                  0                                              \n",
              "1                                                  0                                              \n",
              "2                                                  0                                              \n",
              "3                                                  0                                              \n",
              "4                                                  0                                              \n",
              "\n",
              "   directors_ёлкин туйчиев  directors_ён сан-хо  \n",
              "0                        0                    0  \n",
              "1                        0                    0  \n",
              "2                        0                    0  \n",
              "3                        0                    0  \n",
              "4                        0                    0  \n",
              "\n",
              "[5 rows x 8589 columns]"
            ],
            "text/html": [
              "\n",
              "  <div id=\"df-801cc318-d8e3-4b95-80e8-3790396ddbcc\">\n",
              "    <div class=\"colab-df-container\">\n",
              "      <div>\n",
              "<style scoped>\n",
              "    .dataframe tbody tr th:only-of-type {\n",
              "        vertical-align: middle;\n",
              "    }\n",
              "\n",
              "    .dataframe tbody tr th {\n",
              "        vertical-align: top;\n",
              "    }\n",
              "\n",
              "    .dataframe thead th {\n",
              "        text-align: right;\n",
              "    }\n",
              "</style>\n",
              "<table border=\"1\" class=\"dataframe\">\n",
              "  <thead>\n",
              "    <tr style=\"text-align: right;\">\n",
              "      <th></th>\n",
              "      <th>item_id</th>\n",
              "      <th>content_type_film</th>\n",
              "      <th>content_type_series</th>\n",
              "      <th>release_year_cat_1920-1930</th>\n",
              "      <th>release_year_cat_1930-1940</th>\n",
              "      <th>release_year_cat_1940-1950</th>\n",
              "      <th>release_year_cat_1950-1960</th>\n",
              "      <th>release_year_cat_1960-1970</th>\n",
              "      <th>release_year_cat_1970-1980</th>\n",
              "      <th>release_year_cat_1980-1990</th>\n",
              "      <th>...</th>\n",
              "      <th>directors_ярив хоровиц</th>\n",
              "      <th>directors_ярон зильберман</th>\n",
              "      <th>directors_ярополк лапшин</th>\n",
              "      <th>directors_ярослав лупий</th>\n",
              "      <th>directors_ярроу чейни, скотт моужер</th>\n",
              "      <th>directors_ясина сезар</th>\n",
              "      <th>directors_ясуоми умэцу</th>\n",
              "      <th>directors_ёдзи фукуяма, ацуко фукусима, николас де креси, синъитиро ватанабэ, сёдзи кавамори</th>\n",
              "      <th>directors_ёлкин туйчиев</th>\n",
              "      <th>directors_ён сан-хо</th>\n",
              "    </tr>\n",
              "  </thead>\n",
              "  <tbody>\n",
              "    <tr>\n",
              "      <th>0</th>\n",
              "      <td>10711</td>\n",
              "      <td>1</td>\n",
              "      <td>0</td>\n",
              "      <td>0</td>\n",
              "      <td>0</td>\n",
              "      <td>0</td>\n",
              "      <td>0</td>\n",
              "      <td>0</td>\n",
              "      <td>0</td>\n",
              "      <td>0</td>\n",
              "      <td>...</td>\n",
              "      <td>0</td>\n",
              "      <td>0</td>\n",
              "      <td>0</td>\n",
              "      <td>0</td>\n",
              "      <td>0</td>\n",
              "      <td>0</td>\n",
              "      <td>0</td>\n",
              "      <td>0</td>\n",
              "      <td>0</td>\n",
              "      <td>0</td>\n",
              "    </tr>\n",
              "    <tr>\n",
              "      <th>1</th>\n",
              "      <td>2508</td>\n",
              "      <td>1</td>\n",
              "      <td>0</td>\n",
              "      <td>0</td>\n",
              "      <td>0</td>\n",
              "      <td>0</td>\n",
              "      <td>0</td>\n",
              "      <td>0</td>\n",
              "      <td>0</td>\n",
              "      <td>0</td>\n",
              "      <td>...</td>\n",
              "      <td>0</td>\n",
              "      <td>0</td>\n",
              "      <td>0</td>\n",
              "      <td>0</td>\n",
              "      <td>0</td>\n",
              "      <td>0</td>\n",
              "      <td>0</td>\n",
              "      <td>0</td>\n",
              "      <td>0</td>\n",
              "      <td>0</td>\n",
              "    </tr>\n",
              "    <tr>\n",
              "      <th>2</th>\n",
              "      <td>10716</td>\n",
              "      <td>1</td>\n",
              "      <td>0</td>\n",
              "      <td>0</td>\n",
              "      <td>0</td>\n",
              "      <td>0</td>\n",
              "      <td>0</td>\n",
              "      <td>0</td>\n",
              "      <td>0</td>\n",
              "      <td>0</td>\n",
              "      <td>...</td>\n",
              "      <td>0</td>\n",
              "      <td>0</td>\n",
              "      <td>0</td>\n",
              "      <td>0</td>\n",
              "      <td>0</td>\n",
              "      <td>0</td>\n",
              "      <td>0</td>\n",
              "      <td>0</td>\n",
              "      <td>0</td>\n",
              "      <td>0</td>\n",
              "    </tr>\n",
              "    <tr>\n",
              "      <th>3</th>\n",
              "      <td>7868</td>\n",
              "      <td>1</td>\n",
              "      <td>0</td>\n",
              "      <td>0</td>\n",
              "      <td>0</td>\n",
              "      <td>0</td>\n",
              "      <td>0</td>\n",
              "      <td>0</td>\n",
              "      <td>0</td>\n",
              "      <td>0</td>\n",
              "      <td>...</td>\n",
              "      <td>0</td>\n",
              "      <td>0</td>\n",
              "      <td>0</td>\n",
              "      <td>0</td>\n",
              "      <td>0</td>\n",
              "      <td>0</td>\n",
              "      <td>0</td>\n",
              "      <td>0</td>\n",
              "      <td>0</td>\n",
              "      <td>0</td>\n",
              "    </tr>\n",
              "    <tr>\n",
              "      <th>4</th>\n",
              "      <td>16268</td>\n",
              "      <td>1</td>\n",
              "      <td>0</td>\n",
              "      <td>0</td>\n",
              "      <td>0</td>\n",
              "      <td>0</td>\n",
              "      <td>0</td>\n",
              "      <td>0</td>\n",
              "      <td>1</td>\n",
              "      <td>0</td>\n",
              "      <td>...</td>\n",
              "      <td>0</td>\n",
              "      <td>0</td>\n",
              "      <td>0</td>\n",
              "      <td>0</td>\n",
              "      <td>0</td>\n",
              "      <td>0</td>\n",
              "      <td>0</td>\n",
              "      <td>0</td>\n",
              "      <td>0</td>\n",
              "      <td>0</td>\n",
              "    </tr>\n",
              "  </tbody>\n",
              "</table>\n",
              "<p>5 rows × 8589 columns</p>\n",
              "</div>\n",
              "      <button class=\"colab-df-convert\" onclick=\"convertToInteractive('df-801cc318-d8e3-4b95-80e8-3790396ddbcc')\"\n",
              "              title=\"Convert this dataframe to an interactive table.\"\n",
              "              style=\"display:none;\">\n",
              "        \n",
              "  <svg xmlns=\"http://www.w3.org/2000/svg\" height=\"24px\"viewBox=\"0 0 24 24\"\n",
              "       width=\"24px\">\n",
              "    <path d=\"M0 0h24v24H0V0z\" fill=\"none\"/>\n",
              "    <path d=\"M18.56 5.44l.94 2.06.94-2.06 2.06-.94-2.06-.94-.94-2.06-.94 2.06-2.06.94zm-11 1L8.5 8.5l.94-2.06 2.06-.94-2.06-.94L8.5 2.5l-.94 2.06-2.06.94zm10 10l.94 2.06.94-2.06 2.06-.94-2.06-.94-.94-2.06-.94 2.06-2.06.94z\"/><path d=\"M17.41 7.96l-1.37-1.37c-.4-.4-.92-.59-1.43-.59-.52 0-1.04.2-1.43.59L10.3 9.45l-7.72 7.72c-.78.78-.78 2.05 0 2.83L4 21.41c.39.39.9.59 1.41.59.51 0 1.02-.2 1.41-.59l7.78-7.78 2.81-2.81c.8-.78.8-2.07 0-2.86zM5.41 20L4 18.59l7.72-7.72 1.47 1.35L5.41 20z\"/>\n",
              "  </svg>\n",
              "      </button>\n",
              "      \n",
              "  <style>\n",
              "    .colab-df-container {\n",
              "      display:flex;\n",
              "      flex-wrap:wrap;\n",
              "      gap: 12px;\n",
              "    }\n",
              "\n",
              "    .colab-df-convert {\n",
              "      background-color: #E8F0FE;\n",
              "      border: none;\n",
              "      border-radius: 50%;\n",
              "      cursor: pointer;\n",
              "      display: none;\n",
              "      fill: #1967D2;\n",
              "      height: 32px;\n",
              "      padding: 0 0 0 0;\n",
              "      width: 32px;\n",
              "    }\n",
              "\n",
              "    .colab-df-convert:hover {\n",
              "      background-color: #E2EBFA;\n",
              "      box-shadow: 0px 1px 2px rgba(60, 64, 67, 0.3), 0px 1px 3px 1px rgba(60, 64, 67, 0.15);\n",
              "      fill: #174EA6;\n",
              "    }\n",
              "\n",
              "    [theme=dark] .colab-df-convert {\n",
              "      background-color: #3B4455;\n",
              "      fill: #D2E3FC;\n",
              "    }\n",
              "\n",
              "    [theme=dark] .colab-df-convert:hover {\n",
              "      background-color: #434B5C;\n",
              "      box-shadow: 0px 1px 3px 1px rgba(0, 0, 0, 0.15);\n",
              "      filter: drop-shadow(0px 1px 2px rgba(0, 0, 0, 0.3));\n",
              "      fill: #FFFFFF;\n",
              "    }\n",
              "  </style>\n",
              "\n",
              "      <script>\n",
              "        const buttonEl =\n",
              "          document.querySelector('#df-801cc318-d8e3-4b95-80e8-3790396ddbcc button.colab-df-convert');\n",
              "        buttonEl.style.display =\n",
              "          google.colab.kernel.accessAllowed ? 'block' : 'none';\n",
              "\n",
              "        async function convertToInteractive(key) {\n",
              "          const element = document.querySelector('#df-801cc318-d8e3-4b95-80e8-3790396ddbcc');\n",
              "          const dataTable =\n",
              "            await google.colab.kernel.invokeFunction('convertToInteractive',\n",
              "                                                     [key], {});\n",
              "          if (!dataTable) return;\n",
              "\n",
              "          const docLinkHtml = 'Like what you see? Visit the ' +\n",
              "            '<a target=\"_blank\" href=https://colab.research.google.com/notebooks/data_table.ipynb>data table notebook</a>'\n",
              "            + ' to learn more about interactive tables.';\n",
              "          element.innerHTML = '';\n",
              "          dataTable['output_type'] = 'display_data';\n",
              "          await google.colab.output.renderOutput(dataTable, element);\n",
              "          const docLink = document.createElement('div');\n",
              "          docLink.innerHTML = docLinkHtml;\n",
              "          element.appendChild(docLink);\n",
              "        }\n",
              "      </script>\n",
              "    </div>\n",
              "  </div>\n",
              "  "
            ]
          },
          "metadata": {},
          "execution_count": 6
        }
      ],
      "source": [
        "item_cat_feats = ['content_type', 'release_year_cat',\n",
        "                  'for_kids', 'age_rating', \n",
        "                  'studios', 'countries', 'directors']\n",
        "\n",
        "items_ohe_df = items_df.item_id\n",
        "\n",
        "for feat in item_cat_feats:\n",
        "    ohe_feat_df = pd.get_dummies(items_df[feat], prefix=feat)\n",
        "    items_ohe_df = pd.concat([items_ohe_df, ohe_feat_df], axis=1) \n",
        "\n",
        "items_ohe_df.head()"
      ]
    },
    {
      "cell_type": "code",
      "source": [
        "items_ohe_df.shape"
      ],
      "metadata": {
        "colab": {
          "base_uri": "https://localhost:8080/"
        },
        "id": "2kTM_qz4W86C",
        "outputId": "7b2d921a-a0e3-4621-da49-b221ed9efa1a"
      },
      "id": "2kTM_qz4W86C",
      "execution_count": null,
      "outputs": [
        {
          "output_type": "execute_result",
          "data": {
            "text/plain": [
              "(15963, 8589)"
            ]
          },
          "metadata": {},
          "execution_count": 12
        }
      ]
    },
    {
      "cell_type": "code",
      "source": [
        "items_ohe_df = items_ohe_df.astype(float)"
      ],
      "metadata": {
        "id": "mHR7NnXsg8cf"
      },
      "id": "mHR7NnXsg8cf",
      "execution_count": null,
      "outputs": []
    },
    {
      "cell_type": "code",
      "source": [
        "items_ohe_df.info()"
      ],
      "metadata": {
        "colab": {
          "base_uri": "https://localhost:8080/"
        },
        "id": "HHywFdxQf2VG",
        "outputId": "0b5d1dea-cd46-45a5-f316-bffa610a669f"
      },
      "id": "HHywFdxQf2VG",
      "execution_count": null,
      "outputs": [
        {
          "output_type": "stream",
          "name": "stdout",
          "text": [
            "<class 'pandas.core.frame.DataFrame'>\n",
            "RangeIndex: 15963 entries, 0 to 15962\n",
            "Columns: 8589 entries, item_id to directors_ён сан-хо\n",
            "dtypes: float64(8589)\n",
            "memory usage: 1.0 GB\n"
          ]
        }
      ]
    },
    {
      "cell_type": "markdown",
      "id": "8c284190",
      "metadata": {
        "id": "8c284190"
      },
      "source": [
        "### Задание: Попробуйте передать текстовые признаки в модель"
      ]
    },
    {
      "cell_type": "markdown",
      "source": [
        "обработаем текcтовое поле \"genres\""
      ],
      "metadata": {
        "id": "h0ZM1X9S9bbD"
      },
      "id": "h0ZM1X9S9bbD"
    },
    {
      "cell_type": "code",
      "source": [
        "genres = items_df.genres.values"
      ],
      "metadata": {
        "id": "Xmrj4cId9nQp"
      },
      "id": "Xmrj4cId9nQp",
      "execution_count": null,
      "outputs": []
    },
    {
      "cell_type": "code",
      "source": [
        "len(genres)"
      ],
      "metadata": {
        "colab": {
          "base_uri": "https://localhost:8080/"
        },
        "id": "bi2LGjyvWkt7",
        "outputId": "41afeb19-56fc-4580-b421-ae9246b46628"
      },
      "id": "bi2LGjyvWkt7",
      "execution_count": null,
      "outputs": [
        {
          "output_type": "execute_result",
          "data": {
            "text/plain": [
              "15963"
            ]
          },
          "metadata": {},
          "execution_count": 16
        }
      ]
    },
    {
      "cell_type": "code",
      "source": [
        "from tensorflow.keras.preprocessing.text import Tokenizer\n",
        "tokenizer = Tokenizer(num_words=112,\n",
        "                      filters='!\"#$%&()*+,-–—./:;<=>?@[\\\\]^_`{|}~\\t\\n\\xa0',\n",
        "                      lower=True, \n",
        "                      split=' ', \n",
        "                      oov_token='unknown', \n",
        "                      char_level=False \n",
        "                      )\n",
        "tokenizer.fit_on_texts(genres) "
      ],
      "metadata": {
        "id": "Ie1VEcXq-uma"
      },
      "id": "Ie1VEcXq-uma",
      "execution_count": null,
      "outputs": []
    },
    {
      "cell_type": "code",
      "source": [
        "items = list(tokenizer.word_index.items())       # Получение индексов слов\n",
        "print(items[:50])                                # Посмотр 50 самых часто встречающихся слов\n",
        "print(\"Размер словаря\", len(items)) "
      ],
      "metadata": {
        "colab": {
          "base_uri": "https://localhost:8080/"
        },
        "id": "bySQHqd6_NHw",
        "outputId": "552ace97-ad04-4d2f-8c1f-93a78194288b"
      },
      "id": "bySQHqd6_NHw",
      "execution_count": null,
      "outputs": [
        {
          "output_type": "stream",
          "name": "stdout",
          "text": [
            "[('unknown', 1), ('драмы', 2), ('комедии', 3), ('зарубежные', 4), ('мелодрамы', 5), ('триллеры', 6), ('русские', 7), ('приключения', 8), ('боевики', 9), ('документальное', 10), ('для', 11), ('криминал', 12), ('детективы', 13), ('фантастика', 14), ('семейное', 15), ('ужасы', 16), ('фэнтези', 17), ('детей', 18), ('советские', 19), ('военные', 20), ('мультфильмы', 21), ('взрослых', 22), ('биография', 23), ('мультфильм', 24), ('фитнес', 25), ('исторические', 26), ('спорт', 27), ('фильмы', 28), ('музыкальные', 29), ('мультсериалы', 30), ('сериалы', 31), ('историческое', 32), ('западные', 33), ('no', 34), ('genre', 35), ('детские', 36), ('развитие', 37), ('мюзиклы', 38), ('короткометражные', 39), ('полнометражные', 40), ('hbo', 41), ('развлекательные', 42), ('про', 43), ('животных', 44), ('хочу', 45), ('всё', 46), ('знать', 47), ('аниме', 48), ('познавательные', 49), ('вестерн', 50)]\n",
            "Размер словаря 112\n"
          ]
        }
      ]
    },
    {
      "cell_type": "code",
      "source": [
        "genres_seq = tokenizer.texts_to_sequences(genres)"
      ],
      "metadata": {
        "id": "yEK4Dg_K_rOh"
      },
      "id": "yEK4Dg_K_rOh",
      "execution_count": null,
      "outputs": []
    },
    {
      "cell_type": "code",
      "source": [
        "len(genres_seq)"
      ],
      "metadata": {
        "colab": {
          "base_uri": "https://localhost:8080/"
        },
        "id": "U0pMAzBxWXGQ",
        "outputId": "b3d7a6ad-0aef-4fd8-98b4-73c32ddc5699"
      },
      "id": "U0pMAzBxWXGQ",
      "execution_count": null,
      "outputs": [
        {
          "output_type": "execute_result",
          "data": {
            "text/plain": [
              "15963"
            ]
          },
          "metadata": {},
          "execution_count": 20
        }
      ]
    },
    {
      "cell_type": "code",
      "source": [
        "x_genres = tokenizer.sequences_to_matrix(genres_seq)"
      ],
      "metadata": {
        "id": "jF-98lSuATS6"
      },
      "id": "jF-98lSuATS6",
      "execution_count": null,
      "outputs": []
    },
    {
      "cell_type": "code",
      "source": [
        "print(x_genres.shape)\n",
        "print(x_genres[10][0:100])"
      ],
      "metadata": {
        "colab": {
          "base_uri": "https://localhost:8080/"
        },
        "id": "h9PGT107_rDt",
        "outputId": "a2c0e311-a377-43cd-90aa-daf648f0b74d"
      },
      "id": "h9PGT107_rDt",
      "execution_count": null,
      "outputs": [
        {
          "output_type": "stream",
          "name": "stdout",
          "text": [
            "(15963, 112)\n",
            "[0. 0. 1. 0. 1. 1. 0. 0. 0. 0. 0. 0. 0. 0. 0. 0. 0. 0. 0. 0. 0. 0. 0. 1.\n",
            " 0. 0. 0. 0. 0. 0. 0. 0. 0. 0. 0. 0. 0. 0. 0. 0. 0. 0. 0. 0. 0. 0. 0. 0.\n",
            " 0. 0. 0. 0. 0. 0. 0. 1. 0. 0. 0. 0. 0. 0. 0. 0. 0. 0. 0. 0. 0. 0. 0. 0.\n",
            " 0. 0. 0. 0. 0. 0. 0. 0. 0. 0. 0. 0. 0. 0. 0. 0. 0. 0. 0. 0. 0. 0. 0. 0.\n",
            " 0. 0. 0. 0.]\n"
          ]
        }
      ]
    },
    {
      "cell_type": "code",
      "source": [
        "# проверка\n",
        "n = 10\n",
        "print(genres[n])                       \n",
        "print(genres_seq[n])                        \n",
        "print(x_genres[n][0:100])  "
      ],
      "metadata": {
        "colab": {
          "base_uri": "https://localhost:8080/"
        },
        "id": "95GVSttMAi35",
        "outputId": "b9a9fe95-2aad-41d3-f64e-5b6eac12db78"
      },
      "id": "95GVSttMAi35",
      "execution_count": null,
      "outputs": [
        {
          "output_type": "stream",
          "name": "stdout",
          "text": [
            "биография, экранизации, драмы, зарубежные, мелодрамы\n",
            "[23, 55, 2, 4, 5]\n",
            "[0. 0. 1. 0. 1. 1. 0. 0. 0. 0. 0. 0. 0. 0. 0. 0. 0. 0. 0. 0. 0. 0. 0. 1.\n",
            " 0. 0. 0. 0. 0. 0. 0. 0. 0. 0. 0. 0. 0. 0. 0. 0. 0. 0. 0. 0. 0. 0. 0. 0.\n",
            " 0. 0. 0. 0. 0. 0. 0. 1. 0. 0. 0. 0. 0. 0. 0. 0. 0. 0. 0. 0. 0. 0. 0. 0.\n",
            " 0. 0. 0. 0. 0. 0. 0. 0. 0. 0. 0. 0. 0. 0. 0. 0. 0. 0. 0. 0. 0. 0. 0. 0.\n",
            " 0. 0. 0. 0.]\n"
          ]
        }
      ]
    },
    {
      "cell_type": "code",
      "source": [
        "x_genres.shape"
      ],
      "metadata": {
        "colab": {
          "base_uri": "https://localhost:8080/"
        },
        "id": "7DgoHBTTWOGl",
        "outputId": "14db1041-7401-49d7-bc12-a1ed74690a35"
      },
      "id": "7DgoHBTTWOGl",
      "execution_count": null,
      "outputs": [
        {
          "output_type": "execute_result",
          "data": {
            "text/plain": [
              "(15963, 112)"
            ]
          },
          "metadata": {},
          "execution_count": 24
        }
      ]
    },
    {
      "cell_type": "markdown",
      "source": [
        "перевела текс в матрицу, добавим эту информацию в датафрейм"
      ],
      "metadata": {
        "id": "2esIj9EkA2zs"
      },
      "id": "2esIj9EkA2zs"
    },
    {
      "cell_type": "code",
      "source": [
        "items_df['gen_tok'] = x_genres.tolist()"
      ],
      "metadata": {
        "id": "XPx_oZATWH_J"
      },
      "id": "XPx_oZATWH_J",
      "execution_count": null,
      "outputs": []
    },
    {
      "cell_type": "code",
      "source": [
        "gen_df = items_df[['item_id', 'gen_tok']].copy()"
      ],
      "metadata": {
        "id": "48XpUm_aY5RK"
      },
      "id": "48XpUm_aY5RK",
      "execution_count": null,
      "outputs": []
    },
    {
      "cell_type": "code",
      "source": [
        "new_df = pd.DataFrame(gen_df['gen_tok'].to_list())"
      ],
      "metadata": {
        "id": "Fh-xsXI9cWJy"
      },
      "id": "Fh-xsXI9cWJy",
      "execution_count": null,
      "outputs": []
    },
    {
      "cell_type": "code",
      "source": [
        "new_df = pd.concat([gen_df, new_df], axis=1)"
      ],
      "metadata": {
        "id": "ffJ9zjYde6G-"
      },
      "id": "ffJ9zjYde6G-",
      "execution_count": null,
      "outputs": []
    },
    {
      "cell_type": "code",
      "source": [
        "new_df.drop('gen_tok', inplace=True, axis=1)"
      ],
      "metadata": {
        "id": "Qo3Dz7JQfDQL"
      },
      "id": "Qo3Dz7JQfDQL",
      "execution_count": null,
      "outputs": []
    },
    {
      "cell_type": "code",
      "source": [
        "items_ohe_df_tok = items_ohe_df.merge(new_df, how='left', on='item_id')"
      ],
      "metadata": {
        "id": "raZNryFjVlGL"
      },
      "id": "raZNryFjVlGL",
      "execution_count": null,
      "outputs": []
    },
    {
      "cell_type": "code",
      "source": [
        "items_ohe_df_tok"
      ],
      "metadata": {
        "colab": {
          "base_uri": "https://localhost:8080/",
          "height": 505
        },
        "id": "k7S7_GYmaXsQ",
        "outputId": "519e6373-a563-4ced-f7be-419339a7df86"
      },
      "id": "k7S7_GYmaXsQ",
      "execution_count": null,
      "outputs": [
        {
          "output_type": "execute_result",
          "data": {
            "text/plain": [
              "       item_id  content_type_film  content_type_series  \\\n",
              "0      10711.0                1.0                  0.0   \n",
              "1       2508.0                1.0                  0.0   \n",
              "2      10716.0                1.0                  0.0   \n",
              "3       7868.0                1.0                  0.0   \n",
              "4      16268.0                1.0                  0.0   \n",
              "...        ...                ...                  ...   \n",
              "15958   6443.0                0.0                  1.0   \n",
              "15959   2367.0                0.0                  1.0   \n",
              "15960  10632.0                0.0                  1.0   \n",
              "15961   4538.0                0.0                  1.0   \n",
              "15962   3206.0                0.0                  1.0   \n",
              "\n",
              "       release_year_cat_1920-1930  release_year_cat_1930-1940  \\\n",
              "0                             0.0                         0.0   \n",
              "1                             0.0                         0.0   \n",
              "2                             0.0                         0.0   \n",
              "3                             0.0                         0.0   \n",
              "4                             0.0                         0.0   \n",
              "...                           ...                         ...   \n",
              "15958                         0.0                         0.0   \n",
              "15959                         0.0                         0.0   \n",
              "15960                         0.0                         0.0   \n",
              "15961                         0.0                         0.0   \n",
              "15962                         0.0                         0.0   \n",
              "\n",
              "       release_year_cat_1940-1950  release_year_cat_1950-1960  \\\n",
              "0                             0.0                         0.0   \n",
              "1                             0.0                         0.0   \n",
              "2                             0.0                         0.0   \n",
              "3                             0.0                         0.0   \n",
              "4                             0.0                         0.0   \n",
              "...                           ...                         ...   \n",
              "15958                         0.0                         0.0   \n",
              "15959                         0.0                         0.0   \n",
              "15960                         0.0                         0.0   \n",
              "15961                         0.0                         0.0   \n",
              "15962                         0.0                         0.0   \n",
              "\n",
              "       release_year_cat_1960-1970  release_year_cat_1970-1980  \\\n",
              "0                             0.0                         0.0   \n",
              "1                             0.0                         0.0   \n",
              "2                             0.0                         0.0   \n",
              "3                             0.0                         0.0   \n",
              "4                             0.0                         1.0   \n",
              "...                           ...                         ...   \n",
              "15958                         0.0                         0.0   \n",
              "15959                         0.0                         0.0   \n",
              "15960                         0.0                         0.0   \n",
              "15961                         0.0                         0.0   \n",
              "15962                         0.0                         0.0   \n",
              "\n",
              "       release_year_cat_1980-1990  ...  102  103  104  105  106  107  108  \\\n",
              "0                             0.0  ...  0.0  0.0  0.0  0.0  0.0  0.0  0.0   \n",
              "1                             0.0  ...  0.0  0.0  0.0  0.0  0.0  0.0  0.0   \n",
              "2                             0.0  ...  0.0  0.0  0.0  0.0  0.0  0.0  0.0   \n",
              "3                             0.0  ...  0.0  0.0  0.0  0.0  0.0  0.0  0.0   \n",
              "4                             0.0  ...  0.0  0.0  0.0  0.0  0.0  0.0  0.0   \n",
              "...                           ...  ...  ...  ...  ...  ...  ...  ...  ...   \n",
              "15958                         0.0  ...  0.0  0.0  0.0  0.0  0.0  0.0  0.0   \n",
              "15959                         0.0  ...  0.0  0.0  0.0  0.0  0.0  0.0  0.0   \n",
              "15960                         0.0  ...  0.0  0.0  0.0  0.0  0.0  0.0  0.0   \n",
              "15961                         0.0  ...  0.0  0.0  0.0  0.0  0.0  0.0  0.0   \n",
              "15962                         0.0  ...  0.0  0.0  0.0  0.0  0.0  0.0  0.0   \n",
              "\n",
              "       109  110  111  \n",
              "0      0.0  0.0  0.0  \n",
              "1      0.0  0.0  0.0  \n",
              "2      0.0  0.0  0.0  \n",
              "3      0.0  0.0  0.0  \n",
              "4      0.0  0.0  0.0  \n",
              "...    ...  ...  ...  \n",
              "15958  0.0  0.0  0.0  \n",
              "15959  0.0  0.0  0.0  \n",
              "15960  0.0  0.0  0.0  \n",
              "15961  0.0  0.0  0.0  \n",
              "15962  0.0  0.0  0.0  \n",
              "\n",
              "[15963 rows x 8701 columns]"
            ],
            "text/html": [
              "\n",
              "  <div id=\"df-dd59ab51-5743-428d-862c-cec1c36e5067\">\n",
              "    <div class=\"colab-df-container\">\n",
              "      <div>\n",
              "<style scoped>\n",
              "    .dataframe tbody tr th:only-of-type {\n",
              "        vertical-align: middle;\n",
              "    }\n",
              "\n",
              "    .dataframe tbody tr th {\n",
              "        vertical-align: top;\n",
              "    }\n",
              "\n",
              "    .dataframe thead th {\n",
              "        text-align: right;\n",
              "    }\n",
              "</style>\n",
              "<table border=\"1\" class=\"dataframe\">\n",
              "  <thead>\n",
              "    <tr style=\"text-align: right;\">\n",
              "      <th></th>\n",
              "      <th>item_id</th>\n",
              "      <th>content_type_film</th>\n",
              "      <th>content_type_series</th>\n",
              "      <th>release_year_cat_1920-1930</th>\n",
              "      <th>release_year_cat_1930-1940</th>\n",
              "      <th>release_year_cat_1940-1950</th>\n",
              "      <th>release_year_cat_1950-1960</th>\n",
              "      <th>release_year_cat_1960-1970</th>\n",
              "      <th>release_year_cat_1970-1980</th>\n",
              "      <th>release_year_cat_1980-1990</th>\n",
              "      <th>...</th>\n",
              "      <th>102</th>\n",
              "      <th>103</th>\n",
              "      <th>104</th>\n",
              "      <th>105</th>\n",
              "      <th>106</th>\n",
              "      <th>107</th>\n",
              "      <th>108</th>\n",
              "      <th>109</th>\n",
              "      <th>110</th>\n",
              "      <th>111</th>\n",
              "    </tr>\n",
              "  </thead>\n",
              "  <tbody>\n",
              "    <tr>\n",
              "      <th>0</th>\n",
              "      <td>10711.0</td>\n",
              "      <td>1.0</td>\n",
              "      <td>0.0</td>\n",
              "      <td>0.0</td>\n",
              "      <td>0.0</td>\n",
              "      <td>0.0</td>\n",
              "      <td>0.0</td>\n",
              "      <td>0.0</td>\n",
              "      <td>0.0</td>\n",
              "      <td>0.0</td>\n",
              "      <td>...</td>\n",
              "      <td>0.0</td>\n",
              "      <td>0.0</td>\n",
              "      <td>0.0</td>\n",
              "      <td>0.0</td>\n",
              "      <td>0.0</td>\n",
              "      <td>0.0</td>\n",
              "      <td>0.0</td>\n",
              "      <td>0.0</td>\n",
              "      <td>0.0</td>\n",
              "      <td>0.0</td>\n",
              "    </tr>\n",
              "    <tr>\n",
              "      <th>1</th>\n",
              "      <td>2508.0</td>\n",
              "      <td>1.0</td>\n",
              "      <td>0.0</td>\n",
              "      <td>0.0</td>\n",
              "      <td>0.0</td>\n",
              "      <td>0.0</td>\n",
              "      <td>0.0</td>\n",
              "      <td>0.0</td>\n",
              "      <td>0.0</td>\n",
              "      <td>0.0</td>\n",
              "      <td>...</td>\n",
              "      <td>0.0</td>\n",
              "      <td>0.0</td>\n",
              "      <td>0.0</td>\n",
              "      <td>0.0</td>\n",
              "      <td>0.0</td>\n",
              "      <td>0.0</td>\n",
              "      <td>0.0</td>\n",
              "      <td>0.0</td>\n",
              "      <td>0.0</td>\n",
              "      <td>0.0</td>\n",
              "    </tr>\n",
              "    <tr>\n",
              "      <th>2</th>\n",
              "      <td>10716.0</td>\n",
              "      <td>1.0</td>\n",
              "      <td>0.0</td>\n",
              "      <td>0.0</td>\n",
              "      <td>0.0</td>\n",
              "      <td>0.0</td>\n",
              "      <td>0.0</td>\n",
              "      <td>0.0</td>\n",
              "      <td>0.0</td>\n",
              "      <td>0.0</td>\n",
              "      <td>...</td>\n",
              "      <td>0.0</td>\n",
              "      <td>0.0</td>\n",
              "      <td>0.0</td>\n",
              "      <td>0.0</td>\n",
              "      <td>0.0</td>\n",
              "      <td>0.0</td>\n",
              "      <td>0.0</td>\n",
              "      <td>0.0</td>\n",
              "      <td>0.0</td>\n",
              "      <td>0.0</td>\n",
              "    </tr>\n",
              "    <tr>\n",
              "      <th>3</th>\n",
              "      <td>7868.0</td>\n",
              "      <td>1.0</td>\n",
              "      <td>0.0</td>\n",
              "      <td>0.0</td>\n",
              "      <td>0.0</td>\n",
              "      <td>0.0</td>\n",
              "      <td>0.0</td>\n",
              "      <td>0.0</td>\n",
              "      <td>0.0</td>\n",
              "      <td>0.0</td>\n",
              "      <td>...</td>\n",
              "      <td>0.0</td>\n",
              "      <td>0.0</td>\n",
              "      <td>0.0</td>\n",
              "      <td>0.0</td>\n",
              "      <td>0.0</td>\n",
              "      <td>0.0</td>\n",
              "      <td>0.0</td>\n",
              "      <td>0.0</td>\n",
              "      <td>0.0</td>\n",
              "      <td>0.0</td>\n",
              "    </tr>\n",
              "    <tr>\n",
              "      <th>4</th>\n",
              "      <td>16268.0</td>\n",
              "      <td>1.0</td>\n",
              "      <td>0.0</td>\n",
              "      <td>0.0</td>\n",
              "      <td>0.0</td>\n",
              "      <td>0.0</td>\n",
              "      <td>0.0</td>\n",
              "      <td>0.0</td>\n",
              "      <td>1.0</td>\n",
              "      <td>0.0</td>\n",
              "      <td>...</td>\n",
              "      <td>0.0</td>\n",
              "      <td>0.0</td>\n",
              "      <td>0.0</td>\n",
              "      <td>0.0</td>\n",
              "      <td>0.0</td>\n",
              "      <td>0.0</td>\n",
              "      <td>0.0</td>\n",
              "      <td>0.0</td>\n",
              "      <td>0.0</td>\n",
              "      <td>0.0</td>\n",
              "    </tr>\n",
              "    <tr>\n",
              "      <th>...</th>\n",
              "      <td>...</td>\n",
              "      <td>...</td>\n",
              "      <td>...</td>\n",
              "      <td>...</td>\n",
              "      <td>...</td>\n",
              "      <td>...</td>\n",
              "      <td>...</td>\n",
              "      <td>...</td>\n",
              "      <td>...</td>\n",
              "      <td>...</td>\n",
              "      <td>...</td>\n",
              "      <td>...</td>\n",
              "      <td>...</td>\n",
              "      <td>...</td>\n",
              "      <td>...</td>\n",
              "      <td>...</td>\n",
              "      <td>...</td>\n",
              "      <td>...</td>\n",
              "      <td>...</td>\n",
              "      <td>...</td>\n",
              "      <td>...</td>\n",
              "    </tr>\n",
              "    <tr>\n",
              "      <th>15958</th>\n",
              "      <td>6443.0</td>\n",
              "      <td>0.0</td>\n",
              "      <td>1.0</td>\n",
              "      <td>0.0</td>\n",
              "      <td>0.0</td>\n",
              "      <td>0.0</td>\n",
              "      <td>0.0</td>\n",
              "      <td>0.0</td>\n",
              "      <td>0.0</td>\n",
              "      <td>0.0</td>\n",
              "      <td>...</td>\n",
              "      <td>0.0</td>\n",
              "      <td>0.0</td>\n",
              "      <td>0.0</td>\n",
              "      <td>0.0</td>\n",
              "      <td>0.0</td>\n",
              "      <td>0.0</td>\n",
              "      <td>0.0</td>\n",
              "      <td>0.0</td>\n",
              "      <td>0.0</td>\n",
              "      <td>0.0</td>\n",
              "    </tr>\n",
              "    <tr>\n",
              "      <th>15959</th>\n",
              "      <td>2367.0</td>\n",
              "      <td>0.0</td>\n",
              "      <td>1.0</td>\n",
              "      <td>0.0</td>\n",
              "      <td>0.0</td>\n",
              "      <td>0.0</td>\n",
              "      <td>0.0</td>\n",
              "      <td>0.0</td>\n",
              "      <td>0.0</td>\n",
              "      <td>0.0</td>\n",
              "      <td>...</td>\n",
              "      <td>0.0</td>\n",
              "      <td>0.0</td>\n",
              "      <td>0.0</td>\n",
              "      <td>0.0</td>\n",
              "      <td>0.0</td>\n",
              "      <td>0.0</td>\n",
              "      <td>0.0</td>\n",
              "      <td>0.0</td>\n",
              "      <td>0.0</td>\n",
              "      <td>0.0</td>\n",
              "    </tr>\n",
              "    <tr>\n",
              "      <th>15960</th>\n",
              "      <td>10632.0</td>\n",
              "      <td>0.0</td>\n",
              "      <td>1.0</td>\n",
              "      <td>0.0</td>\n",
              "      <td>0.0</td>\n",
              "      <td>0.0</td>\n",
              "      <td>0.0</td>\n",
              "      <td>0.0</td>\n",
              "      <td>0.0</td>\n",
              "      <td>0.0</td>\n",
              "      <td>...</td>\n",
              "      <td>0.0</td>\n",
              "      <td>0.0</td>\n",
              "      <td>0.0</td>\n",
              "      <td>0.0</td>\n",
              "      <td>0.0</td>\n",
              "      <td>0.0</td>\n",
              "      <td>0.0</td>\n",
              "      <td>0.0</td>\n",
              "      <td>0.0</td>\n",
              "      <td>0.0</td>\n",
              "    </tr>\n",
              "    <tr>\n",
              "      <th>15961</th>\n",
              "      <td>4538.0</td>\n",
              "      <td>0.0</td>\n",
              "      <td>1.0</td>\n",
              "      <td>0.0</td>\n",
              "      <td>0.0</td>\n",
              "      <td>0.0</td>\n",
              "      <td>0.0</td>\n",
              "      <td>0.0</td>\n",
              "      <td>0.0</td>\n",
              "      <td>0.0</td>\n",
              "      <td>...</td>\n",
              "      <td>0.0</td>\n",
              "      <td>0.0</td>\n",
              "      <td>0.0</td>\n",
              "      <td>0.0</td>\n",
              "      <td>0.0</td>\n",
              "      <td>0.0</td>\n",
              "      <td>0.0</td>\n",
              "      <td>0.0</td>\n",
              "      <td>0.0</td>\n",
              "      <td>0.0</td>\n",
              "    </tr>\n",
              "    <tr>\n",
              "      <th>15962</th>\n",
              "      <td>3206.0</td>\n",
              "      <td>0.0</td>\n",
              "      <td>1.0</td>\n",
              "      <td>0.0</td>\n",
              "      <td>0.0</td>\n",
              "      <td>0.0</td>\n",
              "      <td>0.0</td>\n",
              "      <td>0.0</td>\n",
              "      <td>0.0</td>\n",
              "      <td>0.0</td>\n",
              "      <td>...</td>\n",
              "      <td>0.0</td>\n",
              "      <td>0.0</td>\n",
              "      <td>0.0</td>\n",
              "      <td>0.0</td>\n",
              "      <td>0.0</td>\n",
              "      <td>0.0</td>\n",
              "      <td>0.0</td>\n",
              "      <td>0.0</td>\n",
              "      <td>0.0</td>\n",
              "      <td>0.0</td>\n",
              "    </tr>\n",
              "  </tbody>\n",
              "</table>\n",
              "<p>15963 rows × 8701 columns</p>\n",
              "</div>\n",
              "      <button class=\"colab-df-convert\" onclick=\"convertToInteractive('df-dd59ab51-5743-428d-862c-cec1c36e5067')\"\n",
              "              title=\"Convert this dataframe to an interactive table.\"\n",
              "              style=\"display:none;\">\n",
              "        \n",
              "  <svg xmlns=\"http://www.w3.org/2000/svg\" height=\"24px\"viewBox=\"0 0 24 24\"\n",
              "       width=\"24px\">\n",
              "    <path d=\"M0 0h24v24H0V0z\" fill=\"none\"/>\n",
              "    <path d=\"M18.56 5.44l.94 2.06.94-2.06 2.06-.94-2.06-.94-.94-2.06-.94 2.06-2.06.94zm-11 1L8.5 8.5l.94-2.06 2.06-.94-2.06-.94L8.5 2.5l-.94 2.06-2.06.94zm10 10l.94 2.06.94-2.06 2.06-.94-2.06-.94-.94-2.06-.94 2.06-2.06.94z\"/><path d=\"M17.41 7.96l-1.37-1.37c-.4-.4-.92-.59-1.43-.59-.52 0-1.04.2-1.43.59L10.3 9.45l-7.72 7.72c-.78.78-.78 2.05 0 2.83L4 21.41c.39.39.9.59 1.41.59.51 0 1.02-.2 1.41-.59l7.78-7.78 2.81-2.81c.8-.78.8-2.07 0-2.86zM5.41 20L4 18.59l7.72-7.72 1.47 1.35L5.41 20z\"/>\n",
              "  </svg>\n",
              "      </button>\n",
              "      \n",
              "  <style>\n",
              "    .colab-df-container {\n",
              "      display:flex;\n",
              "      flex-wrap:wrap;\n",
              "      gap: 12px;\n",
              "    }\n",
              "\n",
              "    .colab-df-convert {\n",
              "      background-color: #E8F0FE;\n",
              "      border: none;\n",
              "      border-radius: 50%;\n",
              "      cursor: pointer;\n",
              "      display: none;\n",
              "      fill: #1967D2;\n",
              "      height: 32px;\n",
              "      padding: 0 0 0 0;\n",
              "      width: 32px;\n",
              "    }\n",
              "\n",
              "    .colab-df-convert:hover {\n",
              "      background-color: #E2EBFA;\n",
              "      box-shadow: 0px 1px 2px rgba(60, 64, 67, 0.3), 0px 1px 3px 1px rgba(60, 64, 67, 0.15);\n",
              "      fill: #174EA6;\n",
              "    }\n",
              "\n",
              "    [theme=dark] .colab-df-convert {\n",
              "      background-color: #3B4455;\n",
              "      fill: #D2E3FC;\n",
              "    }\n",
              "\n",
              "    [theme=dark] .colab-df-convert:hover {\n",
              "      background-color: #434B5C;\n",
              "      box-shadow: 0px 1px 3px 1px rgba(0, 0, 0, 0.15);\n",
              "      filter: drop-shadow(0px 1px 2px rgba(0, 0, 0, 0.3));\n",
              "      fill: #FFFFFF;\n",
              "    }\n",
              "  </style>\n",
              "\n",
              "      <script>\n",
              "        const buttonEl =\n",
              "          document.querySelector('#df-dd59ab51-5743-428d-862c-cec1c36e5067 button.colab-df-convert');\n",
              "        buttonEl.style.display =\n",
              "          google.colab.kernel.accessAllowed ? 'block' : 'none';\n",
              "\n",
              "        async function convertToInteractive(key) {\n",
              "          const element = document.querySelector('#df-dd59ab51-5743-428d-862c-cec1c36e5067');\n",
              "          const dataTable =\n",
              "            await google.colab.kernel.invokeFunction('convertToInteractive',\n",
              "                                                     [key], {});\n",
              "          if (!dataTable) return;\n",
              "\n",
              "          const docLinkHtml = 'Like what you see? Visit the ' +\n",
              "            '<a target=\"_blank\" href=https://colab.research.google.com/notebooks/data_table.ipynb>data table notebook</a>'\n",
              "            + ' to learn more about interactive tables.';\n",
              "          element.innerHTML = '';\n",
              "          dataTable['output_type'] = 'display_data';\n",
              "          await google.colab.output.renderOutput(dataTable, element);\n",
              "          const docLink = document.createElement('div');\n",
              "          docLink.innerHTML = docLinkHtml;\n",
              "          element.appendChild(docLink);\n",
              "        }\n",
              "      </script>\n",
              "    </div>\n",
              "  </div>\n",
              "  "
            ]
          },
          "metadata": {},
          "execution_count": 32
        }
      ]
    },
    {
      "cell_type": "code",
      "source": [
        "#items_ohe_df = items_ohe_df_tok"
      ],
      "metadata": {
        "id": "spRQ0RRKZiRx"
      },
      "id": "spRQ0RRKZiRx",
      "execution_count": null,
      "outputs": []
    },
    {
      "cell_type": "markdown",
      "id": "cc595c20",
      "metadata": {
        "id": "cc595c20"
      },
      "source": [
        "## Сделаем матрицу взаимодействий"
      ]
    },
    {
      "cell_type": "code",
      "execution_count": null,
      "id": "79c9bca3",
      "metadata": {
        "ExecuteTime": {
          "end_time": "2021-10-28T18:40:37.898427Z",
          "start_time": "2021-10-28T18:40:37.864067Z"
        },
        "colab": {
          "base_uri": "https://localhost:8080/"
        },
        "id": "79c9bca3",
        "outputId": "e9097168-2202-4571-ce16-f070656e61a1"
      },
      "outputs": [
        {
          "output_type": "execute_result",
          "data": {
            "text/plain": [
              "10440    202457\n",
              "15297    193123\n",
              "9728     132865\n",
              "13865    122119\n",
              "4151      91167\n",
              "          ...  \n",
              "8076          1\n",
              "8954          1\n",
              "15664         1\n",
              "818           1\n",
              "10542         1\n",
              "Name: item_id, Length: 15706, dtype: int64"
            ]
          },
          "metadata": {},
          "execution_count": 8
        }
      ],
      "source": [
        "interactions_df.item_id.value_counts()"
      ]
    },
    {
      "cell_type": "markdown",
      "id": "YAfqm8asrBfG",
      "metadata": {
        "id": "YAfqm8asrBfG"
      },
      "source": [
        "В датасете взаимодействий есть непопулярные фильмы и малоактивные пользователи. Кроме того, в таблице взаимодействий есть события с низким качеством взаимодействия - когда юзер начал смотреть фильм, но вскоре после начала просмотра выключил.\n",
        "\n",
        "Отфильтруем такие события*, малоактивных юзеров и непопулярные фильмы.\n",
        "\n",
        "Можете не фильтровать такие события, тогда у вас будет больше негативных примеров."
      ]
    },
    {
      "cell_type": "code",
      "execution_count": null,
      "id": "17334e80",
      "metadata": {
        "ExecuteTime": {
          "end_time": "2021-10-28T18:40:38.103819Z",
          "start_time": "2021-10-28T18:40:38.070117Z"
        },
        "colab": {
          "base_uri": "https://localhost:8080/"
        },
        "id": "17334e80",
        "outputId": "347ac3c5-0cb1-4e0a-abc7-a9dce25da28e"
      },
      "outputs": [
        {
          "output_type": "execute_result",
          "data": {
            "text/plain": [
              "416206     1341\n",
              "1010539     764\n",
              "555233      685\n",
              "11526       676\n",
              "409259      625\n",
              "           ... \n",
              "45493         1\n",
              "615194        1\n",
              "96848         1\n",
              "425823        1\n",
              "697262        1\n",
              "Name: user_id, Length: 962179, dtype: int64"
            ]
          },
          "metadata": {},
          "execution_count": 9
        }
      ],
      "source": [
        "interactions_df.user_id.value_counts()"
      ]
    },
    {
      "cell_type": "code",
      "execution_count": null,
      "id": "076e4ebc",
      "metadata": {
        "ExecuteTime": {
          "end_time": "2021-10-28T18:40:39.717096Z",
          "start_time": "2021-10-28T18:40:38.759740Z"
        },
        "colab": {
          "base_uri": "https://localhost:8080/"
        },
        "id": "076e4ebc",
        "outputId": "43d75789-a3e7-4ec9-a4be-af4de7b2a1e6"
      },
      "outputs": [
        {
          "output_type": "stream",
          "name": "stdout",
          "text": [
            "N users before: 65974\n",
            "N items before: 6897\n",
            "\n",
            "N users after: 65552\n",
            "N items after: 5303\n"
          ]
        }
      ],
      "source": [
        "print(f\"N users before: {interactions_df.user_id.nunique()}\")\n",
        "print(f\"N items before: {interactions_df.item_id.nunique()}\\n\")\n",
        "\n",
        "# отфильтруем все события взаимодействий, в которых пользователь посмотрел\n",
        "# фильм менее чем на 10 процентов\n",
        "interactions_df = interactions_df[interactions_df.watched_pct > 10]\n",
        "\n",
        "# соберем всех пользователей, которые посмотрели \n",
        "# больше 10 фильмов (можете выбрать другой порог)\n",
        "valid_users = []\n",
        "\n",
        "c = Counter(interactions_df.user_id)\n",
        "for user_id, entries in c.most_common():\n",
        "    if entries > 10:\n",
        "        valid_users.append(user_id)\n",
        "\n",
        "# и соберем все фильмы, которые посмотрели больше 10 пользователей\n",
        "valid_items = []\n",
        "\n",
        "c = Counter(interactions_df.item_id)\n",
        "for item_id, entries in c.most_common():\n",
        "    if entries > 10:\n",
        "        valid_items.append(item_id)\n",
        "\n",
        "# отбросим непопулярные фильмы и неактивных юзеров\n",
        "interactions_df = interactions_df[interactions_df.user_id.isin(valid_users)]\n",
        "interactions_df = interactions_df[interactions_df.item_id.isin(valid_items)]\n",
        "\n",
        "print(f\"N users after: {interactions_df.user_id.nunique()}\")\n",
        "print(f\"N items after: {interactions_df.item_id.nunique()}\")"
      ]
    },
    {
      "cell_type": "markdown",
      "id": "a9163fb2",
      "metadata": {
        "id": "a9163fb2"
      },
      "source": [
        "После фильтрации может получиться так, что некоторые айтемы/юзеры есть в датасете взаимодействий, но при этом они отсутствуют в датасетах айтемов/юзеров или наоборот. Поэтому найдем id айтемов и id юзеров, которые есть во всех датасетах и оставим только их."
      ]
    },
    {
      "cell_type": "code",
      "execution_count": null,
      "id": "d55848e1",
      "metadata": {
        "ExecuteTime": {
          "end_time": "2021-10-28T18:40:40.231703Z",
          "start_time": "2021-10-28T18:40:39.718626Z"
        },
        "colab": {
          "base_uri": "https://localhost:8080/"
        },
        "id": "d55848e1",
        "outputId": "7c621e8c-3fba-4a19-a866-54cd43cb8bce"
      },
      "outputs": [
        {
          "output_type": "stream",
          "name": "stdout",
          "text": [
            "65552\n",
            "5303\n"
          ]
        }
      ],
      "source": [
        "common_users = set(interactions_df.user_id.unique()).intersection(set(users_ohe_df.user_id.unique()))\n",
        "common_items = set(interactions_df.item_id.unique()).intersection(set(items_ohe_df.item_id.unique()))\n",
        "\n",
        "print(len(common_users))\n",
        "print(len(common_items))\n",
        "\n",
        "interactions_df = interactions_df[interactions_df.item_id.isin(common_items)]\n",
        "interactions_df = interactions_df[interactions_df.user_id.isin(common_users)]\n",
        "\n",
        "items_ohe_df = items_ohe_df[items_ohe_df.item_id.isin(common_items)]\n",
        "users_ohe_df = users_ohe_df[users_ohe_df.user_id.isin(common_users)]"
      ]
    },
    {
      "cell_type": "markdown",
      "id": "1e8b9480",
      "metadata": {
        "id": "1e8b9480"
      },
      "source": [
        "Соберем взаимодействия в матрицу user*item так, чтобы в строках этой матрицы были user_id, в столбцах - item_id, а на пересечениях строк и столбцов - единица, если пользователь взаимодействовал с айтемом и ноль, если нет.\n",
        "\n",
        "Такую матрицу удобно собирать в numpy array, однако нужно помнить, что numpy array индексируется порядковыми индексами, а нам же удобнее использовать item_id и user_id.\n",
        "\n",
        "Создадим некие внутренние индексы для user_id и item_id - uid и iid. Для этого просто соберем все user_id и item_id и пронумеруем их по порядку."
      ]
    },
    {
      "cell_type": "code",
      "execution_count": null,
      "id": "81679fb0",
      "metadata": {
        "ExecuteTime": {
          "end_time": "2021-10-28T18:40:40.346587Z",
          "start_time": "2021-10-28T18:40:40.233046Z"
        },
        "colab": {
          "base_uri": "https://localhost:8080/",
          "height": 242
        },
        "id": "81679fb0",
        "outputId": "71d3e948-b764-4d23-9cef-b8cccc7f6e99"
      },
      "outputs": [
        {
          "output_type": "stream",
          "name": "stdout",
          "text": [
            "[0, 1, 2, 3, 4]\n",
            "[0, 1, 2, 3, 4]\n"
          ]
        },
        {
          "output_type": "execute_result",
          "data": {
            "text/plain": [
              "    user_id  item_id last_watch_dt  total_dur  watched_pct    uid   iid\n",
              "0    176549     9506    2021-05-11       4250           72  10561  3040\n",
              "1    699317     1659    2021-05-29       8317          100  41858   503\n",
              "6   1016458      354    2021-08-14       1672           25  60634   100\n",
              "14     5324     8437    2021-04-18       6598           92    309  2685\n",
              "18   927973     9617    2021-06-19       8422          100  55430  3065"
            ],
            "text/html": [
              "\n",
              "  <div id=\"df-1c12af22-3924-48aa-80b8-a78a6e1597d9\">\n",
              "    <div class=\"colab-df-container\">\n",
              "      <div>\n",
              "<style scoped>\n",
              "    .dataframe tbody tr th:only-of-type {\n",
              "        vertical-align: middle;\n",
              "    }\n",
              "\n",
              "    .dataframe tbody tr th {\n",
              "        vertical-align: top;\n",
              "    }\n",
              "\n",
              "    .dataframe thead th {\n",
              "        text-align: right;\n",
              "    }\n",
              "</style>\n",
              "<table border=\"1\" class=\"dataframe\">\n",
              "  <thead>\n",
              "    <tr style=\"text-align: right;\">\n",
              "      <th></th>\n",
              "      <th>user_id</th>\n",
              "      <th>item_id</th>\n",
              "      <th>last_watch_dt</th>\n",
              "      <th>total_dur</th>\n",
              "      <th>watched_pct</th>\n",
              "      <th>uid</th>\n",
              "      <th>iid</th>\n",
              "    </tr>\n",
              "  </thead>\n",
              "  <tbody>\n",
              "    <tr>\n",
              "      <th>0</th>\n",
              "      <td>176549</td>\n",
              "      <td>9506</td>\n",
              "      <td>2021-05-11</td>\n",
              "      <td>4250</td>\n",
              "      <td>72</td>\n",
              "      <td>10561</td>\n",
              "      <td>3040</td>\n",
              "    </tr>\n",
              "    <tr>\n",
              "      <th>1</th>\n",
              "      <td>699317</td>\n",
              "      <td>1659</td>\n",
              "      <td>2021-05-29</td>\n",
              "      <td>8317</td>\n",
              "      <td>100</td>\n",
              "      <td>41858</td>\n",
              "      <td>503</td>\n",
              "    </tr>\n",
              "    <tr>\n",
              "      <th>6</th>\n",
              "      <td>1016458</td>\n",
              "      <td>354</td>\n",
              "      <td>2021-08-14</td>\n",
              "      <td>1672</td>\n",
              "      <td>25</td>\n",
              "      <td>60634</td>\n",
              "      <td>100</td>\n",
              "    </tr>\n",
              "    <tr>\n",
              "      <th>14</th>\n",
              "      <td>5324</td>\n",
              "      <td>8437</td>\n",
              "      <td>2021-04-18</td>\n",
              "      <td>6598</td>\n",
              "      <td>92</td>\n",
              "      <td>309</td>\n",
              "      <td>2685</td>\n",
              "    </tr>\n",
              "    <tr>\n",
              "      <th>18</th>\n",
              "      <td>927973</td>\n",
              "      <td>9617</td>\n",
              "      <td>2021-06-19</td>\n",
              "      <td>8422</td>\n",
              "      <td>100</td>\n",
              "      <td>55430</td>\n",
              "      <td>3065</td>\n",
              "    </tr>\n",
              "  </tbody>\n",
              "</table>\n",
              "</div>\n",
              "      <button class=\"colab-df-convert\" onclick=\"convertToInteractive('df-1c12af22-3924-48aa-80b8-a78a6e1597d9')\"\n",
              "              title=\"Convert this dataframe to an interactive table.\"\n",
              "              style=\"display:none;\">\n",
              "        \n",
              "  <svg xmlns=\"http://www.w3.org/2000/svg\" height=\"24px\"viewBox=\"0 0 24 24\"\n",
              "       width=\"24px\">\n",
              "    <path d=\"M0 0h24v24H0V0z\" fill=\"none\"/>\n",
              "    <path d=\"M18.56 5.44l.94 2.06.94-2.06 2.06-.94-2.06-.94-.94-2.06-.94 2.06-2.06.94zm-11 1L8.5 8.5l.94-2.06 2.06-.94-2.06-.94L8.5 2.5l-.94 2.06-2.06.94zm10 10l.94 2.06.94-2.06 2.06-.94-2.06-.94-.94-2.06-.94 2.06-2.06.94z\"/><path d=\"M17.41 7.96l-1.37-1.37c-.4-.4-.92-.59-1.43-.59-.52 0-1.04.2-1.43.59L10.3 9.45l-7.72 7.72c-.78.78-.78 2.05 0 2.83L4 21.41c.39.39.9.59 1.41.59.51 0 1.02-.2 1.41-.59l7.78-7.78 2.81-2.81c.8-.78.8-2.07 0-2.86zM5.41 20L4 18.59l7.72-7.72 1.47 1.35L5.41 20z\"/>\n",
              "  </svg>\n",
              "      </button>\n",
              "      \n",
              "  <style>\n",
              "    .colab-df-container {\n",
              "      display:flex;\n",
              "      flex-wrap:wrap;\n",
              "      gap: 12px;\n",
              "    }\n",
              "\n",
              "    .colab-df-convert {\n",
              "      background-color: #E8F0FE;\n",
              "      border: none;\n",
              "      border-radius: 50%;\n",
              "      cursor: pointer;\n",
              "      display: none;\n",
              "      fill: #1967D2;\n",
              "      height: 32px;\n",
              "      padding: 0 0 0 0;\n",
              "      width: 32px;\n",
              "    }\n",
              "\n",
              "    .colab-df-convert:hover {\n",
              "      background-color: #E2EBFA;\n",
              "      box-shadow: 0px 1px 2px rgba(60, 64, 67, 0.3), 0px 1px 3px 1px rgba(60, 64, 67, 0.15);\n",
              "      fill: #174EA6;\n",
              "    }\n",
              "\n",
              "    [theme=dark] .colab-df-convert {\n",
              "      background-color: #3B4455;\n",
              "      fill: #D2E3FC;\n",
              "    }\n",
              "\n",
              "    [theme=dark] .colab-df-convert:hover {\n",
              "      background-color: #434B5C;\n",
              "      box-shadow: 0px 1px 3px 1px rgba(0, 0, 0, 0.15);\n",
              "      filter: drop-shadow(0px 1px 2px rgba(0, 0, 0, 0.3));\n",
              "      fill: #FFFFFF;\n",
              "    }\n",
              "  </style>\n",
              "\n",
              "      <script>\n",
              "        const buttonEl =\n",
              "          document.querySelector('#df-1c12af22-3924-48aa-80b8-a78a6e1597d9 button.colab-df-convert');\n",
              "        buttonEl.style.display =\n",
              "          google.colab.kernel.accessAllowed ? 'block' : 'none';\n",
              "\n",
              "        async function convertToInteractive(key) {\n",
              "          const element = document.querySelector('#df-1c12af22-3924-48aa-80b8-a78a6e1597d9');\n",
              "          const dataTable =\n",
              "            await google.colab.kernel.invokeFunction('convertToInteractive',\n",
              "                                                     [key], {});\n",
              "          if (!dataTable) return;\n",
              "\n",
              "          const docLinkHtml = 'Like what you see? Visit the ' +\n",
              "            '<a target=\"_blank\" href=https://colab.research.google.com/notebooks/data_table.ipynb>data table notebook</a>'\n",
              "            + ' to learn more about interactive tables.';\n",
              "          element.innerHTML = '';\n",
              "          dataTable['output_type'] = 'display_data';\n",
              "          await google.colab.output.renderOutput(dataTable, element);\n",
              "          const docLink = document.createElement('div');\n",
              "          docLink.innerHTML = docLinkHtml;\n",
              "          element.appendChild(docLink);\n",
              "        }\n",
              "      </script>\n",
              "    </div>\n",
              "  </div>\n",
              "  "
            ]
          },
          "metadata": {},
          "execution_count": 14
        }
      ],
      "source": [
        "interactions_df[\"uid\"] = interactions_df[\"user_id\"].astype(\"category\")\n",
        "interactions_df[\"uid\"] = interactions_df[\"uid\"].cat.codes\n",
        "\n",
        "interactions_df[\"iid\"] = interactions_df[\"item_id\"].astype(\"category\")\n",
        "interactions_df[\"iid\"] = interactions_df[\"iid\"].cat.codes\n",
        "\n",
        "print(sorted(interactions_df.iid.unique())[:5])\n",
        "print(sorted(interactions_df.uid.unique())[:5])\n",
        "interactions_df.head()"
      ]
    },
    {
      "cell_type": "markdown",
      "id": "61c855e5",
      "metadata": {
        "id": "61c855e5"
      },
      "source": [
        "Отнормируем матрицу взаимодействий"
      ]
    },
    {
      "cell_type": "code",
      "execution_count": null,
      "id": "3feced70",
      "metadata": {
        "ExecuteTime": {
          "end_time": "2021-10-28T18:41:03.360248Z",
          "start_time": "2021-10-28T18:40:40.348057Z"
        },
        "id": "3feced70"
      },
      "outputs": [],
      "source": [
        "interactions_vec = np.zeros((interactions_df.uid.nunique(), \n",
        "                             interactions_df.iid.nunique())) \n",
        "\n",
        "for user_id, item_id in zip(interactions_df.uid, interactions_df.iid):\n",
        "    interactions_vec[user_id, item_id] += 1\n",
        "\n",
        "\n",
        "res = interactions_vec.sum(axis=1)\n",
        "for i in range(len(interactions_vec)):\n",
        "    interactions_vec[i] /= res[i]"
      ]
    },
    {
      "cell_type": "code",
      "execution_count": null,
      "id": "9f5ec90f",
      "metadata": {
        "ExecuteTime": {
          "end_time": "2021-10-28T18:41:03.416061Z",
          "start_time": "2021-10-28T18:41:03.363462Z"
        },
        "colab": {
          "base_uri": "https://localhost:8080/"
        },
        "id": "9f5ec90f",
        "outputId": "a513b84c-4f61-41d2-ab61-b4772b0430e4"
      },
      "outputs": [
        {
          "output_type": "stream",
          "name": "stdout",
          "text": [
            "5303\n",
            "5303\n",
            "65552\n",
            "65552\n",
            "set()\n"
          ]
        }
      ],
      "source": [
        "print(interactions_df.item_id.nunique())\n",
        "print(items_ohe_df.item_id.nunique())\n",
        "print(interactions_df.user_id.nunique())\n",
        "print(users_ohe_df.user_id.nunique())\n",
        "\n",
        "print(set(items_ohe_df.item_id.unique()) - set(interactions_df.item_id.unique()))"
      ]
    },
    {
      "cell_type": "markdown",
      "id": "19e69bae",
      "metadata": {
        "id": "19e69bae"
      },
      "source": [
        "Для того, чтобы можно было удобно превратить iid/uid в item_id/user_id и наоборот соберем словари \n",
        "\n",
        "{iid: item_id}, {uid: user_id} и {item_id: iid}, {user_id: uid}."
      ]
    },
    {
      "cell_type": "code",
      "execution_count": null,
      "id": "c8a84024",
      "metadata": {
        "ExecuteTime": {
          "end_time": "2021-10-28T18:41:03.637495Z",
          "start_time": "2021-10-28T18:41:03.417544Z"
        },
        "id": "c8a84024"
      },
      "outputs": [],
      "source": [
        "iid_to_item_id = interactions_df[[\"iid\", \"item_id\"]].drop_duplicates().set_index(\"iid\").to_dict()[\"item_id\"]\n",
        "item_id_to_iid = interactions_df[[\"iid\", \"item_id\"]].drop_duplicates().set_index(\"item_id\").to_dict()[\"iid\"]\n",
        "\n",
        "uid_to_user_id = interactions_df[[\"uid\", \"user_id\"]].drop_duplicates().set_index(\"uid\").to_dict()[\"user_id\"]\n",
        "user_id_to_uid = interactions_df[[\"uid\", \"user_id\"]].drop_duplicates().set_index(\"user_id\").to_dict()[\"uid\"]"
      ]
    },
    {
      "cell_type": "code",
      "execution_count": null,
      "id": "k7fqwJ-bxjX-",
      "metadata": {
        "id": "k7fqwJ-bxjX-"
      },
      "outputs": [],
      "source": []
    },
    {
      "cell_type": "markdown",
      "id": "48ca5204",
      "metadata": {
        "id": "48ca5204"
      },
      "source": [
        "И проиндексируем датасеты users_ohe_df и items_ohe_df по внутренним айди:"
      ]
    },
    {
      "cell_type": "code",
      "execution_count": null,
      "id": "4c4980ac",
      "metadata": {
        "ExecuteTime": {
          "end_time": "2021-10-28T18:41:03.744883Z",
          "start_time": "2021-10-28T18:41:03.638719Z"
        },
        "id": "4c4980ac"
      },
      "outputs": [],
      "source": [
        "#\n",
        "items_ohe_df[\"iid\"] = items_ohe_df[\"item_id\"].apply(lambda x: item_id_to_iid[x])\n",
        "items_ohe_df = items_ohe_df.set_index(\"iid\")\n",
        "\n",
        "users_ohe_df[\"uid\"] = users_ohe_df[\"user_id\"].apply(lambda x: user_id_to_uid[x])\n",
        "users_ohe_df = users_ohe_df.set_index(\"uid\")"
      ]
    },
    {
      "cell_type": "code",
      "execution_count": null,
      "id": "22c26d39",
      "metadata": {
        "ExecuteTime": {
          "end_time": "2021-10-28T18:41:03.749717Z",
          "start_time": "2021-10-28T18:41:03.746067Z"
        },
        "id": "22c26d39"
      },
      "outputs": [],
      "source": [
        "def triplet_loss(y_true, y_pred, n_dims=128, alpha=0.4):\n",
        "    # будем ожидать, что на вход функции прилетит три сконкатенированных \n",
        "    # вектора - вектор юзера и два вектора айтема\n",
        "    anchor = y_pred[:, 0:n_dims]\n",
        "    positive = y_pred[:, n_dims:n_dims*2]\n",
        "    negative = y_pred[:, n_dims*2:n_dims*3]\n",
        "\n",
        "    # считаем расстояния от вектора юзера до вектора хорошего айтема\n",
        "    pos_dist = K.sum(K.square(anchor - positive), axis=1)\n",
        "    # и до плохого\n",
        "    neg_dist = K.sum(K.square(anchor - negative), axis=1)\n",
        "\n",
        "    # считаем лосс\n",
        "    basic_loss = pos_dist - neg_dist + alpha\n",
        "    loss = K.maximum(basic_loss, 0.0) # возвращаем ноль, если лосс отрицательный\n",
        " \n",
        "    return loss"
      ]
    },
    {
      "cell_type": "markdown",
      "id": "4de262b4",
      "metadata": {
        "ExecuteTime": {
          "end_time": "2021-10-28T19:19:05.615364Z",
          "start_time": "2021-10-28T19:19:05.612463Z"
        },
        "id": "4de262b4"
      },
      "source": [
        "Задание: Попробуйте другие лоссы, например, BPR Triplet loss"
      ]
    },
    {
      "cell_type": "markdown",
      "source": [
        "функция для BPR Triplet loss"
      ],
      "metadata": {
        "id": "V5WBxrbkBEXg"
      },
      "id": "V5WBxrbkBEXg"
    },
    {
      "cell_type": "code",
      "source": [
        "def bpr_triplet_loss(y_true, y_pred, n_dims=128, alpha=0.4):\n",
        "    # будем ожидать, что на вход функции прилетит три сконкатенированных \n",
        "    # вектора - вектор юзера и два вектора айтема\n",
        "    anchor = y_pred[:, 0:n_dims]\n",
        "    positive = y_pred[:, n_dims:n_dims*2]\n",
        "    negative = y_pred[:, n_dims*2:n_dims*3]\n",
        "\n",
        "    pos_temp = K.sum(anchor * positive, axis=-1)\n",
        "    neg_temp = K.sum(anchor * negative, axis=-1)\n",
        "\n",
        "    # считаем лосс\n",
        "    loss = 1 - K.sigmoid(pos_temp - neg_temp)\n",
        "    loss = K.maximum(loss, 0.0) # возвращаем ноль, если лосс отрицательный\n",
        " \n",
        "    return loss"
      ],
      "metadata": {
        "id": "UXOmWrrRzBcX"
      },
      "id": "UXOmWrrRzBcX",
      "execution_count": null,
      "outputs": []
    },
    {
      "cell_type": "markdown",
      "id": "85d618b6",
      "metadata": {
        "ExecuteTime": {
          "end_time": "2021-10-23T11:20:03.327838Z",
          "start_time": "2021-10-23T11:20:03.324389Z"
        },
        "id": "85d618b6"
      },
      "source": [
        "## Генератор и семплирование\n",
        "\n",
        "Сделаем простой генератор. Он будет брать рандромного юзера, и два разных айтема - хороший пример и плохой:\n",
        "- хорошим примером будет тот айтем, который был взят из датасета взаимодействий в соответствии с распределением просмотренных айтемов для этого юзера;\n",
        "- а плохим айтемом будет просто любой другой _случайный айтем_*\n"
      ]
    },
    {
      "cell_type": "code",
      "execution_count": null,
      "id": "7829878b",
      "metadata": {
        "ExecuteTime": {
          "end_time": "2021-10-28T18:41:03.755386Z",
          "start_time": "2021-10-28T18:41:03.750664Z"
        },
        "id": "7829878b"
      },
      "outputs": [],
      "source": [
        "def generator(items, users, interactions, batch_size=1024):\n",
        "    while True:\n",
        "        uid_meta = []\n",
        "        uid_interaction = []\n",
        "        pos = []\n",
        "        neg = []\n",
        "        for _ in range(batch_size):\n",
        "            # берем рандомный uid\n",
        "            uid_i = randint(0, interactions.shape[0]-1)\n",
        "            # id хорошего айтема\n",
        "            pos_i = np.random.choice(range(interactions.shape[1]), p=interactions[uid_i])\n",
        "            # id плохого айтема\n",
        "            neg_i = np.random.choice(range(interactions.shape[1]))\n",
        "            # фичи юзера\n",
        "            uid_meta.append(users.iloc[uid_i])\n",
        "            # вектор айтемов, с которыми юзер взаимодействовал\n",
        "            uid_interaction.append(interactions_vec[uid_i])\n",
        "            # фичи хорошего айтема\n",
        "            pos.append(items.iloc[pos_i])\n",
        "            # фичи плохого айтема\n",
        "            neg.append(items.iloc[neg_i])\n",
        "            \n",
        "        yield [np.array(uid_meta), np.array(uid_interaction), np.array(pos), np.array(neg)], [np.array(uid_meta), np.array(uid_interaction)]\n"
      ]
    },
    {
      "cell_type": "markdown",
      "source": [
        "Задание: Использовать информацию о качестве взаимодействия юзеров с айтемами для более репрезентативного сэмплирования. (4 балла)\n",
        "\n",
        "\n",
        "будем негативный выбирать из только из непросмотренных айтемов, добавим параметр p в choice"
      ],
      "metadata": {
        "id": "lylR_jrZt3Qw"
      },
      "id": "lylR_jrZt3Qw"
    },
    {
      "cell_type": "code",
      "source": [
        "def generator(items, users, interactions, batch_size=1024):\n",
        "    while True:\n",
        "        uid_meta = []\n",
        "        uid_interaction = []\n",
        "        pos = []\n",
        "        neg = []\n",
        "        for _ in range(batch_size):\n",
        "            # берем рандомный uid\n",
        "            uid_i = randint(0, interactions.shape[0]-1)\n",
        "            # id хорошего айтема\n",
        "            pos_i = np.random.choice(range(interactions.shape[1]), p=interactions[uid_i])\n",
        "            # id плохого айтема\n",
        "            prob = 1 - interactions[uid_i]\n",
        "            prob = prob/prob.sum()\n",
        "            neg_i = np.random.choice(range(interactions.shape[1]), p=prob)\n",
        "            #print(neg_i)\n",
        "            # фичи юзера\n",
        "            uid_meta.append(users.iloc[uid_i])\n",
        "            # вектор айтемов, с которыми юзер взаимодействовал\n",
        "            uid_interaction.append(interactions_vec[uid_i])\n",
        "            # фичи хорошего айтема\n",
        "            pos.append(items.iloc[pos_i])\n",
        "            # фичи плохого айтема\n",
        "            neg.append(items.iloc[neg_i])\n",
        "            \n",
        "        yield [np.array(uid_meta), np.array(uid_interaction), np.array(pos), np.array(neg)], [np.array(uid_meta), np.array(uid_interaction)]\n"
      ],
      "metadata": {
        "id": "sOJvS_LEuHsg"
      },
      "id": "sOJvS_LEuHsg",
      "execution_count": null,
      "outputs": []
    },
    {
      "cell_type": "code",
      "execution_count": null,
      "id": "af9d3c3b",
      "metadata": {
        "ExecuteTime": {
          "end_time": "2021-10-28T18:41:16.386864Z",
          "start_time": "2021-10-28T18:41:03.756363Z"
        },
        "colab": {
          "base_uri": "https://localhost:8080/"
        },
        "id": "af9d3c3b",
        "outputId": "a328aa38-cc0b-48f7-aa40-a9e2877ca4bd"
      },
      "outputs": [
        {
          "output_type": "stream",
          "name": "stdout",
          "text": [
            "вектор фичей юзера: (1024, 19)\n",
            "вектор взаимодействий юзера с айтемами: (1024, 5303)\n",
            "вектор 'хорошего' айтема: (1024, 8588)\n",
            "вектор 'плохого' айтема: (1024, 8588)\n",
            "\n",
            "вектор фичей юзера: (1024, 19)\n",
            "вектор взаимодействий юзера с айтемами: (1024, 5303)\n"
          ]
        }
      ],
      "source": [
        "# инициализируем генератор\n",
        "gen = generator(items=items_ohe_df.drop([\"item_id\"], axis=1), \n",
        "                users=users_ohe_df.drop([\"user_id\"], axis=1), \n",
        "                interactions=interactions_vec)\n",
        "\n",
        "ret = next(gen)\n",
        "\n",
        "\n",
        "print(f\"вектор фичей юзера: {ret[0][0].shape}\")\n",
        "print(f\"вектор взаимодействий юзера с айтемами: {ret[0][1].shape}\")\n",
        "print(f\"вектор 'хорошего' айтема: {ret[0][2].shape}\")\n",
        "print(f\"вектор 'плохого' айтема: {ret[0][3].shape}\")\n",
        "print()\n",
        "print(f\"вектор фичей юзера: {ret[1][0].shape}\")\n",
        "print(f\"вектор взаимодействий юзера с айтемами: {ret[1][1].shape}\")"
      ]
    },
    {
      "cell_type": "markdown",
      "id": "8bcc3e80",
      "metadata": {
        "id": "8bcc3e80"
      },
      "source": [
        "### Сделайте генаратор, который будет использовать информацию о качестве взаимодействия юзеров с айтемами для более репрезентативного сэмплирования"
      ]
    },
    {
      "cell_type": "code",
      "execution_count": null,
      "id": "967b819f",
      "metadata": {
        "ExecuteTime": {
          "end_time": "2021-10-28T18:41:16.493030Z",
          "start_time": "2021-10-28T18:41:16.388592Z"
        },
        "colab": {
          "base_uri": "https://localhost:8080/"
        },
        "id": "967b819f",
        "outputId": "e5af0fa2-2579-47f6-adaf-ee61de3c0b70"
      },
      "outputs": [
        {
          "output_type": "stream",
          "name": "stdout",
          "text": [
            "N_FACTORS: 128\n",
            "ITEM_MODEL_SHAPE: (8588,)\n",
            "USER_META_MODEL_SHAPE: (19,)\n",
            "USER_INTERACTION_MODEL_SHAPE: (5303,)\n"
          ]
        }
      ],
      "source": [
        "N_FACTORS = 128\n",
        "\n",
        "# в датасетах есть столбец user_id/item_id, помним, что он не является фичей для обучения!\n",
        "ITEM_MODEL_SHAPE = (items_ohe_df.drop([\"item_id\"], axis=1).shape[1], ) \n",
        "USER_META_MODEL_SHAPE = (users_ohe_df.drop([\"user_id\"], axis=1).shape[1], )\n",
        "\n",
        "USER_INTERACTION_MODEL_SHAPE = (interactions_vec.shape[1], )\n",
        "\n",
        "print(f\"N_FACTORS: {N_FACTORS}\")\n",
        "print(f\"ITEM_MODEL_SHAPE: {ITEM_MODEL_SHAPE}\")\n",
        "print(f\"USER_META_MODEL_SHAPE: {USER_META_MODEL_SHAPE}\")\n",
        "print(f\"USER_INTERACTION_MODEL_SHAPE: {USER_INTERACTION_MODEL_SHAPE}\")"
      ]
    },
    {
      "cell_type": "code",
      "execution_count": null,
      "id": "de649a01",
      "metadata": {
        "ExecuteTime": {
          "end_time": "2021-10-28T18:41:16.816499Z",
          "start_time": "2021-10-28T18:41:16.494387Z"
        },
        "id": "de649a01"
      },
      "outputs": [],
      "source": [
        "def item_model(n_factors=N_FACTORS):\n",
        "    # входной слой\n",
        "    inp = keras.layers.Input(shape=ITEM_MODEL_SHAPE)\n",
        "    \n",
        "    # полносвязный слой\n",
        "    layer_1 = keras.layers.Dense(N_FACTORS, activation='elu', use_bias=False,\n",
        "                               kernel_regularizer=keras.regularizers.l2(1e-6),\n",
        "                               activity_regularizer=keras.regularizers.l2(l2=1e-6))(inp)\n",
        "\n",
        "    # делаем residual connection - складываем два слоя, \n",
        "    # чтобы градиенты не затухали во время обучения\n",
        "    layer_2 = keras.layers.Dense(N_FACTORS, activation='elu', use_bias=False,\n",
        "                             kernel_regularizer=keras.regularizers.l2(1e-6),\n",
        "                             activity_regularizer=keras.regularizers.l2(l2=1e-6))(layer_1)\n",
        "    \n",
        "    add = keras.layers.Add()([layer_1, layer_2])\n",
        "    \n",
        "    # выходной слой\n",
        "    out = keras.layers.Dense(N_FACTORS, activation='linear', use_bias=False,\n",
        "                             kernel_regularizer=keras.regularizers.l2(1e-6),\n",
        "                             activity_regularizer=keras.regularizers.l2(l2=1e-6))(add)\n",
        "    \n",
        "    return keras.models.Model(inp, out)\n",
        "\n",
        "\n",
        "def user_model(n_factors=N_FACTORS):\n",
        "    # входной слой для вектора фичей юзера (из users_ohe_df)\n",
        "    inp_meta = keras.layers.Input(shape=USER_META_MODEL_SHAPE)\n",
        "    # входной слой для вектора просмотров (из iteractions_vec)\n",
        "    inp_interaction = keras.layers.Input(shape=USER_INTERACTION_MODEL_SHAPE)\n",
        "\n",
        "    # полносвязный слой\n",
        "    layer_1_meta = keras.layers.Dense(N_FACTORS, activation='elu', use_bias=False,\n",
        "                                 kernel_regularizer=keras.regularizers.l2(1e-6),\n",
        "                                 activity_regularizer=keras.regularizers.l2(l2=1e-6))(inp_meta)\n",
        "\n",
        "    layer_1_interaction = keras.layers.Dense(N_FACTORS, activation='elu', use_bias=False,\n",
        "                                 kernel_regularizer=keras.regularizers.l2(1e-6),\n",
        "                                 activity_regularizer=keras.regularizers.l2(l2=1e-6))(inp_interaction)\n",
        "\n",
        "    # делаем residual connection - складываем два слоя,\n",
        "    # чтобы градиенты не затухали во время обучения\n",
        "    layer_2_meta = keras.layers.Dense(N_FACTORS, activation='elu', use_bias=False,\n",
        "                                 kernel_regularizer=keras.regularizers.l2(1e-6),\n",
        "                                 activity_regularizer=keras.regularizers.l2(l2=1e-6))(layer_1_meta)\n",
        "    \n",
        "\n",
        "    add = keras.layers.Add()([layer_1_meta, layer_2_meta])\n",
        "    \n",
        "    # конкатенируем вектор фичей с вектором просмотров\n",
        "    concat_meta_interaction = keras.layers.Concatenate()([add, layer_1_interaction])\n",
        "    \n",
        "    # выходной слой\n",
        "    out = keras.layers.Dense(N_FACTORS, activation='linear', use_bias=False,\n",
        "                             kernel_regularizer=keras.regularizers.l2(1e-6),\n",
        "                             activity_regularizer=keras.regularizers.l2(l2=1e-6))(concat_meta_interaction)\n",
        "    \n",
        "    return keras.models.Model([inp_meta, inp_interaction], out)\n",
        "\n",
        "# инициализируем модели юзера и айтема\n",
        "i2v = item_model()\n",
        "u2v = user_model()\n",
        "\n",
        "# вход для вектора фичей юзера (из users_ohe_df)\n",
        "ancor_meta_in = keras.layers.Input(shape=USER_META_MODEL_SHAPE)\n",
        "# вход для вектора просмотра юзера (из interactions_vec)\n",
        "ancor_interaction_in = keras.layers.Input(shape=USER_INTERACTION_MODEL_SHAPE)\n",
        "\n",
        "# вход для вектора \"хорошего\" айтема\n",
        "pos_in = keras.layers.Input(shape=ITEM_MODEL_SHAPE)\n",
        "# вход для вектора \"плохого\" айтема\n",
        "neg_in = keras.layers.Input(shape=ITEM_MODEL_SHAPE)\n",
        "\n",
        "# получаем вектор юзера\n",
        "ancor = u2v([ancor_meta_in, ancor_interaction_in])\n",
        "# получаем вектор \"хорошего\" айтема\n",
        "pos = i2v(pos_in)\n",
        "# получаем вектор \"плохого\" айтема\n",
        "neg = i2v(neg_in)\n",
        "\n",
        "# конкатенируем полученные векторы\n",
        "res = keras.layers.Concatenate(name=\"concat_ancor_pos_neg\")([ancor, pos, neg])\n",
        "\n",
        "# собираем модель\n",
        "model = keras.models.Model([ancor_meta_in, ancor_interaction_in, pos_in, neg_in], res)"
      ]
    },
    {
      "cell_type": "code",
      "execution_count": null,
      "id": "e912d920",
      "metadata": {
        "ExecuteTime": {
          "end_time": "2021-10-28T18:41:16.822662Z",
          "start_time": "2021-10-28T18:41:16.817857Z"
        },
        "id": "e912d920"
      },
      "outputs": [],
      "source": [
        "model_name = 'recsys_resnet_linear'\n",
        "\n",
        "# логируем процесс обучения в тензорборд\n",
        "t_board = keras.callbacks.TensorBoard(log_dir=f'runs/{model_name}')\n",
        "\n",
        "# уменьшаем learning_rate, если лосс долго не уменьшается (в течение двух эпох)\n",
        "decay = keras.callbacks.ReduceLROnPlateau(monitor='loss', patience=2, factor=0.8, verbose=1)\n",
        "\n",
        "# сохраняем модель после каждой эпохи, если лосс уменьшился\n",
        "check = keras.callbacks.ModelCheckpoint(filepath=model_name + '/epoch{epoch}-{loss:.2f}.h5', monitor=\"loss\")\n"
      ]
    },
    {
      "cell_type": "code",
      "execution_count": null,
      "id": "f95049f6",
      "metadata": {
        "ExecuteTime": {
          "end_time": "2021-10-28T18:41:16.832365Z",
          "start_time": "2021-10-28T18:41:16.824484Z"
        },
        "id": "f95049f6"
      },
      "outputs": [],
      "source": [
        "# компилируем модель, используем оптимайзер Adam и triplet loss\n",
        "opt = keras.optimizers.Adam(lr=0.001)\n",
        "model.compile(loss=triplet_loss, optimizer=opt)"
      ]
    },
    {
      "cell_type": "code",
      "execution_count": null,
      "id": "fb9382d0",
      "metadata": {
        "ExecuteTime": {
          "end_time": "2021-10-28T18:41:16.867472Z",
          "start_time": "2021-10-28T18:41:16.833753Z"
        },
        "colab": {
          "base_uri": "https://localhost:8080/"
        },
        "id": "fb9382d0",
        "outputId": "a2591898-f422-4311-9fca-fe65356a92e2"
      },
      "outputs": [
        {
          "output_type": "stream",
          "name": "stdout",
          "text": [
            "Model: \"model_3\"\n",
            "__________________________________________________________________________________________________\n",
            " Layer (type)                   Output Shape         Param #     Connected to                     \n",
            "==================================================================================================\n",
            " input_8 (InputLayer)           [(None, 8588)]       0           []                               \n",
            "                                                                                                  \n",
            " dense_7 (Dense)                (None, 128)          1099264     ['input_8[0][0]']                \n",
            "                                                                                                  \n",
            " dense_8 (Dense)                (None, 128)          16384       ['dense_7[0][0]']                \n",
            "                                                                                                  \n",
            " add_2 (Add)                    (None, 128)          0           ['dense_7[0][0]',                \n",
            "                                                                  'dense_8[0][0]']                \n",
            "                                                                                                  \n",
            " dense_9 (Dense)                (None, 128)          16384       ['add_2[0][0]']                  \n",
            "                                                                                                  \n",
            "==================================================================================================\n",
            "Total params: 1,132,032\n",
            "Trainable params: 1,132,032\n",
            "Non-trainable params: 0\n",
            "__________________________________________________________________________________________________\n"
          ]
        }
      ],
      "source": [
        "# модель айтема\n",
        "item_model().summary()"
      ]
    },
    {
      "cell_type": "code",
      "execution_count": null,
      "id": "286149d1",
      "metadata": {
        "ExecuteTime": {
          "end_time": "2021-10-28T18:41:16.923402Z",
          "start_time": "2021-10-28T18:41:16.868877Z"
        },
        "colab": {
          "base_uri": "https://localhost:8080/"
        },
        "id": "286149d1",
        "outputId": "a9ee7264-a410-450d-c2d5-d93c30c5313d"
      },
      "outputs": [
        {
          "output_type": "stream",
          "name": "stdout",
          "text": [
            "Model: \"model_4\"\n",
            "__________________________________________________________________________________________________\n",
            " Layer (type)                   Output Shape         Param #     Connected to                     \n",
            "==================================================================================================\n",
            " input_9 (InputLayer)           [(None, 19)]         0           []                               \n",
            "                                                                                                  \n",
            " dense_10 (Dense)               (None, 128)          2432        ['input_9[0][0]']                \n",
            "                                                                                                  \n",
            " dense_12 (Dense)               (None, 128)          16384       ['dense_10[0][0]']               \n",
            "                                                                                                  \n",
            " input_10 (InputLayer)          [(None, 5303)]       0           []                               \n",
            "                                                                                                  \n",
            " add_3 (Add)                    (None, 128)          0           ['dense_10[0][0]',               \n",
            "                                                                  'dense_12[0][0]']               \n",
            "                                                                                                  \n",
            " dense_11 (Dense)               (None, 128)          678784      ['input_10[0][0]']               \n",
            "                                                                                                  \n",
            " concatenate_1 (Concatenate)    (None, 256)          0           ['add_3[0][0]',                  \n",
            "                                                                  'dense_11[0][0]']               \n",
            "                                                                                                  \n",
            " dense_13 (Dense)               (None, 128)          32768       ['concatenate_1[0][0]']          \n",
            "                                                                                                  \n",
            "==================================================================================================\n",
            "Total params: 730,368\n",
            "Trainable params: 730,368\n",
            "Non-trainable params: 0\n",
            "__________________________________________________________________________________________________\n"
          ]
        }
      ],
      "source": [
        "# модель юзера\n",
        "user_model().summary()"
      ]
    },
    {
      "cell_type": "code",
      "execution_count": null,
      "id": "d9f25a3f",
      "metadata": {
        "ExecuteTime": {
          "end_time": "2021-10-28T18:41:16.929341Z",
          "start_time": "2021-10-28T18:41:16.924663Z"
        },
        "colab": {
          "base_uri": "https://localhost:8080/"
        },
        "id": "d9f25a3f",
        "outputId": "8041ea4f-121e-40f0-867d-bbc0f5df1025"
      },
      "outputs": [
        {
          "output_type": "stream",
          "name": "stdout",
          "text": [
            "Model: \"model_2\"\n",
            "__________________________________________________________________________________________________\n",
            " Layer (type)                   Output Shape         Param #     Connected to                     \n",
            "==================================================================================================\n",
            " input_4 (InputLayer)           [(None, 19)]         0           []                               \n",
            "                                                                                                  \n",
            " input_5 (InputLayer)           [(None, 5303)]       0           []                               \n",
            "                                                                                                  \n",
            " input_6 (InputLayer)           [(None, 8588)]       0           []                               \n",
            "                                                                                                  \n",
            " input_7 (InputLayer)           [(None, 8588)]       0           []                               \n",
            "                                                                                                  \n",
            " model_1 (Functional)           (None, 128)          730368      ['input_4[0][0]',                \n",
            "                                                                  'input_5[0][0]']                \n",
            "                                                                                                  \n",
            " model (Functional)             (None, 128)          1132032     ['input_6[0][0]',                \n",
            "                                                                  'input_7[0][0]']                \n",
            "                                                                                                  \n",
            " concat_ancor_pos_neg (Concaten  (None, 384)         0           ['model_1[0][0]',                \n",
            " ate)                                                             'model[0][0]',                  \n",
            "                                                                  'model[1][0]']                  \n",
            "                                                                                                  \n",
            "==================================================================================================\n",
            "Total params: 1,862,400\n",
            "Trainable params: 1,862,400\n",
            "Non-trainable params: 0\n",
            "__________________________________________________________________________________________________\n"
          ]
        }
      ],
      "source": [
        "# общая модель\n",
        "model.summary()"
      ]
    },
    {
      "cell_type": "code",
      "execution_count": null,
      "id": "99d50830",
      "metadata": {
        "ExecuteTime": {
          "end_time": "2021-10-28T19:15:21.657529Z",
          "start_time": "2021-10-28T19:15:16.365923Z"
        },
        "colab": {
          "base_uri": "https://localhost:8080/"
        },
        "id": "99d50830",
        "outputId": "f5a8f48c-4d56-41ae-93e3-61fe9b07a7c7"
      },
      "outputs": [
        {
          "output_type": "stream",
          "name": "stdout",
          "text": [
            "Epoch 1/30\n",
            "100/100 [==============================] - 15s 120ms/step - loss: 0.3047 - lr: 0.0010\n",
            "Epoch 2/30\n",
            "100/100 [==============================] - 11s 114ms/step - loss: 0.2385 - lr: 0.0010\n",
            "Epoch 3/30\n",
            "100/100 [==============================] - 14s 145ms/step - loss: 0.2170 - lr: 0.0010\n",
            "Epoch 4/30\n",
            "100/100 [==============================] - 11s 113ms/step - loss: 0.1970 - lr: 0.0010\n",
            "Epoch 5/30\n",
            "100/100 [==============================] - 11s 114ms/step - loss: 0.1952 - lr: 0.0010\n",
            "Epoch 6/30\n",
            "100/100 [==============================] - 12s 121ms/step - loss: 0.1853 - lr: 0.0010\n",
            "Epoch 7/30\n",
            "100/100 [==============================] - 11s 110ms/step - loss: 0.1868 - lr: 0.0010\n",
            "Epoch 8/30\n",
            "100/100 [==============================] - 11s 113ms/step - loss: 0.1715 - lr: 0.0010\n",
            "Epoch 9/30\n",
            "100/100 [==============================] - 11s 110ms/step - loss: 0.1810 - lr: 0.0010\n",
            "Epoch 10/30\n",
            "100/100 [==============================] - 12s 121ms/step - loss: 0.1654 - lr: 0.0010\n",
            "Epoch 11/30\n",
            "100/100 [==============================] - 11s 115ms/step - loss: 0.1649 - lr: 0.0010\n",
            "Epoch 12/30\n",
            "100/100 [==============================] - 11s 109ms/step - loss: 0.1691 - lr: 0.0010\n",
            "Epoch 13/30\n",
            "100/100 [==============================] - 12s 117ms/step - loss: 0.1598 - lr: 0.0010\n",
            "Epoch 14/30\n",
            "100/100 [==============================] - 11s 115ms/step - loss: 0.1644 - lr: 0.0010\n",
            "Epoch 15/30\n",
            "100/100 [==============================] - 11s 109ms/step - loss: 0.1510 - lr: 0.0010\n",
            "Epoch 16/30\n",
            "100/100 [==============================] - 11s 110ms/step - loss: 0.1607 - lr: 0.0010\n",
            "Epoch 17/30\n",
            "100/100 [==============================] - 13s 128ms/step - loss: 0.1447 - lr: 0.0010\n",
            "Epoch 18/30\n",
            "100/100 [==============================] - 13s 135ms/step - loss: 0.1520 - lr: 0.0010\n",
            "Epoch 19/30\n",
            "100/100 [==============================] - ETA: 0s - loss: 0.1483\n",
            "Epoch 19: ReduceLROnPlateau reducing learning rate to 0.000800000037997961.\n",
            "100/100 [==============================] - 14s 143ms/step - loss: 0.1483 - lr: 0.0010\n",
            "Epoch 20/30\n",
            "100/100 [==============================] - 14s 145ms/step - loss: 0.1460 - lr: 8.0000e-04\n",
            "Epoch 21/30\n",
            "100/100 [==============================] - ETA: 0s - loss: 0.1467\n",
            "Epoch 21: ReduceLROnPlateau reducing learning rate to 0.0006400000303983689.\n",
            "100/100 [==============================] - 11s 110ms/step - loss: 0.1467 - lr: 8.0000e-04\n",
            "Epoch 22/30\n",
            "100/100 [==============================] - 11s 112ms/step - loss: 0.1368 - lr: 6.4000e-04\n",
            "Epoch 23/30\n",
            "100/100 [==============================] - 11s 114ms/step - loss: 0.1376 - lr: 6.4000e-04\n",
            "Epoch 24/30\n",
            "100/100 [==============================] - 12s 120ms/step - loss: 0.1298 - lr: 6.4000e-04\n",
            "Epoch 25/30\n",
            "100/100 [==============================] - 11s 112ms/step - loss: 0.1314 - lr: 6.4000e-04\n",
            "Epoch 26/30\n",
            "100/100 [==============================] - 12s 117ms/step - loss: 0.1275 - lr: 6.4000e-04\n",
            "Epoch 27/30\n",
            "100/100 [==============================] - 11s 112ms/step - loss: 0.1320 - lr: 6.4000e-04\n",
            "Epoch 28/30\n",
            "100/100 [==============================] - 13s 135ms/step - loss: 0.1221 - lr: 6.4000e-04\n",
            "Epoch 29/30\n",
            "100/100 [==============================] - 11s 115ms/step - loss: 0.1293 - lr: 6.4000e-04\n",
            "Epoch 30/30\n",
            "100/100 [==============================] - ETA: 0s - loss: 0.1240\n",
            "Epoch 30: ReduceLROnPlateau reducing learning rate to 0.0005120000336319208.\n",
            "100/100 [==============================] - 11s 111ms/step - loss: 0.1240 - lr: 6.4000e-04\n"
          ]
        },
        {
          "output_type": "execute_result",
          "data": {
            "text/plain": [
              "<keras.callbacks.History at 0x7f6e60934040>"
            ]
          },
          "metadata": {},
          "execution_count": 32
        }
      ],
      "source": [
        "# начинаем обучение, не забывая дропнуть столбцы item_id и user_id \n",
        "# из датафреймов при инициализации генератора.\n",
        "\n",
        "# batch_size можно (и лучше) поставить побольше, если вы не органичены в ресурсах\n",
        "\n",
        "model.fit(generator(items=items_ohe_df.drop([\"item_id\"], axis=1), \n",
        "                    users=users_ohe_df.drop([\"user_id\"], axis=1), \n",
        "                    interactions=interactions_vec,\n",
        "                    batch_size=64), \n",
        "          steps_per_epoch=100, \n",
        "          epochs=30, \n",
        "          initial_epoch=0,\n",
        "          callbacks=[decay, t_board, check]\n",
        ")"
      ]
    },
    {
      "cell_type": "code",
      "execution_count": null,
      "id": "94d23f62",
      "metadata": {
        "ExecuteTime": {
          "end_time": "2021-10-28T19:15:26.511958Z",
          "start_time": "2021-10-28T19:15:26.151899Z"
        },
        "colab": {
          "base_uri": "https://localhost:8080/"
        },
        "id": "94d23f62",
        "outputId": "672e605e-5037-4ff3-f88a-fe1d43ecff1f"
      },
      "outputs": [
        {
          "output_type": "stream",
          "name": "stdout",
          "text": [
            "1/1 [==============================] - 0s 104ms/step\n",
            "1/1 [==============================] - 0s 54ms/step\n"
          ]
        },
        {
          "output_type": "execute_result",
          "data": {
            "text/plain": [
              "array([[1.0313677]], dtype=float32)"
            ]
          },
          "metadata": {},
          "execution_count": 33
        }
      ],
      "source": [
        "# берем рандомного юзера\n",
        "rand_uid = np.random.choice(list(users_ohe_df.index))\n",
        "\n",
        "# получаем фичи юзера и вектор его просмотров айтемов\n",
        "user_meta_feats = users_ohe_df.drop([\"user_id\"], axis=1).iloc[rand_uid]\n",
        "user_interaction_vec = interactions_vec[rand_uid]\n",
        "\n",
        "# берем рандомный айтем\n",
        "rand_iid = np.random.choice(list(items_ohe_df.index))\n",
        "# получаем фичи айтема\n",
        "item_feats = items_ohe_df.drop([\"item_id\"], axis=1).iloc[rand_iid]\n",
        "\n",
        "# получаем вектор юзера\n",
        "user_vec = u2v.predict([np.array(user_meta_feats).reshape(1, -1), \n",
        "                        np.array(user_interaction_vec).reshape(1, -1)])\n",
        "\n",
        "# и вектор айтема\n",
        "item_vec = i2v.predict(np.array(item_feats).reshape(1, -1))\n",
        "\n",
        "# считаем расстояние между вектором юзера и вектором айтема\n",
        "from sklearn.metrics.pairwise import euclidean_distances as ED\n",
        "\n",
        "ED(user_vec, item_vec)"
      ]
    },
    {
      "cell_type": "code",
      "execution_count": null,
      "id": "d537d3e8",
      "metadata": {
        "ExecuteTime": {
          "end_time": "2021-10-28T19:15:28.951471Z",
          "start_time": "2021-10-28T19:15:27.763367Z"
        },
        "colab": {
          "base_uri": "https://localhost:8080/"
        },
        "id": "d537d3e8",
        "outputId": "0849d271-dd09-48fe-a044-f5a643c0b31f"
      },
      "outputs": [
        {
          "output_type": "stream",
          "name": "stdout",
          "text": [
            "166/166 [==============================] - 0s 2ms/step\n"
          ]
        }
      ],
      "source": [
        "# получаем фичи всех айтемов\n",
        "items_feats = items_ohe_df.drop([\"item_id\"], axis=1).to_numpy()\n",
        "# получаем векторы всех айтемов\n",
        "items_vecs = i2v.predict(items_feats)\n",
        "\n",
        "# считаем расстояния\n",
        "dists = ED(user_vec, items_vecs)"
      ]
    },
    {
      "cell_type": "code",
      "execution_count": null,
      "id": "udY36b_l0okL",
      "metadata": {
        "colab": {
          "base_uri": "https://localhost:8080/"
        },
        "id": "udY36b_l0okL",
        "outputId": "eff1d9c3-80dc-42ef-fc6f-3b182f357933"
      },
      "outputs": [
        {
          "output_type": "execute_result",
          "data": {
            "text/plain": [
              "(5303, 128)"
            ]
          },
          "metadata": {},
          "execution_count": 35
        }
      ],
      "source": [
        "items_vecs.shape"
      ]
    },
    {
      "cell_type": "code",
      "execution_count": null,
      "id": "XasFl6RN0snT",
      "metadata": {
        "id": "XasFl6RN0snT"
      },
      "outputs": [],
      "source": [
        "users_meta_feats = users_ohe_df.drop([\"user_id\"], axis=1)\n",
        "users_interaction_vec = interactions_vec"
      ]
    },
    {
      "cell_type": "code",
      "execution_count": null,
      "id": "cntEZU450_MI",
      "metadata": {
        "colab": {
          "base_uri": "https://localhost:8080/"
        },
        "id": "cntEZU450_MI",
        "outputId": "12a5fd94-24f6-4345-9271-bbae6b3df482"
      },
      "outputs": [
        {
          "output_type": "execute_result",
          "data": {
            "text/plain": [
              "(65552, 19)"
            ]
          },
          "metadata": {},
          "execution_count": 37
        }
      ],
      "source": [
        "users_meta_feats.shape"
      ]
    },
    {
      "cell_type": "code",
      "execution_count": null,
      "id": "kQ1EZolS1B1Y",
      "metadata": {
        "colab": {
          "base_uri": "https://localhost:8080/"
        },
        "id": "kQ1EZolS1B1Y",
        "outputId": "892eb403-df20-475a-f7e8-d3552217f2b4"
      },
      "outputs": [
        {
          "output_type": "execute_result",
          "data": {
            "text/plain": [
              "(65552, 5303)"
            ]
          },
          "metadata": {},
          "execution_count": 38
        }
      ],
      "source": [
        "users_interaction_vec.shape"
      ]
    },
    {
      "cell_type": "code",
      "execution_count": null,
      "id": "hKU4MD7M1dp5",
      "metadata": {
        "colab": {
          "base_uri": "https://localhost:8080/"
        },
        "id": "hKU4MD7M1dp5",
        "outputId": "3fec6151-3130-4e8a-dbd8-9cfd1d801e16"
      },
      "outputs": [
        {
          "output_type": "execute_result",
          "data": {
            "text/plain": [
              "(65552, 19)"
            ]
          },
          "metadata": {},
          "execution_count": 39
        }
      ],
      "source": [
        "np.array(users_meta_feats).shape"
      ]
    },
    {
      "cell_type": "code",
      "source": [
        "import gc\n",
        "gc.collect()"
      ],
      "metadata": {
        "colab": {
          "base_uri": "https://localhost:8080/"
        },
        "id": "4UedJbGFs-CO",
        "outputId": "c8a9d041-3a01-4d1c-b60d-dd0d73949b52"
      },
      "id": "4UedJbGFs-CO",
      "execution_count": null,
      "outputs": [
        {
          "output_type": "execute_result",
          "data": {
            "text/plain": [
              "1983"
            ]
          },
          "metadata": {},
          "execution_count": 40
        }
      ]
    },
    {
      "cell_type": "markdown",
      "source": [
        "на следующей ячейке коллаб вылетает"
      ],
      "metadata": {
        "id": "Koqsrb_FoTvr"
      },
      "id": "Koqsrb_FoTvr"
    },
    {
      "cell_type": "code",
      "execution_count": null,
      "id": "x16g5FM21XGJ",
      "metadata": {
        "id": "x16g5FM21XGJ"
      },
      "outputs": [],
      "source": [
        "users_vec = u2v.predict([np.array(users_meta_feats), \n",
        "                        np.array(users_interaction_vec)])"
      ]
    },
    {
      "cell_type": "code",
      "execution_count": null,
      "id": "2S-IAoJZ1x_N",
      "metadata": {
        "id": "2S-IAoJZ1x_N"
      },
      "outputs": [],
      "source": [
        "users_vec.shape"
      ]
    },
    {
      "cell_type": "code",
      "execution_count": null,
      "id": "G4pntPu10ogl",
      "metadata": {
        "id": "G4pntPu10ogl"
      },
      "outputs": [],
      "source": [
        "items_vecs.shape"
      ]
    },
    {
      "cell_type": "code",
      "execution_count": null,
      "id": "hnUX3Yte2Jcw",
      "metadata": {
        "id": "hnUX3Yte2Jcw"
      },
      "outputs": [],
      "source": [
        "dists = ED(users_vec, items_vecs)"
      ]
    },
    {
      "cell_type": "code",
      "execution_count": null,
      "id": "MDgiwnnu2KHk",
      "metadata": {
        "id": "MDgiwnnu2KHk"
      },
      "outputs": [],
      "source": [
        "dists.shape"
      ]
    },
    {
      "cell_type": "code",
      "execution_count": null,
      "id": "Ru8IQwSV2UrB",
      "metadata": {
        "id": "Ru8IQwSV2UrB"
      },
      "outputs": [],
      "source": [
        "top10_iids = np.argsort(dists, axis=1)[:,:10]"
      ]
    },
    {
      "cell_type": "code",
      "execution_count": null,
      "id": "pAzg23jU3TSo",
      "metadata": {
        "id": "pAzg23jU3TSo"
      },
      "outputs": [],
      "source": [
        "top10_iids.reshape(dists.shape[0], 10).shape"
      ]
    },
    {
      "cell_type": "code",
      "execution_count": null,
      "id": "l-yXdzmg7dlM",
      "metadata": {
        "id": "l-yXdzmg7dlM"
      },
      "outputs": [],
      "source": [
        "top10_iids"
      ]
    },
    {
      "cell_type": "code",
      "execution_count": null,
      "id": "ehH1-C-S6yE9",
      "metadata": {
        "id": "ehH1-C-S6yE9"
      },
      "outputs": [],
      "source": [
        "top10_iids.shape"
      ]
    },
    {
      "cell_type": "code",
      "execution_count": null,
      "id": "srptkYsFsk1V",
      "metadata": {
        "id": "srptkYsFsk1V"
      },
      "outputs": [],
      "source": [
        "top10_iids_item = [iid_to_item_id[iid] for iid in top10_iids.reshape(-1)]"
      ]
    },
    {
      "cell_type": "code",
      "execution_count": null,
      "id": "GWCz9zErskwn",
      "metadata": {
        "id": "GWCz9zErskwn"
      },
      "outputs": [],
      "source": [
        "top10_iids_item = np.array(top10_iids_item).reshape(top10_iids.shape)"
      ]
    },
    {
      "cell_type": "code",
      "execution_count": null,
      "id": "pNq_brUisknx",
      "metadata": {
        "id": "pNq_brUisknx"
      },
      "outputs": [],
      "source": [
        "top10_iids_item.shape"
      ]
    },
    {
      "cell_type": "code",
      "execution_count": null,
      "id": "z6ussvRSth2h",
      "metadata": {
        "id": "z6ussvRSth2h"
      },
      "outputs": [],
      "source": [
        "df_dssm = pd.DataFrame(columns = ['user_id', 'item_id'])"
      ]
    },
    {
      "cell_type": "code",
      "execution_count": null,
      "id": "Y9XvpPzRu82h",
      "metadata": {
        "id": "Y9XvpPzRu82h"
      },
      "outputs": [],
      "source": [
        "df_dssm.head()"
      ]
    },
    {
      "cell_type": "code",
      "execution_count": null,
      "id": "KieINSdwvIu7",
      "metadata": {
        "id": "KieINSdwvIu7"
      },
      "outputs": [],
      "source": [
        "df_dssm = pd.DataFrame({'user_id': [uid_to_user_id[uid] for uid in np.arange(top10_iids_item.shape[0])]})"
      ]
    },
    {
      "cell_type": "code",
      "execution_count": null,
      "id": "RSYHUj7IuzT1",
      "metadata": {
        "id": "RSYHUj7IuzT1"
      },
      "outputs": [],
      "source": [
        "df_dssm['item_id'] = list(top10_iids_item)"
      ]
    },
    {
      "cell_type": "code",
      "execution_count": null,
      "id": "xdPs4HY874OZ",
      "metadata": {
        "id": "xdPs4HY874OZ"
      },
      "outputs": [],
      "source": [
        "df_dssm = df_dssm.explode('item_id')\n",
        "df_dssm['rank'] = df_dssm.groupby('user_id').cumcount() + 1\n",
        "df_dssm = df_dssm.groupby('user_id').agg({'item_id': list}).reset_index()"
      ]
    },
    {
      "cell_type": "code",
      "execution_count": null,
      "id": "C8kdzzf6wAuz",
      "metadata": {
        "id": "C8kdzzf6wAuz"
      },
      "outputs": [],
      "source": [
        "df_dssm.head()"
      ]
    }
  ],
  "metadata": {
    "colab": {
      "provenance": []
    },
    "kernelspec": {
      "display_name": "Python 3",
      "name": "python3"
    },
    "language_info": {
      "name": "python"
    },
    "gpuClass": "standard",
    "accelerator": "GPU"
  },
  "nbformat": 4,
  "nbformat_minor": 5
}